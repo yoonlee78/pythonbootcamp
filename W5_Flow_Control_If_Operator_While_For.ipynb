{
 "cells": [
  {
   "cell_type": "markdown",
   "metadata": {},
   "source": [
    "# SPLIT Week 5\n",
    "# Flow Control : If, Operators, for, while loop\n",
    "\n",
    "### YK Lee\n",
    "### 2019 Spring\n"
   ]
  },
  {
   "cell_type": "markdown",
   "metadata": {},
   "source": [
    "Python에서는 주어진 조건이 True일때 실행될 수 있도록하는 의사결정을 프로그래밍할 때 조건문을 사용한다. \"조건문\" : 참과 거짓을 판단하는 문장을 뜻한다. 조건문에는 If...else, while, for 문이 있다. "
   ]
  },
  {
   "cell_type": "markdown",
   "metadata": {},
   "source": [
    "# I. if loop"
   ]
  },
  {
   "cell_type": "markdown",
   "metadata": {},
   "source": [
    "### 1. if...else statement"
   ]
  },
  {
   "cell_type": "markdown",
   "metadata": {},
   "source": [
    "if...else문은 다음과 같이 쓴다. \n",
    "\n",
    "    if test_statement:\n",
    "        execution1\n",
    "        execution2\n",
    "        ...\n",
    "        "
   ]
  },
  {
   "cell_type": "code",
   "execution_count": null,
   "metadata": {},
   "outputs": [],
   "source": []
  },
  {
   "cell_type": "markdown",
   "metadata": {},
   "source": [
    "<img src = \"https://cdn.programiz.com/sites/tutorial2program/files/Python_if_statement.jpg\">"
   ]
  },
  {
   "cell_type": "markdown",
   "metadata": {},
   "source": [
    "- 실행 논리 : \n",
    "    - ```if```의 조건문인```test_statement```이 참인지 거짓인지를 평가한다. ```test_statement```이 참(```True```)일 때 ```if```문의 명령이 실행된다. \n",
    "    - 만일, ```test_statement```이 ```False``` 일 경우, ```execution```은 실행되지 않는다. \n",
    "\n",
    "\n",
    "표기 방법 및 주의 : \n",
    "\n",
    "1. ```if``` 절 아래 들어가는 (```body```에 해당되는)내용들은 모두 indentation이 되어야한다. 파이썬은 들여쓰기에 민감하다. 얼마나 들여썼냐에 따라 조건문의 모습 뿐만 아니라 실행되는 순서도 모두 달라진다.  \n",
    "\n",
    "2. 모든 if 문은 반드시 조건문 다음에 \"```:```\"을 붙인다.**"
   ]
  },
  {
   "cell_type": "markdown",
   "metadata": {},
   "source": [
    "### 2. if..else statement"
   ]
  },
  {
   "cell_type": "markdown",
   "metadata": {},
   "source": [
    "```if``` 문 아래 조건을 추가하고 싶을 때 ```else```, ```elif``` 등을 쓴다. \n",
    "\n",
    "```if...else``` 문은 아래와 같이 쓴다. "
   ]
  },
  {
   "cell_type": "markdown",
   "metadata": {},
   "source": [
    "    if test_statement:\n",
    "        execution x\n",
    "    else:\n",
    "        execution y"
   ]
  },
  {
   "cell_type": "markdown",
   "metadata": {},
   "source": [
    "<img src = \"https://cdn.programiz.com/sites/tutorial2program/files/Python_if_else_statement.jpg\">"
   ]
  },
  {
   "cell_type": "markdown",
   "metadata": {},
   "source": [
    "- 실행 논리 : \n",
    "\n",
    "    - if ```test_statement``` 문이 ```True```일 때만 ```if```문에 해당되는 명령(```execution x```)이 실행된다.\n",
    "\n",
    "    - 만일 if 문이 ```False```일 경우, else문의 명령(```execution y```)이 실행된다. "
   ]
  },
  {
   "cell_type": "markdown",
   "metadata": {},
   "source": [
    "### 3. if..elif..else statement"
   ]
  },
  {
   "cell_type": "markdown",
   "metadata": {},
   "source": [
    "```if..elif..else``` 문은 아래와 같이 쓴다. "
   ]
  },
  {
   "cell_type": "markdown",
   "metadata": {},
   "source": [
    "    if test 1:\n",
    "        execution x\n",
    "    elif test n:\n",
    "        body of elif\n",
    "    elif test n+1:\n",
    "        body of elif:\n",
    "    elif test n+2:\n",
    "        body of elif:\n",
    "        ...\n",
    "    ...\n",
    "    else test 3:\n",
    "        execution y"
   ]
  },
  {
   "cell_type": "markdown",
   "metadata": {},
   "source": [
    "<img src = \"https://cdn.programiz.com/sites/tutorial2program/files/Python_if_elif_else_statement.jpg\">"
   ]
  },
  {
   "cell_type": "markdown",
   "metadata": {},
   "source": [
    "- ```elif``` 는 'else if'의 줄임말이다. 여러개의 조건을 넣고싶을때 사용할 수 있는 조건문이다. \n",
    "\n",
    "    - ```if```문의 조건이 ```False``` 일 경우, 다음 ```elif```문에 있는 조건을 확인한다. \n",
    "\n",
    "    - 만약 모든 조건이 다 ```False``` 일 경우, ```else```문의 ```body of else```를 실행한다. \n",
    "\n",
    "    - 각 조건문 (if, elif, else)는 하나의 조건문만 할당할 수 있다. \n",
    "\n",
    "- **```if```문은 오직 하나의 ```else``` 문만 가질 수 있지만 여러개의 ```elif```문을 가질 수 있다. **\n"
   ]
  },
  {
   "cell_type": "markdown",
   "metadata": {},
   "source": [
    "# II. Operators"
   ]
  },
  {
   "cell_type": "markdown",
   "metadata": {},
   "source": [
    "Python에서 수리적/논리적 연산을 할 때 사용할 수 있는 기호와 문법에 대해 알아보자"
   ]
  },
  {
   "cell_type": "markdown",
   "metadata": {},
   "source": [
    "## 1. Arithematic Operators \n",
    "#### 수리연산자 <br>\n",
    "\"W2. 자료형\" 의 1. 숫자형 자료 부분 참조 "
   ]
  },
  {
   "cell_type": "markdown",
   "metadata": {},
   "source": [
    "## 2. Comparison Operators\n",
    "#### 비교연산자"
   ]
  },
  {
   "cell_type": "markdown",
   "metadata": {},
   "source": [
    "|비교연산자|설명|\n",
    "|--------|:---:|\n",
    "|x < y |x가 y보다 작음|\n",
    "|x > y| x가 y보다 크다|\n",
    "|x == y| x와 y가 같다|\n",
    "|x!=y| x와 y가 같지 않다|\n",
    "|x>=y|x가 y보다 크거나 같다|\n",
    "|x<=y|x가 y보다 작거나 같다|"
   ]
  },
  {
   "cell_type": "code",
   "execution_count": 135,
   "metadata": {},
   "outputs": [],
   "source": [
    "#예시 1\n",
    "x = 10\n",
    "y = 11"
   ]
  },
  {
   "cell_type": "code",
   "execution_count": 136,
   "metadata": {},
   "outputs": [
    {
     "data": {
      "text/plain": [
       "True"
      ]
     },
     "execution_count": 136,
     "metadata": {},
     "output_type": "execute_result"
    }
   ],
   "source": [
    "x < y"
   ]
  },
  {
   "cell_type": "code",
   "execution_count": 137,
   "metadata": {},
   "outputs": [
    {
     "data": {
      "text/plain": [
       "False"
      ]
     },
     "execution_count": 137,
     "metadata": {},
     "output_type": "execute_result"
    }
   ],
   "source": [
    "x > y"
   ]
  },
  {
   "cell_type": "code",
   "execution_count": 138,
   "metadata": {},
   "outputs": [
    {
     "data": {
      "text/plain": [
       "False"
      ]
     },
     "execution_count": 138,
     "metadata": {},
     "output_type": "execute_result"
    }
   ],
   "source": [
    "x == y"
   ]
  },
  {
   "cell_type": "code",
   "execution_count": 139,
   "metadata": {},
   "outputs": [
    {
     "data": {
      "text/plain": [
       "True"
      ]
     },
     "execution_count": 139,
     "metadata": {},
     "output_type": "execute_result"
    }
   ],
   "source": [
    "x != y"
   ]
  },
  {
   "cell_type": "code",
   "execution_count": 140,
   "metadata": {},
   "outputs": [
    {
     "data": {
      "text/plain": [
       "True"
      ]
     },
     "execution_count": 140,
     "metadata": {},
     "output_type": "execute_result"
    }
   ],
   "source": [
    "x <= y"
   ]
  },
  {
   "cell_type": "code",
   "execution_count": 141,
   "metadata": {},
   "outputs": [
    {
     "data": {
      "text/plain": [
       "False"
      ]
     },
     "execution_count": 141,
     "metadata": {},
     "output_type": "execute_result"
    }
   ],
   "source": [
    "x >= y"
   ]
  },
  {
   "cell_type": "code",
   "execution_count": 146,
   "metadata": {},
   "outputs": [
    {
     "name": "stdout",
     "output_type": "stream",
     "text": [
      "밖에 나가지 마세요\n"
     ]
    }
   ],
   "source": [
    "#예시 2\n",
    "#temp = 오늘의 날씨 \n",
    "\n",
    "temp = 23\n",
    "if temp <= 0:\n",
    "    print(\"밖에 나가세요\")\n",
    "else:\n",
    "    print(\"밖에 나가지 마세요\")"
   ]
  },
  {
   "cell_type": "markdown",
   "metadata": {},
   "source": [
    "## 3. Logical Operators\n",
    "#### 논리연산자 "
   ]
  },
  {
   "cell_type": "markdown",
   "metadata": {},
   "source": [
    "조건을 판단하기 위해 사용되는 연산자의 종류 - and, or, not \n",
    "\n",
    "|연산자|설명|\n",
    "|----|------|\n",
    "|x or y| x와 y 둘 중 하나만 참이면 참이다|\n",
    "|x and y| x와 y 모두 참이어야 참이다|\n",
    "|not x| x가 거짓이면 참이다|"
   ]
  },
  {
   "cell_type": "markdown",
   "metadata": {},
   "source": [
    "Truth Table : https://www.programiz.com/python-programming/keyword-list#and_or_not\n"
   ]
  },
  {
   "cell_type": "code",
   "execution_count": 151,
   "metadata": {},
   "outputs": [
    {
     "name": "stdout",
     "output_type": "stream",
     "text": [
      "밖에 나가세요\n"
     ]
    }
   ],
   "source": [
    "#춥지만 배고프면 나가라. \n",
    "#춥긴 하지만 배고프지 않으면 밖에 나가지 마라. \n",
    "#춥지는 않지만 배는 고프면 나가라. \n",
    "#춥지도 않고 배도 고프지 않으면 나가지 마라\n",
    "\n",
    "temp = 1\n",
    "hungry = True\n",
    "if temp >= 0 and hungry:\n",
    "    print(\"밖에 나가세요\")\n",
    "else:\n",
    "    print(\"밖에 나가지 마세요\")\n",
    "    \n",
    "#temp = -1일 경우 temp는 0보다 작지만 hungry가 true이기 때문에 if문이 참이 됨.\n",
    "#temp도 0보다 작고 hungry 도 false여야만 else문이 참이 됨. "
   ]
  },
  {
   "cell_type": "markdown",
   "metadata": {},
   "source": [
    "** 중급 이상) 팁 \n",
    "\n",
    "if문 한 줄로 작성하기 \n",
    "\n",
    "다음과 같은 조건문이 있다. \n",
    "\n",
    "``` if temp >= 0:\n",
    "        message = \"not cold!\"\n",
    "    else:\n",
    "        message = \"too cold!\"\n",
    "```"
   ]
  },
  {
   "cell_type": "markdown",
   "metadata": {},
   "source": [
    "파이썬의 조건부 표현식 (conditional expression)을 이용하면 위 코드를 다음과 같이 간단하게 쓸 수 있다. \n"
   ]
  },
  {
   "cell_type": "code",
   "execution_count": 148,
   "metadata": {},
   "outputs": [],
   "source": [
    "temp = 2\n",
    "message = \"not cold!\" if temp >=0 else \"too cold!\"\n",
    "\n",
    "#if 조건문이 참인 경우, if 조건문 else 조건문이 거짓인 경우"
   ]
  },
  {
   "cell_type": "code",
   "execution_count": 149,
   "metadata": {},
   "outputs": [
    {
     "data": {
      "text/plain": [
       "'not cold!'"
      ]
     },
     "execution_count": 149,
     "metadata": {},
     "output_type": "execute_result"
    }
   ],
   "source": [
    "message"
   ]
  },
  {
   "cell_type": "markdown",
   "metadata": {},
   "source": [
    "# II. For"
   ]
  },
  {
   "cell_type": "markdown",
   "metadata": {},
   "source": [
    "## 1. for loop\n",
    "\n",
    "```for``` loop은 아래와 같이 쓴다. \n",
    "\n",
    "    for x in list(or tuple, string)\n",
    "        execution 1\n",
    "        execution 2\n",
    "\n",
    "list,tuple,string의 첫 번째부터 마지막요소까지 차례로 수행이 된다. (execution1 execution 2..)\n",
    "\n",
    "<img src = \"https://cdn.programiz.com/sites/tutorial2program/files/forLoop.jpg\">"
   ]
  },
  {
   "cell_type": "markdown",
   "metadata": {},
   "source": [
    "- for문 역시 끝에 ```\":\"```을 붙여줘야한다. \n",
    "- 또한 identation에 주의한다. "
   ]
  },
  {
   "cell_type": "markdown",
   "metadata": {},
   "source": [
    "### 2. for문과 list"
   ]
  },
  {
   "cell_type": "code",
   "execution_count": 152,
   "metadata": {},
   "outputs": [
    {
     "name": "stdout",
     "output_type": "stream",
     "text": [
      "jan\n",
      "feb\n",
      "march\n",
      "april\n"
     ]
    }
   ],
   "source": [
    "months = [\"jan\", \"feb\", \"march\", \"april\"]\n",
    "for m in months:\n",
    "    print(m)"
   ]
  },
  {
   "cell_type": "markdown",
   "metadata": {},
   "source": [
    "### 3. range() 함수 "
   ]
  },
  {
   "cell_type": "markdown",
   "metadata": {},
   "source": [
    "- range()함수는 자료의 범위를 생성해준다. range()에 정해준 범위 중 끝값은 제외한 채 출력된다. "
   ]
  },
  {
   "cell_type": "markdown",
   "metadata": {},
   "source": [
    "- range()함수는 아래와 같이 쓴다. \n",
    "\n",
    "        range(start(또는 생략),stop)\n",
    "        \n",
    "        or\n",
    "        \n",
    "        range(start,stop,step size)\n",
    "        "
   ]
  },
  {
   "cell_type": "code",
   "execution_count": 153,
   "metadata": {},
   "outputs": [
    {
     "name": "stdout",
     "output_type": "stream",
     "text": [
      "1\n",
      "2\n",
      "3\n",
      "4\n",
      "5\n",
      "6\n",
      "7\n",
      "8\n",
      "9\n"
     ]
    }
   ],
   "source": [
    "#기본적인 for문과 range()를 사용한 모습이다. \n",
    "for i in range(1,10):\n",
    "    print(i)"
   ]
  },
  {
   "cell_type": "code",
   "execution_count": 154,
   "metadata": {},
   "outputs": [
    {
     "data": {
      "text/plain": [
       "range(1, 10)"
      ]
     },
     "execution_count": 154,
     "metadata": {},
     "output_type": "execute_result"
    }
   ],
   "source": [
    "#range\n",
    "test1 = range(1,10)\n",
    "test1"
   ]
  },
  {
   "cell_type": "code",
   "execution_count": 155,
   "metadata": {},
   "outputs": [
    {
     "data": {
      "text/plain": [
       "range(0, 10)"
      ]
     },
     "execution_count": 155,
     "metadata": {},
     "output_type": "execute_result"
    }
   ],
   "source": [
    "test2 = range(10) \n",
    "test2"
   ]
  },
  {
   "cell_type": "code",
   "execution_count": 156,
   "metadata": {},
   "outputs": [
    {
     "data": {
      "text/plain": [
       "range(0, 0)"
      ]
     },
     "execution_count": 156,
     "metadata": {},
     "output_type": "execute_result"
    }
   ],
   "source": [
    "test3 = range(0) \n",
    "test3"
   ]
  },
  {
   "cell_type": "markdown",
   "metadata": {},
   "source": [
    "b. range() & len() & list()"
   ]
  },
  {
   "cell_type": "code",
   "execution_count": 157,
   "metadata": {},
   "outputs": [
    {
     "data": {
      "text/plain": [
       "range(0, 10)"
      ]
     },
     "execution_count": 157,
     "metadata": {},
     "output_type": "execute_result"
    }
   ],
   "source": [
    "range(0,10)"
   ]
  },
  {
   "cell_type": "code",
   "execution_count": 158,
   "metadata": {},
   "outputs": [
    {
     "data": {
      "text/plain": [
       "[0, 1, 2, 3, 4, 5, 6, 7, 8, 9]"
      ]
     },
     "execution_count": 158,
     "metadata": {},
     "output_type": "execute_result"
    }
   ],
   "source": [
    "list(range(10))"
   ]
  },
  {
   "cell_type": "code",
   "execution_count": 159,
   "metadata": {},
   "outputs": [
    {
     "data": {
      "text/plain": [
       "[2, 3, 4, 5, 6, 7]"
      ]
     },
     "execution_count": 159,
     "metadata": {},
     "output_type": "execute_result"
    }
   ],
   "source": [
    "list(range(2,8))"
   ]
  },
  {
   "cell_type": "code",
   "execution_count": 160,
   "metadata": {},
   "outputs": [
    {
     "data": {
      "text/plain": [
       "3"
      ]
     },
     "execution_count": 160,
     "metadata": {},
     "output_type": "execute_result"
    }
   ],
   "source": [
    "text = [\"text\",2,3]\n",
    "len(text)"
   ]
  },
  {
   "cell_type": "markdown",
   "metadata": {},
   "source": [
    "- range()와 len()\n",
    "    - [len()함수]( https://docs.python.org/ko/3.6/library/functions.html#len)는 임의의 입력값 x의 길이(항목의 전체 개수)를 돌려주는 함수이다. \n",
    "\n",
    "    - 인자는 시퀀스 (문자열, 바이트열, 튜플, 리스트 또는 range 같은) 또는 컬렉션 (딕셔너리, 집합 또는 불변 집합 같은) 일 수 있습니다. \n",
    "\n",
    "    - range()와 len()는 아래와 같이 사용할 수 있다. "
   ]
  },
  {
   "cell_type": "code",
   "execution_count": 161,
   "metadata": {},
   "outputs": [
    {
     "ename": "TypeError",
     "evalue": "'list' object cannot be interpreted as an integer",
     "output_type": "error",
     "traceback": [
      "\u001b[0;31m---------------------------------------------------------------------------\u001b[0m",
      "\u001b[0;31mTypeError\u001b[0m                                 Traceback (most recent call last)",
      "\u001b[0;32m<ipython-input-161-e307fe9df9c6>\u001b[0m in \u001b[0;36m<module>\u001b[0;34m()\u001b[0m\n\u001b[0;32m----> 1\u001b[0;31m \u001b[0mrange\u001b[0m\u001b[0;34m(\u001b[0m\u001b[0mtext\u001b[0m\u001b[0;34m)\u001b[0m\u001b[0;34m\u001b[0m\u001b[0;34m\u001b[0m\u001b[0m\n\u001b[0m",
      "\u001b[0;31mTypeError\u001b[0m: 'list' object cannot be interpreted as an integer"
     ]
    }
   ],
   "source": [
    "range(text)"
   ]
  },
  {
   "cell_type": "code",
   "execution_count": 162,
   "metadata": {},
   "outputs": [
    {
     "data": {
      "text/plain": [
       "range(0, 3)"
      ]
     },
     "execution_count": 162,
     "metadata": {},
     "output_type": "execute_result"
    }
   ],
   "source": [
    "range(len(text))"
   ]
  },
  {
   "cell_type": "code",
   "execution_count": 163,
   "metadata": {},
   "outputs": [
    {
     "name": "stdout",
     "output_type": "stream",
     "text": [
      "봄학기의 0번째\n",
      "봄학기의 1번째\n",
      "봄학기의 2번째\n",
      "봄학기의 3번째\n",
      "봄학기의 4번째\n"
     ]
    }
   ],
   "source": [
    "\n",
    "months=[\"jan\",\"feb\",\"march\",\"april\",\"may\"]\n",
    "for i in range(len(months)) :\n",
    "    print('봄학기의 {}번째'.format(i))\n",
    "    "
   ]
  },
  {
   "cell_type": "code",
   "execution_count": 164,
   "metadata": {},
   "outputs": [
    {
     "name": "stdout",
     "output_type": "stream",
     "text": [
      "봄학기의 1번째 달은 jan\n",
      "봄학기의 2번째 달은 feb\n",
      "봄학기의 3번째 달은 march\n",
      "봄학기의 4번째 달은 april\n",
      "봄학기의 5번째 달은 may\n"
     ]
    }
   ],
   "source": [
    "\n",
    "months=[\"jan\",\"feb\",\"march\",\"april\",\"may\"]\n",
    "\n",
    "\n",
    "for i in range(len(months)):\n",
    "    name = months[i]\n",
    "    print('봄학기의 {}번째 달은 {}'.format(i+1,name))\n",
    "    "
   ]
  },
  {
   "cell_type": "code",
   "execution_count": 165,
   "metadata": {},
   "outputs": [
    {
     "name": "stdout",
     "output_type": "stream",
     "text": [
      "jan\n",
      "feb\n",
      "march\n",
      "april\n",
      "may\n"
     ]
    }
   ],
   "source": [
    "months=[\"jan\",\"feb\",\"march\",\"april\",\"may\"]\n",
    "\n",
    "for name in months :\n",
    "    print('{}'.format(name))\n"
   ]
  },
  {
   "cell_type": "code",
   "execution_count": 166,
   "metadata": {},
   "outputs": [
    {
     "name": "stdout",
     "output_type": "stream",
     "text": [
      "봄학기의 1번째 달은 jan\n",
      "봄학기의 2번째 달은 feb\n",
      "봄학기의 3번째 달은 march\n",
      "봄학기의 4번째 달은 april\n",
      "봄학기의 5번째 달은 may\n"
     ]
    }
   ],
   "source": [
    "#위치와 값도 같이 필요할 땐 enumerate()를 쓴다. \n",
    "months=[\"jan\",\"feb\",\"march\",\"april\",\"may\"]\n",
    "for i, name in enumerate(months):\n",
    "    print('봄학기의 {}번째 달은 {}'.format(i+1, name))\n"
   ]
  },
  {
   "cell_type": "code",
   "execution_count": 167,
   "metadata": {},
   "outputs": [
    {
     "name": "stdout",
     "output_type": "stream",
     "text": [
      "My favorite cafe is Starbucks\n",
      "My favorite cafe is a Twosome Place\n",
      "My favorite cafe is Cafe MaMa's\n"
     ]
    }
   ],
   "source": [
    "#먼저 리스트 하나를 생성\n",
    "mycafe = [\"Starbucks\", \"a Twosome Place\", \"Cafe MaMa's\"]\n",
    "\n",
    "#for loop에 range를 정해주고 인덱싱을 참조하면서 반복할 수 있게 len()사용\n",
    "for cafe in range(len(mycafe)):\n",
    "    print(\"My favorite cafe is\", mycafe[cafe])\n"
   ]
  },
  {
   "cell_type": "markdown",
   "metadata": {},
   "source": [
    "위와 같이 mycafe에 있는 요소의 개수(항목 수)는 3개 이므로\n",
    "range(len(mycafe))는 range(3)이 된다. "
   ]
  },
  {
   "cell_type": "markdown",
   "metadata": {},
   "source": [
    "### 4. for loop with else, break"
   ]
  },
  {
   "cell_type": "markdown",
   "metadata": {},
   "source": [
    "- ```for``` loop 도 else 블록을 가질 수 있다. \n",
    "\n",
    "- ```for``` loop에서 실행될 것이 끝난 후  ```else``` block이 실행된다. \n",
    "\n",
    "- ```for``` loop 을 정지하고 싶을 때, ```break```문을 사용할 수도 있다. 이럴때 ```else block```은 무시된다. 즉, ```else```block은 ```break```이 없을 때 실행된다. \n",
    "\n",
    "##### for, else, break은 다음과 같이 쓴다. "
   ]
  },
  {
   "cell_type": "code",
   "execution_count": 168,
   "metadata": {},
   "outputs": [
    {
     "name": "stdout",
     "output_type": "stream",
     "text": [
      "0\n",
      "1\n",
      "2\n",
      "3\n",
      "4\n",
      "else statement\n"
     ]
    }
   ],
   "source": [
    "#for, else만 있는 경우 \n",
    "\n",
    "for mylist in range(0,5):\n",
    "    print(mylist)\n",
    "else :\n",
    "    print(\"else statement\")"
   ]
  },
  {
   "cell_type": "code",
   "execution_count": 169,
   "metadata": {},
   "outputs": [
    {
     "name": "stdout",
     "output_type": "stream",
     "text": [
      "0\n",
      "1\n",
      "2\n",
      "3\n"
     ]
    }
   ],
   "source": [
    "#break문을 만나는 경우 \n",
    "\n",
    "for mylist in range(0,5):\n",
    "    print(mylist)\n",
    "    if mylist == 3:\n",
    "        break;\n",
    "else :\n",
    "    print(\"else statement\")"
   ]
  },
  {
   "cell_type": "markdown",
   "metadata": {},
   "source": [
    "# III. While loop"
   ]
  },
  {
   "cell_type": "markdown",
   "metadata": {},
   "source": [
    "list에 있는 모든 요소를 실행하는 for문에 비해, while문은 특정 조건이 True일때 실행된다. 조건이 False일때 while loop은 멈춘다. "
   ]
  },
  {
   "cell_type": "markdown",
   "metadata": {},
   "source": [
    "### 1. syntax of while loop\n",
    "\n",
    "while loop은 아래와 같이 쓴다. \n",
    "\n",
    "    while test_statement:\n",
    "        execution1\n",
    "        execution2\n",
    "        ...\n",
    "\n",
    "```statement``` 에 주어진 조건이 ```True```일때만 ```execution```들이 실행된다. 한 번  iteration이 끝난 후, ```statement```는 다시 평가되고, \n",
    "```statement```가 ```False```가 될때까지 이 작업은 반복된다. "
   ]
  },
  {
   "cell_type": "markdown",
   "metadata": {},
   "source": [
    "<img src=\"https://cdn.programiz.com/sites/tutorial2program/files/whileLoopFlowchart.jpg\">"
   ]
  },
  {
   "cell_type": "markdown",
   "metadata": {},
   "source": [
    "### 2. while loop 활용\n"
   ]
  },
  {
   "cell_type": "markdown",
   "metadata": {},
   "source": [
    "while loop 예시"
   ]
  },
  {
   "cell_type": "code",
   "execution_count": 170,
   "metadata": {},
   "outputs": [
    {
     "name": "stdout",
     "output_type": "stream",
     "text": [
      "1\n",
      "2\n",
      "3\n",
      "4\n",
      "5\n"
     ]
    }
   ],
   "source": [
    "i = 1\n",
    "while i < 6:\n",
    "    print(i)\n",
    "    i += 1\n",
    "    #i = i + 1 "
   ]
  },
  {
   "cell_type": "markdown",
   "metadata": {},
   "source": [
    "### 3. while loop, else, break"
   ]
  },
  {
   "cell_type": "code",
   "execution_count": 171,
   "metadata": {},
   "outputs": [
    {
     "name": "stdout",
     "output_type": "stream",
     "text": [
      "남은 게임 횟수는 4회입니다\n",
      "남은 게임 횟수는 3회입니다\n",
      "남은 게임 횟수는 2회입니다\n",
      "남은 게임 횟수는 1회입니다\n",
      "남은 게임 횟수는 0회입니다\n"
     ]
    }
   ],
   "source": [
    "game = 5\n",
    "money = 180\n",
    "\n",
    "#조건 1. money <= 100 \n",
    "if money <= 100 :\n",
    "                print(\"돈 가져와\")\n",
    "else :\n",
    "#조건 2. money > 100 \n",
    "    while game: \n",
    "game = game -1\n",
    "        print(\"남은 게임 횟수는 {}회입니다\".format(game))\n"
   ]
  },
  {
   "cell_type": "markdown",
   "metadata": {},
   "source": [
    "## 실습"
   ]
  },
  {
   "cell_type": "markdown",
   "metadata": {},
   "source": [
    "실습 1. <br>\n",
    "주어진 범위까지 모두 합하는 프로그램을 만들어보자. \n",
    "\n",
    "counter는 i, 최대값은 m\n",
    "\n",
    "입력을 받고 싶으면 ``` m = int(input(\"Enter m: \"))```으로 정의해도 된다. "
   ]
  },
  {
   "cell_type": "code",
   "execution_count": 173,
   "metadata": {},
   "outputs": [
    {
     "name": "stdout",
     "output_type": "stream",
     "text": [
      "enter m:10\n"
     ]
    }
   ],
   "source": [
    "m = int(input(\"enter m:\"))"
   ]
  },
  {
   "cell_type": "code",
   "execution_count": null,
   "metadata": {},
   "outputs": [],
   "source": [
    "m = 10 "
   ]
  },
  {
   "cell_type": "markdown",
   "metadata": {},
   "source": [
    "실습 3-1. <br>\n",
    "과일 바구니에서 - **사과, 사과, 배, 바나나, 바나나, 배, 배, 딸기, 수박, 배** 순서로 과일을 꺼내서 출력해보자."
   ]
  },
  {
   "cell_type": "code",
   "execution_count": null,
   "metadata": {},
   "outputs": [],
   "source": []
  },
  {
   "cell_type": "markdown",
   "metadata": {},
   "source": [
    "실습 3-2. \n",
    "\n",
    "**배는 2+1 행사**를 하고 있다. 그걸 반영해서 출력해보자."
   ]
  },
  {
   "cell_type": "code",
   "execution_count": null,
   "metadata": {},
   "outputs": [],
   "source": []
  }
 ],
 "metadata": {
  "kernelspec": {
   "display_name": "Python 3",
   "language": "python",
   "name": "python3"
  },
  "language_info": {
   "codemirror_mode": {
    "name": "ipython",
    "version": 3
   },
   "file_extension": ".py",
   "mimetype": "text/x-python",
   "name": "python",
   "nbconvert_exporter": "python",
   "pygments_lexer": "ipython3",
   "version": "3.6.8"
  }
 },
 "nbformat": 4,
 "nbformat_minor": 2
}
