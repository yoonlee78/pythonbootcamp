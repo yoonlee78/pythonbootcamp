{
 "cells": [
  {
   "cell_type": "markdown",
   "metadata": {},
   "source": [
    "실습 예제 답"
   ]
  },
  {
   "cell_type": "markdown",
   "metadata": {},
   "source": [
    "W2. Numbers and String\n"
   ]
  },
  {
   "cell_type": "code",
   "execution_count": null,
   "metadata": {},
   "outputs": [],
   "source": [
    "#1.  \n",
    "a = 80 #국어\n",
    "b = 72 #영어\n",
    "c = 94 #과학\n",
    "(a+b+c)/3"
   ]
  },
  {
   "cell_type": "code",
   "execution_count": null,
   "metadata": {},
   "outputs": [],
   "source": [
    "#2\n",
    "print('\"Hello.\" he said.')\n",
    "print('''\"Hello.\" he said.''')\n",
    "print(\"\"\"\"Hello.\" he said.\"\"\")"
   ]
  },
  {
   "cell_type": "code",
   "execution_count": null,
   "metadata": {},
   "outputs": [],
   "source": [
    "#3-1\n",
    "\n",
    "sent1 = \"My friend\\'s brother said \\\"hi\\\" to me.\"\n",
    "print(sent1)"
   ]
  },
  {
   "cell_type": "code",
   "execution_count": null,
   "metadata": {},
   "outputs": [],
   "source": [
    "#3-2\n",
    "\n",
    "sent2 = 'Mori\\'s favorite food is mango'\n",
    "print(sent2)"
   ]
  },
  {
   "cell_type": "code",
   "execution_count": null,
   "metadata": {},
   "outputs": [],
   "source": [
    "#4\n",
    "a=\"저는\"\n",
    "b=\" 이윤경입니다\"\n",
    "a+b"
   ]
  },
  {
   "cell_type": "code",
   "execution_count": null,
   "metadata": {},
   "outputs": [],
   "source": [
    "#5\n",
    "b = \"9\"\n",
    "b*3"
   ]
  },
  {
   "cell_type": "code",
   "execution_count": null,
   "metadata": {},
   "outputs": [],
   "source": [
    "#6\n",
    "c = \"\"\"기상청은 눈이 그치면 정월대보름 달을 볼 수 있을 것으로 전망했습니다. \n",
    "오후에 잠시 해가 들기도 했는데 저녁부터는 전국에 또 먹구름이 짙게 끼는 곳이 많이 있습니다.\"\"\"\n",
    "len(c)\n"
   ]
  },
  {
   "cell_type": "markdown",
   "metadata": {},
   "source": [
    "W3 String_Expression_Methods_and_Formatting"
   ]
  },
  {
   "cell_type": "code",
   "execution_count": null,
   "metadata": {},
   "outputs": [],
   "source": [
    "#1\n",
    "a = \"20190221Week2Note\"\n",
    "date = a[:8]\n",
    "week = a[8:13]\n",
    "note = a[-4:]\n",
    "print(date)\n",
    "print(week)\n",
    "print(note)"
   ]
  },
  {
   "cell_type": "code",
   "execution_count": null,
   "metadata": {},
   "outputs": [],
   "source": [
    "#2-1\n",
    "pin = \"790708-1849231\"\n",
    "pin_birth = pin[:6]\n",
    "pin_rest = pin[7:]\n",
    "pin_birth"
   ]
  },
  {
   "cell_type": "code",
   "execution_count": null,
   "metadata": {},
   "outputs": [],
   "source": [
    "#2-2\n",
    "pin[7]"
   ]
  },
  {
   "cell_type": "code",
   "execution_count": null,
   "metadata": {},
   "outputs": [],
   "source": [
    "#3\n",
    "\"I went to the gym {a} times with {b} last week\".format(3, friend = \"Tom\")"
   ]
  },
  {
   "cell_type": "code",
   "execution_count": null,
   "metadata": {},
   "outputs": [],
   "source": [
    "#4-1\n",
    "\n",
    "j = \"A:Journal:of:Experimental:Psychology\"\n",
    "j.replace(\":\",\" \")\n"
   ]
  },
  {
   "cell_type": "code",
   "execution_count": null,
   "metadata": {},
   "outputs": [],
   "source": [
    "#4-2\n",
    "\n",
    "paper = \"A recent article in the Psychonomic Society’s journal Attention, Perception, & Psychophysics explored the mechanisms underlying this spreading of sparing to positions beyond lag 1. Researchers Manuel Petrucci and Anna Pecchinenda departed from the observation in the literature that performance on T1 is better when it is an emotional stimulus—such as an emotional word or face—than when it is neutral. An emotional T1 also magnifies the attentional blink by further reducing detection performance on T2. Conversely, if T2 is itself an emotional stimulus, the attentional blink is reduced. Both of these findings are readily explained within a “limited-resource” account on which an emotional word attracts additional attention that is then unavailable for processing elsewhere. On the resource account, processing of a negatively-valenced T1 should consume additional attention that boosts T1 performance but to the detriment of both T2 and T3. By contrast, if resource-limitations are not the driving factor underlying the attentional blink, then the fact that all three targets are identified by the same color might enable them to be subsumed within the same attentional episode, thus sparing them from the attentional blink. Indeed, performance on T2 and T3 might even be enhanced on this account if T1 is an emotional word because it leads to particularly vigorous processing of the attentional episode. The results confirmed that the negatively-valenced T1 was detected with significantly greater accuracy than the neutral T1, although the difference was slight (88.3% vs. 86.5%). This confirms that the valence manipulation was successful and it is what would be expected under either account. The more intriguing outcome is shown in the next figure which plots performance on T3 conditional on correct report of T1 and T2.\"\n",
    "\n",
    "t1count = paper.count(\"T1\")\n",
    "t2count = paper.count(\"T2\")\n",
    "print(t1count) #숫자 확인\n",
    "\n",
    "target1 = paper.replace(\"T1\",\"Target1\")\n",
    "target2 = paper.replace(\"T2\",\"Target2\")\n",
    "\n",
    "print(target2.count(\"Target2\")) #대치 확인\n",
    "\n"
   ]
  },
  {
   "cell_type": "markdown",
   "metadata": {},
   "source": [
    "W4 List_Tuple_Dictionary_Set"
   ]
  },
  {
   "cell_type": "markdown",
   "metadata": {},
   "source": [
    "실습 1. "
   ]
  },
  {
   "cell_type": "code",
   "execution_count": null,
   "metadata": {},
   "outputs": [],
   "source": [
    "#1\n",
    "multiple = [1,2,3,['my','name','is','Yoon']] #list안에 list포함시키기\n",
    "print(multiple[0])\n",
    "print(multiple[1])\n",
    "print(multiple[-1])"
   ]
  },
  {
   "cell_type": "code",
   "execution_count": null,
   "metadata": {},
   "outputs": [],
   "source": [
    "#2\n",
    "print(multiple[-1][-1])#multiple list의 마지막 리스트의 첫번째"
   ]
  },
  {
   "cell_type": "code",
   "execution_count": null,
   "metadata": {},
   "outputs": [],
   "source": [
    "#3\n",
    "\n",
    "cafe = [\"seoul\", \"daejeon\", [100, 120, [\"Ediya\", \"Starbucks\"]]]\n",
    "cafe[-1][-1][-1]"
   ]
  },
  {
   "cell_type": "code",
   "execution_count": null,
   "metadata": {},
   "outputs": [],
   "source": [
    "#4\n",
    "\n",
    "myplace = [\"TX\", ['Houston', 'Chicago'], [\"30181\", \"US\"]]\n",
    "mycity = myplace[1]\n",
    "mycode = myplace[-1][0]\n",
    "print(mycity)\n",
    "print(mycode)"
   ]
  },
  {
   "cell_type": "markdown",
   "metadata": {},
   "source": [
    "실습 2. "
   ]
  },
  {
   "cell_type": "code",
   "execution_count": null,
   "metadata": {},
   "outputs": [],
   "source": [
    "#1 \n",
    "t1 = (4,5,6,\"me\",\"yoon\")\n"
   ]
  },
  {
   "cell_type": "code",
   "execution_count": null,
   "metadata": {},
   "outputs": [],
   "source": [
    "#2\n",
    "t1[0]"
   ]
  },
  {
   "cell_type": "code",
   "execution_count": null,
   "metadata": {},
   "outputs": [],
   "source": [
    "#3\n",
    "t1[-1]"
   ]
  },
  {
   "cell_type": "code",
   "execution_count": null,
   "metadata": {},
   "outputs": [],
   "source": [
    "#4\n",
    "t1*5"
   ]
  },
  {
   "cell_type": "code",
   "execution_count": null,
   "metadata": {},
   "outputs": [],
   "source": [
    "#5\n",
    "t1[1] = \"green tea\""
   ]
  },
  {
   "cell_type": "markdown",
   "metadata": {},
   "source": [
    "실습 3."
   ]
  },
  {
   "cell_type": "code",
   "execution_count": null,
   "metadata": {},
   "outputs": [],
   "source": [
    "#1\n",
    "set1= {45, 62, 24, 22, 110}"
   ]
  },
  {
   "cell_type": "code",
   "execution_count": null,
   "metadata": {},
   "outputs": [],
   "source": [
    "#2\n",
    "set2 = {52, 25, 45, 110, 111}"
   ]
  },
  {
   "cell_type": "code",
   "execution_count": null,
   "metadata": {},
   "outputs": [],
   "source": [
    "#3\n",
    "set1 & set2"
   ]
  },
  {
   "cell_type": "code",
   "execution_count": null,
   "metadata": {},
   "outputs": [],
   "source": [
    "#4\n",
    "set1 | set2"
   ]
  },
  {
   "cell_type": "code",
   "execution_count": null,
   "metadata": {},
   "outputs": [],
   "source": [
    "#5\n",
    "set2 - set1\n",
    "#or set1-set2"
   ]
  },
  {
   "cell_type": "code",
   "execution_count": null,
   "metadata": {},
   "outputs": [],
   "source": [
    "#6\n",
    "set1.add(220)"
   ]
  },
  {
   "cell_type": "code",
   "execution_count": null,
   "metadata": {},
   "outputs": [],
   "source": [
    "#7\n",
    "set2.update([220,221,222])"
   ]
  },
  {
   "cell_type": "code",
   "execution_count": null,
   "metadata": {},
   "outputs": [],
   "source": [
    "#8\n",
    "set2[1] #unordered 자료형, 인덱싱을 지원하지 않음. "
   ]
  },
  {
   "cell_type": "markdown",
   "metadata": {},
   "source": [
    "W5. Loop"
   ]
  },
  {
   "cell_type": "code",
   "execution_count": 2,
   "metadata": {
    "scrolled": true
   },
   "outputs": [
    {
     "name": "stdout",
     "output_type": "stream",
     "text": [
      "Enter m: 14\n",
      "1\n",
      "2\n",
      "3\n",
      "4\n",
      "5\n",
      "6\n",
      "7\n",
      "8\n",
      "9\n",
      "10\n",
      "11\n",
      "12\n",
      "13\n",
      "14\n",
      "The total is 105\n"
     ]
    }
   ],
   "source": [
    "#1\n",
    "#Program to add natural\n",
    "# numbers upto \n",
    "# sum = 1+2+3+...+n\n",
    "# To take input from the user,\n",
    "# m = int(input(\"Enter m: \"))\n",
    "\n",
    "m = int(input(\"Enter m: \"))\n",
    "add = 0 # initialize sum and counter\n",
    "i = 1\n",
    "\n",
    "while i <= m:\n",
    "    add = add + i\n",
    "    print(i)\n",
    "    i = i + 1    # update counter\n",
    "\n",
    "# print the sum\n",
    "print(\"The total is\", add)"
   ]
  },
  {
   "cell_type": "code",
   "execution_count": null,
   "metadata": {},
   "outputs": [],
   "source": [
    "#2-1\n",
    "\n",
    "fruit = ['사과', '사과', '배', '바나나', '바나나', '배', '배', '딸기', '수박', '배']\n",
    "\n",
    "for f in fruit :\n",
    "    print(e)"
   ]
  },
  {
   "cell_type": "code",
   "execution_count": null,
   "metadata": {},
   "outputs": [],
   "source": [
    "#2-2\n",
    "cnt = 0\n",
    "for e in bsk :\n",
    "    print(e)\n",
    "    if e == '배' :\n",
    "        cnt = cnt + 1\n",
    "        if cnt%2==0 :\n",
    "            print(\"-- 2+1 행사 중입니다! 배 하나 더 드려요~\")         "
   ]
  },
  {
   "cell_type": "markdown",
   "metadata": {},
   "source": [
    "W6. Functions_and_files"
   ]
  },
  {
   "cell_type": "code",
   "execution_count": null,
   "metadata": {},
   "outputs": [],
   "source": [
    "#1\n",
    "def countdown(n):\n",
    "    a=n\n",
    "    while a>= 0:\n",
    "        print(a,end=\" \")\n",
    "        a=a-1\n",
    "        \n",
    "countdown(9)"
   ]
  },
  {
   "cell_type": "code",
   "execution_count": null,
   "metadata": {},
   "outputs": [],
   "source": [
    "#2\n",
    "def signal(word) :\n",
    "    if word == 'signal' :\n",
    "        return '보내'\n",
    "    else :\n",
    "        return word"
   ]
  },
  {
   "cell_type": "code",
   "execution_count": null,
   "metadata": {},
   "outputs": [],
   "source": [
    "s = input(\"입력 : \")\n",
    "r = signal(s)\n",
    "print(\"출력 : %s\" %(r))"
   ]
  },
  {
   "cell_type": "code",
   "execution_count": null,
   "metadata": {},
   "outputs": [],
   "source": [
    "#3. \n",
    "with open(\"test.txt\", 'w') as f :\n",
    "    f.write(\"Life is too short\")\n",
    "\n",
    "with open(\"test.txt\", 'r') as f :\n",
    "    print(f.read())"
   ]
  },
  {
   "cell_type": "code",
   "execution_count": null,
   "metadata": {},
   "outputs": [],
   "source": [
    "#4. \n",
    "with open(\"sample.txt\", 'w') as f :\n",
    "    for n in [70, 60, 55, 75, 95, 90, 80, 80, 85, 100] :\n",
    "        f.write(str(n)+\"\\n\")"
   ]
  },
  {
   "cell_type": "code",
   "execution_count": null,
   "metadata": {},
   "outputs": [],
   "source": [
    "%cat sample.txt"
   ]
  },
  {
   "cell_type": "code",
   "execution_count": null,
   "metadata": {},
   "outputs": [],
   "source": [
    "#5. \n",
    "with open(\"sample.txt\", 'r') as f :\n",
    "    num_list = []\n",
    "    for line in f :\n",
    "        num = int(line.strip())\n",
    "        num_list.append(num)\n",
    "        \n",
    "print(num_list)\n",
    "total = sum(num_list)\n",
    "print(total)\n",
    "n_total = len(num_list)\n",
    "print(n_total)\n",
    "avg = total / n_total\n",
    "print(avg)"
   ]
  },
  {
   "cell_type": "code",
   "execution_count": null,
   "metadata": {},
   "outputs": [],
   "source": [
    "with open(\"sample.txt\", 'a') as f :\n",
    "    f.write(\"-----\\n\")\n",
    "    f.write(str(total)+'\\n')\n",
    "    f.write(str(avg)+'\\n')"
   ]
  },
  {
   "cell_type": "code",
   "execution_count": null,
   "metadata": {},
   "outputs": [],
   "source": [
    "%cat sample.txt"
   ]
  },
  {
   "cell_type": "markdown",
   "metadata": {},
   "source": [
    "W7 Class"
   ]
  },
  {
   "cell_type": "markdown",
   "metadata": {},
   "source": [
    "##### MyNum Class"
   ]
  },
  {
   "cell_type": "code",
   "execution_count": null,
   "metadata": {},
   "outputs": [],
   "source": [
    "class MyNum() :\n",
    "    def __init__(self, num) :\n",
    "        self.value = num\n",
    "        \n",
    "    def print(self) :\n",
    "        print(self.value)"
   ]
  },
  {
   "cell_type": "code",
   "execution_count": null,
   "metadata": {},
   "outputs": [],
   "source": [
    "one = MyNum(1)\n",
    "two = MyNum(2)\n",
    "three = MyNum(3)"
   ]
  },
  {
   "cell_type": "code",
   "execution_count": null,
   "metadata": {},
   "outputs": [],
   "source": [
    "one.print()"
   ]
  },
  {
   "cell_type": "code",
   "execution_count": null,
   "metadata": {},
   "outputs": [],
   "source": [
    "two.print()"
   ]
  },
  {
   "cell_type": "code",
   "execution_count": null,
   "metadata": {},
   "outputs": [],
   "source": [
    "three.print()"
   ]
  },
  {
   "cell_type": "code",
   "execution_count": null,
   "metadata": {},
   "outputs": [],
   "source": [
    "print(one.value + two.value + three.value)"
   ]
  },
  {
   "cell_type": "markdown",
   "metadata": {},
   "source": [
    "#### MyCorpus Class"
   ]
  },
  {
   "cell_type": "code",
   "execution_count": null,
   "metadata": {},
   "outputs": [],
   "source": [
    "import os\n",
    "\n",
    "class MyCorpus() :\n",
    "    def __init__(self, dir_path, ext) :\n",
    "        self._dir_path = dir_path\n",
    "        self._ext = ext    \n",
    "        self._raw_fn_list = []\n",
    "        self._docs = {}\n",
    "        self._voca = {}\n",
    "        \n",
    "        self.update_info()\n",
    "    \n",
    "    def update_info(self) :\n",
    "        fn_list = os.listdir(self._dir_path)\n",
    "        for fn in fn_list :\n",
    "            ext = fn.split(\".\")[1]\n",
    "            if ext == self._ext :\n",
    "                if not fn in self._raw_fn_list :\n",
    "                    self._raw_fn_list.append(fn)\n",
    "                    self._docs[fn] = None\n",
    "           \n",
    "    def info(self) :\n",
    "        print(\"코퍼스 디렉토리 : %s\" %(self._dir_path))\n",
    "        print(\"rawdata 확장자 : %s\" %(self._ext))\n",
    "        print(\"rawdata list : \")\n",
    "        for raw_fn in self._raw_fn_list :\n",
    "            print(\" --\", raw_fn)\n",
    "        print(\"docs : \")\n",
    "        for fn, doc in self._docs.items() :\n",
    "            if doc == None :\n",
    "                info = 0\n",
    "            else :\n",
    "                info = len(doc)\n",
    "            print(\" -- %s, %d\" %(fn, info))\n",
    "        print(\"voca :\")\n",
    "        word_tot = len(self._voca)\n",
    "        print(\" -- %d words\", word_tot)\n",
    "    \n",
    "    def _read_rawfile(self, fn) :\n",
    "        with open(fn, 'r') as f :\n",
    "            doc = f.read()\n",
    "        \n",
    "        return doc\n",
    "    \n",
    "    def _update_voca(self, doc) :\n",
    "        for word in doc.split() :\n",
    "            cnt = self._voca.get(word)\n",
    "            if cnt == None :\n",
    "                cnt = 0\n",
    "            else :\n",
    "                cnt = cnt + 1\n",
    "            \n",
    "            self._voca[word] = cnt\n",
    "        \n",
    "    def read(self) :\n",
    "        for fn, doc in self._docs.items() :\n",
    "            if doc == None :\n",
    "                doc = self._read_rawfile(fn)\n",
    "                self._docs[fn] = doc\n",
    "                self._update_voca(doc)\n",
    "        \n",
    "                \n",
    "    def get_doc(self, fn) :\n",
    "        return self._docs.get(fn)\n",
    "    \n",
    "    def get_voca(self) :\n",
    "        return self._voca"
   ]
  },
  {
   "cell_type": "code",
   "execution_count": null,
   "metadata": {},
   "outputs": [],
   "source": [
    "cps = MyCorpus('./', 'txt')"
   ]
  },
  {
   "cell_type": "code",
   "execution_count": null,
   "metadata": {},
   "outputs": [],
   "source": [
    "cps.info()"
   ]
  },
  {
   "cell_type": "code",
   "execution_count": null,
   "metadata": {},
   "outputs": [],
   "source": [
    "cps.read()"
   ]
  },
  {
   "cell_type": "code",
   "execution_count": null,
   "metadata": {},
   "outputs": [],
   "source": [
    "cps.info()"
   ]
  },
  {
   "cell_type": "code",
   "execution_count": null,
   "metadata": {},
   "outputs": [],
   "source": [
    "voca = cps.get_voca()\n",
    "voca"
   ]
  },
  {
   "cell_type": "markdown",
   "metadata": {},
   "source": [
    "W8 Numpy_and_Pandas_Quick_Intro"
   ]
  },
  {
   "cell_type": "code",
   "execution_count": null,
   "metadata": {},
   "outputs": [],
   "source": [
    "import pandas as pd\n",
    "data = {'state': ['Ohio', 'Ohio', 'Ohio', 'Nevada', 'Nevada'], 'year': [2000, 2001, 2002, 2001, 2002],\n",
    "'pop': [1.5, 1.7, 3.6, 2.4, 2.9]}\n",
    "sp = pd.DataFrame(data)"
   ]
  },
  {
   "cell_type": "code",
   "execution_count": null,
   "metadata": {},
   "outputs": [],
   "source": [
    "#1.\n",
    "sp.describe"
   ]
  },
  {
   "cell_type": "code",
   "execution_count": null,
   "metadata": {},
   "outputs": [],
   "source": [
    "#2.\n",
    "sp['state'].describe()"
   ]
  },
  {
   "cell_type": "code",
   "execution_count": null,
   "metadata": {},
   "outputs": [],
   "source": [
    "#3.\n",
    "sp.dtypes"
   ]
  },
  {
   "cell_type": "code",
   "execution_count": null,
   "metadata": {},
   "outputs": [],
   "source": [
    "#4.\n",
    "sp['state'].tolist()"
   ]
  },
  {
   "cell_type": "code",
   "execution_count": null,
   "metadata": {},
   "outputs": [],
   "source": [
    "#5.\n",
    "sp['state'].unique()"
   ]
  },
  {
   "cell_type": "code",
   "execution_count": null,
   "metadata": {},
   "outputs": [],
   "source": [
    "#6.\n",
    "sp['pop'].mean()"
   ]
  },
  {
   "cell_type": "code",
   "execution_count": null,
   "metadata": {},
   "outputs": [],
   "source": [
    "#7.\n",
    "sp['pop'].max()"
   ]
  },
  {
   "cell_type": "code",
   "execution_count": null,
   "metadata": {},
   "outputs": [],
   "source": [
    "#8. \n",
    "sp['pop'].quantile(.2)"
   ]
  },
  {
   "cell_type": "code",
   "execution_count": null,
   "metadata": {},
   "outputs": [],
   "source": [
    "#9.\n",
    "sp['state']=='Ohio'"
   ]
  },
  {
   "cell_type": "code",
   "execution_count": null,
   "metadata": {},
   "outputs": [],
   "source": [
    "#10. \n",
    "sp[sp['state']=='Ohio']"
   ]
  },
  {
   "cell_type": "code",
   "execution_count": null,
   "metadata": {},
   "outputs": [],
   "source": [
    "#11.\n",
    "new = sp[sp['state']=='Ohio']\n",
    "new"
   ]
  },
  {
   "cell_type": "code",
   "execution_count": null,
   "metadata": {},
   "outputs": [],
   "source": [
    "#12.\n",
    "sp[sp['pop']>2]"
   ]
  },
  {
   "cell_type": "code",
   "execution_count": null,
   "metadata": {},
   "outputs": [],
   "source": [
    "#13.\n",
    "sp[sp['state']=='Ohio']['pop'].mean()"
   ]
  },
  {
   "cell_type": "code",
   "execution_count": null,
   "metadata": {},
   "outputs": [],
   "source": [
    "#14.\n",
    "sp.loc[2,'pop'] = 3.4\n",
    "sp"
   ]
  }
 ],
 "metadata": {
  "kernelspec": {
   "display_name": "Python 3",
   "language": "python",
   "name": "python3"
  },
  "language_info": {
   "codemirror_mode": {
    "name": "ipython",
    "version": 3
   },
   "file_extension": ".py",
   "mimetype": "text/x-python",
   "name": "python",
   "nbconvert_exporter": "python",
   "pygments_lexer": "ipython3",
   "version": "3.6.8"
  }
 },
 "nbformat": 4,
 "nbformat_minor": 2
}
