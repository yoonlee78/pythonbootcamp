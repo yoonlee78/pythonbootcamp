{
 "cells": [
  {
   "cell_type": "markdown",
   "metadata": {},
   "source": [
    "실습 예제 답"
   ]
  },
  {
   "cell_type": "markdown",
   "metadata": {},
   "source": [
    "W2. Numbers and String\n"
   ]
  },
  {
   "cell_type": "code",
   "execution_count": 1,
   "metadata": {},
   "outputs": [
    {
     "data": {
      "text/plain": [
       "82.0"
      ]
     },
     "execution_count": 1,
     "metadata": {},
     "output_type": "execute_result"
    }
   ],
   "source": [
    "#1.  \n",
    "a = 80 #국어\n",
    "b = 72 #영어\n",
    "c = 94 #과학\n",
    "(a+b+c)/3"
   ]
  },
  {
   "cell_type": "code",
   "execution_count": 4,
   "metadata": {},
   "outputs": [
    {
     "name": "stdout",
     "output_type": "stream",
     "text": [
      "\"Hello.\" he said.\n",
      "\"Hello.\" he said.\n",
      "\"Hello.\" he said.\n"
     ]
    }
   ],
   "source": [
    "#2\n",
    "print('\"Hello.\" he said.')\n",
    "print('''\"Hello.\" he said.''')\n",
    "print(\"\"\"\"Hello.\" he said.\"\"\")"
   ]
  },
  {
   "cell_type": "code",
   "execution_count": null,
   "metadata": {},
   "outputs": [],
   "source": [
    "#3-1\n",
    "\n",
    "sent1 = \"My friend\\'s brother said \\\"hi\\\" to me.\"\n",
    "print(sent1)"
   ]
  },
  {
   "cell_type": "code",
   "execution_count": null,
   "metadata": {},
   "outputs": [],
   "source": [
    "#3-2\n",
    "\n",
    "sent2 = 'Mori\\'s favorite food is mango'\n",
    "print(sent2)"
   ]
  },
  {
   "cell_type": "code",
   "execution_count": null,
   "metadata": {},
   "outputs": [],
   "source": [
    "#4\n",
    "a=\"저는\"\n",
    "b=\" 이윤경입니다\"\n",
    "a+b"
   ]
  },
  {
   "cell_type": "code",
   "execution_count": null,
   "metadata": {},
   "outputs": [],
   "source": [
    "#5\n",
    "b = \"9\"\n",
    "b*3"
   ]
  },
  {
   "cell_type": "code",
   "execution_count": null,
   "metadata": {},
   "outputs": [],
   "source": [
    "#6\n",
    "c = \"\"\"기상청은 눈이 그치면 정월대보름 달을 볼 수 있을 것으로 전망했습니다. \n",
    "오후에 잠시 해가 들기도 했는데 저녁부터는 전국에 또 먹구름이 짙게 끼는 곳이 많이 있습니다.\"\"\"\n",
    "len(c)\n"
   ]
  },
  {
   "cell_type": "markdown",
   "metadata": {},
   "source": [
    "W3 String_Expression_Methods_and_Formatting"
   ]
  },
  {
   "cell_type": "code",
   "execution_count": null,
   "metadata": {},
   "outputs": [],
   "source": [
    "#1\n",
    "a = \"20190221Week2Note\"\n",
    "date = a[:8]\n",
    "week = a[8:13]\n",
    "note = a[-4:]\n",
    "print(date)\n",
    "print(week)\n",
    "print(note)"
   ]
  },
  {
   "cell_type": "code",
   "execution_count": null,
   "metadata": {},
   "outputs": [],
   "source": [
    "#2-1\n",
    "pin = \"790708-1849231\"\n",
    "pin_birth = pin[:6]\n",
    "pin_rest = pin[7:]\n",
    "pin_birth"
   ]
  },
  {
   "cell_type": "code",
   "execution_count": null,
   "metadata": {},
   "outputs": [],
   "source": [
    "#2-2\n",
    "pin[7]"
   ]
  },
  {
   "cell_type": "code",
   "execution_count": null,
   "metadata": {},
   "outputs": [],
   "source": [
    "#3\n",
    "\"I went to the gym {a} times with {b} last week\".format(3, friend = \"Tom\")"
   ]
  },
  {
   "cell_type": "code",
   "execution_count": null,
   "metadata": {},
   "outputs": [],
   "source": [
    "#4-1\n",
    "\n",
    "j = \"A:Journal:of:Experimental:Psychology\"\n",
    "j.replace(\":\",\" \")\n"
   ]
  },
  {
   "cell_type": "code",
   "execution_count": null,
   "metadata": {},
   "outputs": [],
   "source": [
    "#4-2\n",
    "\n",
    "paper = \"A recent article in the Psychonomic Society’s journal Attention, Perception, & Psychophysics explored the mechanisms underlying this spreading of sparing to positions beyond lag 1. Researchers Manuel Petrucci and Anna Pecchinenda departed from the observation in the literature that performance on T1 is better when it is an emotional stimulus—such as an emotional word or face—than when it is neutral. An emotional T1 also magnifies the attentional blink by further reducing detection performance on T2. Conversely, if T2 is itself an emotional stimulus, the attentional blink is reduced. Both of these findings are readily explained within a “limited-resource” account on which an emotional word attracts additional attention that is then unavailable for processing elsewhere. On the resource account, processing of a negatively-valenced T1 should consume additional attention that boosts T1 performance but to the detriment of both T2 and T3. By contrast, if resource-limitations are not the driving factor underlying the attentional blink, then the fact that all three targets are identified by the same color might enable them to be subsumed within the same attentional episode, thus sparing them from the attentional blink. Indeed, performance on T2 and T3 might even be enhanced on this account if T1 is an emotional word because it leads to particularly vigorous processing of the attentional episode. The results confirmed that the negatively-valenced T1 was detected with significantly greater accuracy than the neutral T1, although the difference was slight (88.3% vs. 86.5%). This confirms that the valence manipulation was successful and it is what would be expected under either account. The more intriguing outcome is shown in the next figure which plots performance on T3 conditional on correct report of T1 and T2.\"\n",
    "\n",
    "t1count = paper.count(\"T1\")\n",
    "t2count = paper.count(\"T2\")\n",
    "print(t1count) #숫자 확인\n",
    "\n",
    "target1 = paper.replace(\"T1\",\"Target1\")\n",
    "target2 = paper.replace(\"T2\",\"Target2\")\n",
    "\n",
    "print(target2.count(\"Target2\")) #대치 확인\n",
    "\n"
   ]
  },
  {
   "cell_type": "markdown",
   "metadata": {},
   "source": [
    "W4 List_Tuple_Dictionary_Set"
   ]
  },
  {
   "cell_type": "markdown",
   "metadata": {},
   "source": [
    "실습 1. "
   ]
  },
  {
   "cell_type": "code",
   "execution_count": 7,
   "metadata": {},
   "outputs": [
    {
     "name": "stdout",
     "output_type": "stream",
     "text": [
      "1\n",
      "2\n",
      "['my', 'name', 'is', 'Yoon']\n"
     ]
    }
   ],
   "source": [
    "#1\n",
    "multiple = [1,2,3,['my','name','is','Yoon']] #list안에 list포함시키기\n",
    "print(multiple[0])\n",
    "print(multiple[1])\n",
    "print(multiple[-1])"
   ]
  },
  {
   "cell_type": "code",
   "execution_count": 8,
   "metadata": {},
   "outputs": [
    {
     "name": "stdout",
     "output_type": "stream",
     "text": [
      "Yoon\n"
     ]
    }
   ],
   "source": [
    "#2\n",
    "print(multiple[-1][-1])#multiple list의 마지막 리스트의 첫번째"
   ]
  },
  {
   "cell_type": "code",
   "execution_count": 9,
   "metadata": {},
   "outputs": [
    {
     "data": {
      "text/plain": [
       "'Starbucks'"
      ]
     },
     "execution_count": 9,
     "metadata": {},
     "output_type": "execute_result"
    }
   ],
   "source": [
    "#3\n",
    "\n",
    "cafe = [\"seoul\", \"daejeon\", [100, 120, [\"Ediya\", \"Starbucks\"]]]\n",
    "cafe[-1][-1][-1]"
   ]
  },
  {
   "cell_type": "code",
   "execution_count": 12,
   "metadata": {},
   "outputs": [
    {
     "name": "stdout",
     "output_type": "stream",
     "text": [
      "['Houston', 'Chicago']\n",
      "30181\n"
     ]
    }
   ],
   "source": [
    "#4\n",
    "\n",
    "myplace = [\"TX\", ['Houston', 'Chicago'], [\"30181\", \"US\"]]\n",
    "mycity = myplace[1]\n",
    "mycode = myplace[-1][0]\n",
    "print(mycity)\n",
    "print(mycode)"
   ]
  },
  {
   "cell_type": "markdown",
   "metadata": {},
   "source": [
    "실습 2. "
   ]
  },
  {
   "cell_type": "code",
   "execution_count": 13,
   "metadata": {},
   "outputs": [],
   "source": [
    "#1 \n",
    "t1 = (4,5,6,\"me\",\"yoon\")\n"
   ]
  },
  {
   "cell_type": "code",
   "execution_count": 15,
   "metadata": {},
   "outputs": [
    {
     "data": {
      "text/plain": [
       "4"
      ]
     },
     "execution_count": 15,
     "metadata": {},
     "output_type": "execute_result"
    }
   ],
   "source": [
    "#2\n",
    "t1[0]"
   ]
  },
  {
   "cell_type": "code",
   "execution_count": 16,
   "metadata": {},
   "outputs": [
    {
     "data": {
      "text/plain": [
       "'yoon'"
      ]
     },
     "execution_count": 16,
     "metadata": {},
     "output_type": "execute_result"
    }
   ],
   "source": [
    "#3\n",
    "t1[-1]"
   ]
  },
  {
   "cell_type": "code",
   "execution_count": 17,
   "metadata": {},
   "outputs": [
    {
     "data": {
      "text/plain": [
       "(4,\n",
       " 5,\n",
       " 6,\n",
       " 'me',\n",
       " 'yoon',\n",
       " 4,\n",
       " 5,\n",
       " 6,\n",
       " 'me',\n",
       " 'yoon',\n",
       " 4,\n",
       " 5,\n",
       " 6,\n",
       " 'me',\n",
       " 'yoon',\n",
       " 4,\n",
       " 5,\n",
       " 6,\n",
       " 'me',\n",
       " 'yoon',\n",
       " 4,\n",
       " 5,\n",
       " 6,\n",
       " 'me',\n",
       " 'yoon')"
      ]
     },
     "execution_count": 17,
     "metadata": {},
     "output_type": "execute_result"
    }
   ],
   "source": [
    "#4\n",
    "t1*5"
   ]
  },
  {
   "cell_type": "code",
   "execution_count": 18,
   "metadata": {},
   "outputs": [
    {
     "ename": "TypeError",
     "evalue": "'tuple' object does not support item assignment",
     "output_type": "error",
     "traceback": [
      "\u001b[0;31m---------------------------------------------------------------------------\u001b[0m",
      "\u001b[0;31mTypeError\u001b[0m                                 Traceback (most recent call last)",
      "\u001b[0;32m<ipython-input-18-21ed9756ac40>\u001b[0m in \u001b[0;36m<module>\u001b[0;34m()\u001b[0m\n\u001b[0;32m----> 1\u001b[0;31m \u001b[0mt1\u001b[0m\u001b[0;34m[\u001b[0m\u001b[0;36m1\u001b[0m\u001b[0;34m]\u001b[0m \u001b[0;34m=\u001b[0m \u001b[0;34m\"green tea\"\u001b[0m\u001b[0;34m\u001b[0m\u001b[0;34m\u001b[0m\u001b[0m\n\u001b[0m",
      "\u001b[0;31mTypeError\u001b[0m: 'tuple' object does not support item assignment"
     ]
    }
   ],
   "source": [
    "#5\n",
    "t1[1] = \"green tea\""
   ]
  },
  {
   "cell_type": "markdown",
   "metadata": {},
   "source": [
    "실습 3."
   ]
  },
  {
   "cell_type": "code",
   "execution_count": 27,
   "metadata": {},
   "outputs": [],
   "source": [
    "#1\n",
    "set1= {45, 62, 24, 22, 110}"
   ]
  },
  {
   "cell_type": "code",
   "execution_count": 28,
   "metadata": {},
   "outputs": [],
   "source": [
    "#2\n",
    "set2 = {52, 25, 45, 110, 111}"
   ]
  },
  {
   "cell_type": "code",
   "execution_count": 29,
   "metadata": {},
   "outputs": [
    {
     "data": {
      "text/plain": [
       "{45, 110}"
      ]
     },
     "execution_count": 29,
     "metadata": {},
     "output_type": "execute_result"
    }
   ],
   "source": [
    "#3\n",
    "set1 & set2"
   ]
  },
  {
   "cell_type": "code",
   "execution_count": 30,
   "metadata": {},
   "outputs": [
    {
     "data": {
      "text/plain": [
       "{22, 24, 25, 45, 52, 62, 110, 111}"
      ]
     },
     "execution_count": 30,
     "metadata": {},
     "output_type": "execute_result"
    }
   ],
   "source": [
    "#4\n",
    "set1 | set2"
   ]
  },
  {
   "cell_type": "code",
   "execution_count": 31,
   "metadata": {},
   "outputs": [
    {
     "data": {
      "text/plain": [
       "{25, 52, 111}"
      ]
     },
     "execution_count": 31,
     "metadata": {},
     "output_type": "execute_result"
    }
   ],
   "source": [
    "#5\n",
    "set2 - set1\n",
    "#or set1-set2"
   ]
  },
  {
   "cell_type": "code",
   "execution_count": 32,
   "metadata": {},
   "outputs": [],
   "source": [
    "#6\n",
    "set1.add(220)"
   ]
  },
  {
   "cell_type": "code",
   "execution_count": 33,
   "metadata": {},
   "outputs": [],
   "source": [
    "#7\n",
    "set2.update([220,221,222])"
   ]
  },
  {
   "cell_type": "code",
   "execution_count": 34,
   "metadata": {},
   "outputs": [
    {
     "ename": "TypeError",
     "evalue": "'set' object does not support indexing",
     "output_type": "error",
     "traceback": [
      "\u001b[0;31m---------------------------------------------------------------------------\u001b[0m",
      "\u001b[0;31mTypeError\u001b[0m                                 Traceback (most recent call last)",
      "\u001b[0;32m<ipython-input-34-db2428459dfa>\u001b[0m in \u001b[0;36m<module>\u001b[0;34m()\u001b[0m\n\u001b[1;32m      1\u001b[0m \u001b[0;31m#8\u001b[0m\u001b[0;34m\u001b[0m\u001b[0;34m\u001b[0m\u001b[0;34m\u001b[0m\u001b[0m\n\u001b[0;32m----> 2\u001b[0;31m \u001b[0mset2\u001b[0m\u001b[0;34m[\u001b[0m\u001b[0;36m1\u001b[0m\u001b[0;34m]\u001b[0m\u001b[0;34m\u001b[0m\u001b[0;34m\u001b[0m\u001b[0m\n\u001b[0m",
      "\u001b[0;31mTypeError\u001b[0m: 'set' object does not support indexing"
     ]
    }
   ],
   "source": [
    "#8\n",
    "set2[1] #unordered 자료형, 인덱싱을 지원하지 않음. "
   ]
  },
  {
   "cell_type": "markdown",
   "metadata": {},
   "source": [
    "W5. Loop"
   ]
  },
  {
   "cell_type": "code",
   "execution_count": 35,
   "metadata": {},
   "outputs": [
    {
     "name": "stdout",
     "output_type": "stream",
     "text": [
      "Enter m: 10\n",
      "The total is 55\n"
     ]
    }
   ],
   "source": [
    "#1\n",
    "#Program to add natural\n",
    "# numbers upto \n",
    "# sum = 1+2+3+...+n\n",
    "# To take input from the user,\n",
    "# m = int(input(\"Enter m: \"))\n",
    "\n",
    "m = int(input(\"Enter m: \"))\n",
    "add_number = 0 # initialize sum and counter\n",
    "i = 1\n",
    "\n",
    "while i <= m:\n",
    "    add_number = add_number + i\n",
    "    i = i+1    # update counter\n",
    "\n",
    "# print the sum\n",
    "print(\"The total is\", add_number)"
   ]
  },
  {
   "cell_type": "code",
   "execution_count": null,
   "metadata": {},
   "outputs": [],
   "source": [
    "#2-1\n",
    "\n",
    "bsk = ['사과', '사과', '배', '바나나', '바나나', '배', '배', '딸기', '수박', '배']\n",
    "\n",
    "for e in bsk :\n",
    "    print(e)"
   ]
  },
  {
   "cell_type": "code",
   "execution_count": null,
   "metadata": {},
   "outputs": [],
   "source": [
    "#2-2\n",
    "\n",
    "cnt = 0\n",
    "for e in bsk :\n",
    "    print(e)\n",
    "    if e == '배' :\n",
    "        cnt = cnt + 1\n",
    "        if cnt%2==0 :\n",
    "            print(\"-- 2+1 행사 중입니다! 배 하나 더 드려요~\")\n",
    "            "
   ]
  },
  {
   "cell_type": "markdown",
   "metadata": {},
   "source": [
    "W6. Functions_and_files"
   ]
  },
  {
   "cell_type": "code",
   "execution_count": 36,
   "metadata": {},
   "outputs": [
    {
     "name": "stdout",
     "output_type": "stream",
     "text": [
      "9 8 7 6 5 4 3 2 1 0 "
     ]
    }
   ],
   "source": [
    "#1\n",
    "def countdown(n):\n",
    "    a=n\n",
    "    while a>= 0:\n",
    "        print(a,end=\" \")\n",
    "        a=a-1\n",
    "        \n",
    "countdown(9)"
   ]
  },
  {
   "cell_type": "code",
   "execution_count": null,
   "metadata": {},
   "outputs": [],
   "source": [
    "#2\n",
    "def signal(word) :\n",
    "    if word == 'signal' :\n",
    "        return '보내'\n",
    "    else :\n",
    "        return word"
   ]
  },
  {
   "cell_type": "code",
   "execution_count": null,
   "metadata": {},
   "outputs": [],
   "source": [
    "s = input(\"입력 : \")\n",
    "r = signal(s)\n",
    "print(\"출력 : %s\" %(r))"
   ]
  },
  {
   "cell_type": "code",
   "execution_count": null,
   "metadata": {},
   "outputs": [],
   "source": [
    "#3. \n",
    "with open(\"test.txt\", 'w') as f :\n",
    "    f.write(\"Life is too short\")\n",
    "\n",
    "with open(\"test.txt\", 'r') as f :\n",
    "    print(f.read())"
   ]
  },
  {
   "cell_type": "code",
   "execution_count": null,
   "metadata": {},
   "outputs": [],
   "source": [
    "#4. \n",
    "with open(\"sample.txt\", 'w') as f :\n",
    "    for n in [70, 60, 55, 75, 95, 90, 80, 80, 85, 100] :\n",
    "        f.write(str(n)+\"\\n\")"
   ]
  },
  {
   "cell_type": "code",
   "execution_count": null,
   "metadata": {},
   "outputs": [],
   "source": [
    "%cat sample.txt"
   ]
  },
  {
   "cell_type": "code",
   "execution_count": null,
   "metadata": {},
   "outputs": [],
   "source": [
    "#5. \n",
    "with open(\"sample.txt\", 'r') as f :\n",
    "    num_list = []\n",
    "    for line in f :\n",
    "        num = int(line.strip())\n",
    "        num_list.append(num)\n",
    "        \n",
    "print(num_list)\n",
    "total = sum(num_list)\n",
    "print(total)\n",
    "n_total = len(num_list)\n",
    "print(n_total)\n",
    "avg = total / n_total\n",
    "print(avg)"
   ]
  },
  {
   "cell_type": "code",
   "execution_count": null,
   "metadata": {},
   "outputs": [],
   "source": [
    "with open(\"sample.txt\", 'a') as f :\n",
    "    f.write(\"-----\\n\")\n",
    "    f.write(str(total)+'\\n')\n",
    "    f.write(str(avg)+'\\n')"
   ]
  },
  {
   "cell_type": "code",
   "execution_count": null,
   "metadata": {},
   "outputs": [],
   "source": [
    "%cat sample.txt"
   ]
  },
  {
   "cell_type": "markdown",
   "metadata": {},
   "source": [
    "W7 Class"
   ]
  },
  {
   "cell_type": "code",
   "execution_count": null,
   "metadata": {},
   "outputs": [],
   "source": []
  },
  {
   "cell_type": "code",
   "execution_count": null,
   "metadata": {},
   "outputs": [],
   "source": []
  },
  {
   "cell_type": "code",
   "execution_count": null,
   "metadata": {},
   "outputs": [],
   "source": []
  },
  {
   "cell_type": "markdown",
   "metadata": {},
   "source": [
    "W8 Numpy_and_Pandas_Quick_Intro"
   ]
  },
  {
   "cell_type": "code",
   "execution_count": null,
   "metadata": {},
   "outputs": [],
   "source": [
    "import pandas as pd\n",
    "data = {'state': ['Ohio', 'Ohio', 'Ohio', 'Nevada', 'Nevada'], 'year': [2000, 2001, 2002, 2001, 2002],\n",
    "'pop': [1.5, 1.7, 3.6, 2.4, 2.9]}\n",
    "sp = pd.DataFrame(data)"
   ]
  },
  {
   "cell_type": "code",
   "execution_count": null,
   "metadata": {},
   "outputs": [],
   "source": [
    "#1.\n",
    "sp.describe"
   ]
  },
  {
   "cell_type": "code",
   "execution_count": null,
   "metadata": {},
   "outputs": [],
   "source": [
    "#2.\n",
    "sp['state'].describe()"
   ]
  },
  {
   "cell_type": "code",
   "execution_count": null,
   "metadata": {},
   "outputs": [],
   "source": [
    "#3.\n",
    "sp.dtypes"
   ]
  },
  {
   "cell_type": "code",
   "execution_count": null,
   "metadata": {},
   "outputs": [],
   "source": [
    "#4.\n",
    "sp['state'].tolist()"
   ]
  },
  {
   "cell_type": "code",
   "execution_count": null,
   "metadata": {},
   "outputs": [],
   "source": [
    "#5.\n",
    "sp['state'].unique()"
   ]
  },
  {
   "cell_type": "code",
   "execution_count": null,
   "metadata": {},
   "outputs": [],
   "source": [
    "#6.\n",
    "sp['pop'].mean()"
   ]
  },
  {
   "cell_type": "code",
   "execution_count": null,
   "metadata": {},
   "outputs": [],
   "source": [
    "#7.\n",
    "sp['pop'].max()"
   ]
  },
  {
   "cell_type": "code",
   "execution_count": null,
   "metadata": {},
   "outputs": [],
   "source": [
    "#8. \n",
    "sp['pop'].quantile(.2)"
   ]
  },
  {
   "cell_type": "code",
   "execution_count": null,
   "metadata": {},
   "outputs": [],
   "source": [
    "#9.\n",
    "sp['state']=='Ohio'"
   ]
  },
  {
   "cell_type": "code",
   "execution_count": null,
   "metadata": {},
   "outputs": [],
   "source": [
    "#10. \n",
    "sp[sp['state']=='Ohio']"
   ]
  },
  {
   "cell_type": "code",
   "execution_count": null,
   "metadata": {},
   "outputs": [],
   "source": [
    "#11.\n",
    "new = sp[sp['state']=='Ohio']\n",
    "new"
   ]
  },
  {
   "cell_type": "code",
   "execution_count": null,
   "metadata": {},
   "outputs": [],
   "source": [
    "#12.\n",
    "sp[sp['pop']>2]"
   ]
  },
  {
   "cell_type": "code",
   "execution_count": null,
   "metadata": {},
   "outputs": [],
   "source": [
    "#13.\n",
    "sp[sp['state']=='Ohio']['pop'].mean()"
   ]
  },
  {
   "cell_type": "code",
   "execution_count": null,
   "metadata": {},
   "outputs": [],
   "source": [
    "#14.\n",
    "sp.loc[2,'pop'] = 3.4\n",
    "sp"
   ]
  }
 ],
 "metadata": {
  "kernelspec": {
   "display_name": "Python 3",
   "language": "python",
   "name": "python3"
  },
  "language_info": {
   "codemirror_mode": {
    "name": "ipython",
    "version": 3
   },
   "file_extension": ".py",
   "mimetype": "text/x-python",
   "name": "python",
   "nbconvert_exporter": "python",
   "pygments_lexer": "ipython3",
   "version": "3.6.8"
  }
 },
 "nbformat": 4,
 "nbformat_minor": 2
}
