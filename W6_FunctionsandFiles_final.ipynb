{
 "cells": [
  {
   "cell_type": "markdown",
   "metadata": {},
   "source": [
    "---\n",
    "\n",
    "## <font color = blue> Overview\n",
    "\n",
    "<font color = black>\n",
    "    \n",
    "###  1. Functions\n",
    "\n",
    "### 2. Files \n",
    "---"
   ]
  },
  {
   "cell_type": "markdown",
   "metadata": {},
   "source": [
    "### Functions (함수)\n",
    "\n",
    "<i>official : A series of statements which returns some value to a caller. It can also be passed zero or more arguments which may be used in the execution of the body. See also parameter, method, and the Function definitions section. </i>\n",
    "\n",
    "반복되게 사용할 부분만 따로 추출하여 입력값(input)을 주었을때  출력값(output)을 돌려줄 수 있게 함. \n",
    "\n",
    "In Python, <b>Function</b> is a block of organized, reusable code that is used to perform a single, related action. <br> Functions help break our program into smaller and modular chunks. As our program grows larger and larger, functions make it more organized and manageable.Furthermore, it avoids repetition and makes code reusable.If you anticipate needing to repeat the same or very similar code more than once, write a reusable function.<br>"
   ]
  },
  {
   "cell_type": "markdown",
   "metadata": {},
   "source": [
    "파이썬의 함수는 다음과 같이 쓴다. \n",
    "\n",
    "    def function_name(variable):\n",
    "        execution 1\n",
    "        execution 2\n",
    "        ...\n",
    "\n",
    "def는 함수용 파이썬 예약어이지만, 함수명(function_name)은 임의로 지정하면된다. 함수가 받는 매개변수(variable)은 함수가 받는 입력값의 변수이며 이 또한 임의로 지정하면 된다. \n",
    "\n"
   ]
  },
  {
   "cell_type": "code",
   "execution_count": null,
   "metadata": {},
   "outputs": [],
   "source": [
    "#예시 함수\n",
    "def add(a,b):\n",
    "    return a + b"
   ]
  },
  {
   "cell_type": "markdown",
   "metadata": {},
   "source": [
    "return()은 함수의 결과값을 반환한다. \n",
    "\n",
    "위 함수의 경우 \n",
    "\"함수명은 add, 입력값은 2개를 받으며 결과값은 2개의 입력값을 더한 값\"을 return한다. "
   ]
  },
  {
   "cell_type": "code",
   "execution_count": null,
   "metadata": {},
   "outputs": [],
   "source": [
    "#함수 사용\n",
    "a = 3\n",
    "b = 4\n",
    "c = add(a,b)\n",
    "print(c)"
   ]
  },
  {
   "cell_type": "markdown",
   "metadata": {},
   "source": [
    "### 1. 매개변수와 인수\n",
    "\n",
    "매개변수(parameter or variable)와 인수(arguments)\n",
    "\n",
    "매개변수는 함수에 입력으로 전달된 값을 받는 변수\n",
    "인수는 함수를 호출할 때 전달하는 입력값. \n"
   ]
  },
  {
   "cell_type": "code",
   "execution_count": null,
   "metadata": {
    "scrolled": true
   },
   "outputs": [],
   "source": [
    "def add(a,b): #a,b는 매개변수\n",
    "    return a+b\n",
    "print(add(3,4)) #3,4는 인수"
   ]
  },
  {
   "cell_type": "markdown",
   "metadata": {},
   "source": [
    "### 2. 입력값과 결과값에 따른 함수의 형태\n",
    "\n",
    "함수는 기본적으로 \n",
    "\n",
    "입력값 -> 함수 -> 리턴값 의 과정을 거친다. 이때, 입력값과 결과값의 존재 유무에 따라 4가지 유형으로 나뉜다. "
   ]
  },
  {
   "cell_type": "markdown",
   "metadata": {},
   "source": [
    "a. 일반적인 함수"
   ]
  },
  {
   "cell_type": "code",
   "execution_count": null,
   "metadata": {},
   "outputs": [],
   "source": [
    "def function_name(variable):\n",
    "    <execution>\n",
    "    ...\n",
    "    return output"
   ]
  },
  {
   "cell_type": "code",
   "execution_count": null,
   "metadata": {},
   "outputs": [],
   "source": [
    "#example \n",
    "\n",
    "def add(a,b):\n",
    "    result = a + b\n",
    "    return result"
   ]
  },
  {
   "cell_type": "code",
   "execution_count": null,
   "metadata": {},
   "outputs": [],
   "source": [
    "a = add(3,4)\n",
    "print(a)"
   ]
  },
  {
   "cell_type": "markdown",
   "metadata": {},
   "source": [
    "b. 입력값이 없는 함수\n",
    "    \n",
    "    결과값을 받을 변수 = 함수명()\n",
    "    "
   ]
  },
  {
   "cell_type": "code",
   "execution_count": null,
   "metadata": {},
   "outputs": [],
   "source": [
    "def say():\n",
    "    return 'Hi!'"
   ]
  },
  {
   "cell_type": "code",
   "execution_count": null,
   "metadata": {},
   "outputs": [],
   "source": [
    "a = say()\n",
    "a"
   ]
  },
  {
   "cell_type": "markdown",
   "metadata": {},
   "source": [
    "c. 결과값이 없는 함수\n",
    "\n",
    "    함수명(입력 인수1, 입력 인수 2...)\n",
    "    \n"
   ]
  },
  {
   "cell_type": "code",
   "execution_count": null,
   "metadata": {},
   "outputs": [],
   "source": [
    "def add(a,b):\n",
    "    print(\"%d와 %d의 합은 %d입니다\" %(a,b,a+b))"
   ]
  },
  {
   "cell_type": "code",
   "execution_count": null,
   "metadata": {},
   "outputs": [],
   "source": [
    "#함수를 호출해도 리턴값이 없기때문에 다음과 같이 사용\n",
    "add(3,4)"
   ]
  },
  {
   "cell_type": "code",
   "execution_count": null,
   "metadata": {},
   "outputs": [],
   "source": [
    "d. 입력값, 출력값 둘 다 없는 함수 \n",
    "\n",
    "    함수명()\n"
   ]
  },
  {
   "cell_type": "code",
   "execution_count": null,
   "metadata": {},
   "outputs": [],
   "source": [
    "def greet():\n",
    "    print(\"Hello!\")"
   ]
  },
  {
   "cell_type": "code",
   "execution_count": null,
   "metadata": {},
   "outputs": [],
   "source": [
    "greet()"
   ]
  },
  {
   "cell_type": "markdown",
   "metadata": {},
   "source": [
    "### 3. 매개변수 지정 후 호출"
   ]
  },
  {
   "cell_type": "code",
   "execution_count": null,
   "metadata": {},
   "outputs": [],
   "source": [
    "def add(a,b):\n",
    "    return a+b"
   ]
  },
  {
   "cell_type": "code",
   "execution_count": null,
   "metadata": {},
   "outputs": [],
   "source": [
    "result = add(a=3,b=4) #또는 순서에 상관없이 (b=4,a=3)도 가능\n",
    "print(result)"
   ]
  },
  {
   "cell_type": "markdown",
   "metadata": {},
   "source": [
    "### 4. 입력값의 개수를 모르는 경우 "
   ]
  },
  {
   "cell_type": "markdown",
   "metadata": {},
   "source": [
    "여러개의 입력값을 모두 더하는 함수를 만들어보자.\n",
    "\n",
    "함수 add_many(*매개변수) 를 생성해보자. 입력값은 몇 개든 상관없으며, 매개변수앞에 *를 붙이면 입력값을 전부 튜플로 만들어준다. \n",
    "\n",
    "add_many(1,2)라면 3을, add_many(1,2,3)이라면 6을, add_many(1,2,3,4,5,6,7,8,9,10)이라면 55를 돌려주는 함수를 만들어본다. \n"
   ]
  },
  {
   "cell_type": "code",
   "execution_count": null,
   "metadata": {},
   "outputs": [],
   "source": [
    "def add_many(*args):\n",
    "    result = 0\n",
    "    for i in args:\n",
    "        result = result + i \n",
    "    return result"
   ]
  },
  {
   "cell_type": "code",
   "execution_count": null,
   "metadata": {},
   "outputs": [],
   "source": [
    "result = add_many(1,2,3,5,9,10,12,14,5,6,2,3)\n",
    "print(result)"
   ]
  },
  {
   "cell_type": "code",
   "execution_count": null,
   "metadata": {},
   "outputs": [],
   "source": [
    "#여러개 매개변수도 사용 가능\n",
    "\n",
    "def add_mul(choice, *args): \n",
    "    if choice == \"add\":\n",
    "        result = 0\n",
    "        for i in args:\n",
    "            result = result + i\n",
    "    elif choice == \"mul\":\n",
    "        result = 1\n",
    "        for i in args: \n",
    "            result = result * i\n",
    "    return result\n"
   ]
  },
  {
   "cell_type": "code",
   "execution_count": null,
   "metadata": {},
   "outputs": [],
   "source": [
    "result = add_mul('add', 1,2,3,4,5) #\"add\"에만 해당되는 명령문만 실행\n",
    "print(result)"
   ]
  },
  {
   "cell_type": "code",
   "execution_count": null,
   "metadata": {},
   "outputs": [],
   "source": [
    "result = add_mul(\"mul\", 1,2,3,4,5) #\"mul\"에만 해당되는 명령문만 실행\n",
    "print(result)"
   ]
  },
  {
   "cell_type": "markdown",
   "metadata": {},
   "source": [
    "+ 옵션\n",
    "\n",
    "키워드 파라미터 keyward arguments (kwargs)\n"
   ]
  },
  {
   "cell_type": "markdown",
   "metadata": {},
   "source": [
    "    함수명(**매개변수명)\n",
    "\n",
    "매개변수명 앞에 ** 을 붙이면 그 매개변수는 딕셔너리가 되어 모든 형태의 입력인수가 key:value쌍으로 딕셔너리에 저장된다. "
   ]
  },
  {
   "cell_type": "code",
   "execution_count": null,
   "metadata": {},
   "outputs": [],
   "source": [
    "#매개변수 kwargs를 출력\n",
    "def print_kwargs(**kwargs):\n",
    "    print(kwargs)"
   ]
  },
  {
   "cell_type": "code",
   "execution_count": null,
   "metadata": {
    "scrolled": true
   },
   "outputs": [],
   "source": [
    "print_kwargs(a=1)"
   ]
  },
  {
   "cell_type": "code",
   "execution_count": null,
   "metadata": {},
   "outputs": [],
   "source": [
    "print_kwargs(name='foo',age=3)"
   ]
  },
  {
   "cell_type": "code",
   "execution_count": null,
   "metadata": {},
   "outputs": [],
   "source": [
    "total = 0 #Global variable total\n",
    "\n",
    "def localtotal (x, y):\n",
    "    total = x + y\n",
    "    return total;"
   ]
  },
  {
   "cell_type": "markdown",
   "metadata": {},
   "source": [
    "### 여러개의 값 한 번에 출력하기\n",
    "\n",
    "<div class = \"alert alert-block alert-info\">\n",
    "<font color = black>\n",
    "    \n",
    "you have several options when you are returning multiple values from a function\n",
    "1. Using a tuple\n",
    "2. Using a dictionary\n",
    "3. ~~Using a class~~\n",
    "4. Using a list"
   ]
  },
  {
   "cell_type": "code",
   "execution_count": null,
   "metadata": {},
   "outputs": [],
   "source": [
    "# 1. Using a tuple \n",
    "def f(x):\n",
    "    a = x + 1\n",
    "    b = x + 3\n",
    "    c = x + 5\n",
    "    return a, b, c\n",
    "f(5)"
   ]
  },
  {
   "cell_type": "code",
   "execution_count": null,
   "metadata": {},
   "outputs": [],
   "source": [
    "# 2. Using a dictionary \n",
    "def f2(x):\n",
    "    d = dict()\n",
    "    d['a'] = x + 1\n",
    "    d['b'] = x + 3\n",
    "    d['c'] = x + 5\n",
    "    return d\n",
    "f2(5)"
   ]
  },
  {
   "cell_type": "code",
   "execution_count": null,
   "metadata": {},
   "outputs": [],
   "source": [
    "# 4. Using a list\n",
    "def f3(x):\n",
    "    a = x + 1\n",
    "    b = x + 3\n",
    "    c = x + 5\n",
    "    return [a, b, c]\n",
    "f3(5)"
   ]
  },
  {
   "cell_type": "markdown",
   "metadata": {},
   "source": [
    "### 5.  함수의 결과값 "
   ]
  },
  {
   "cell_type": "markdown",
   "metadata": {},
   "source": [
    "a. 결과값과 return문\n",
    "\n",
    "함수의 결과값은 return 을 만나면 끝난다. 그렇기 때문에 결과값은 언제나 하나이다. \n",
    "\n",
    "예: 먼저 다음의 함수를 만들어본다. "
   ]
  },
  {
   "cell_type": "code",
   "execution_count": null,
   "metadata": {},
   "outputs": [],
   "source": [
    "def add_and_mul(a,b):\n",
    "    return a+b, a*b\n",
    "\n",
    "#add_and_mul함수는 2개의 입력 인수를 받아 더한 값과 곱한 값을 돌려주는 함수이다. "
   ]
  },
  {
   "cell_type": "code",
   "execution_count": null,
   "metadata": {},
   "outputs": [],
   "source": [
    "result = add_and_mul(3,4)\n",
    "result"
   ]
  },
  {
   "cell_type": "code",
   "execution_count": null,
   "metadata": {},
   "outputs": [],
   "source": [
    "# alternative format\n",
    "def add_and_mul(a,b):\n",
    "    return a+b\n",
    "    return a*b\n",
    "#f1(a=3,b=4)"
   ]
  },
  {
   "cell_type": "code",
   "execution_count": null,
   "metadata": {},
   "outputs": [],
   "source": [
    "result = add_and_mul(3,4)\n",
    "result #a*b의 결과값이 나오지 않는다. "
   ]
  },
  {
   "cell_type": "markdown",
   "metadata": {},
   "source": [
    "b. return문으로 함수 빠져나가기 "
   ]
  },
  {
   "cell_type": "code",
   "execution_count": null,
   "metadata": {},
   "outputs": [],
   "source": [
    "def conversation(bye):\n",
    "    if bye == \"Good Bye\":\n",
    "        return\n",
    "    print(\"%s\"% bye)\n",
    "    \n"
   ]
  },
  {
   "cell_type": "code",
   "execution_count": null,
   "metadata": {},
   "outputs": [],
   "source": [
    "conversation(\"hello!\")"
   ]
  },
  {
   "cell_type": "code",
   "execution_count": null,
   "metadata": {},
   "outputs": [],
   "source": [
    "conversation(\"Good Bye\") #bye와 같은 인자값을 입력하면 함수를 빠져나간다.(no output)"
   ]
  },
  {
   "cell_type": "markdown",
   "metadata": {},
   "source": [
    "### 6. 매개변수에 초깃값 미리 설정하기 \n",
    "\n",
    "매개변수에 초기값을 미리 설정해줌으로써 다른 형태의 함수의 인수를 전달할 수 있다. \n"
   ]
  },
  {
   "cell_type": "code",
   "execution_count": null,
   "metadata": {},
   "outputs": [],
   "source": [
    "def participant(name,date,woman=True): #총 3개의 입력 인수를 받는다. \n",
    "    print(\"제 이름은 %s입니다.\"%name)\n",
    "    print(\"오늘은 %d일 입니다.\"%date)\n",
    "    if woman: \n",
    "        print(\"여자입니다.\")\n",
    "    else:\n",
    "        print(\"남자입니다.\")"
   ]
  },
  {
   "cell_type": "code",
   "execution_count": null,
   "metadata": {},
   "outputs": [],
   "source": [
    "participant(\"이윤경\",1, ) #True, False, 빈칸"
   ]
  },
  {
   "cell_type": "markdown",
   "metadata": {},
   "source": [
    "위의 경우 ```woman = True``` 처럼 매개변수에 미리 초기값을 부여함. \n",
    "함수의 매개변수에 전달되는 것이 일정하거나 고정되어있을 경우 사용. "
   ]
  },
  {
   "cell_type": "code",
   "execution_count": null,
   "metadata": {
    "scrolled": true
   },
   "outputs": [],
   "source": [
    "#순서를 맞춰줘야한다. 안 그럼 syntax error!\n",
    "\n",
    "def participant(name,woman=True,date): #총 3개의 입력 인수를 받는다. \n",
    "    print(\"제 이름은 %s입니다.\"%name)\n",
    "    print(\"오늘은 %d일 입니다.\"%date)\n",
    "    if woman: \n",
    "        print(\"여자입니다.\")\n",
    "    else:\n",
    "        print(\"남자입니다.\")"
   ]
  },
  {
   "cell_type": "markdown",
   "metadata": {},
   "source": [
    "### 8. lambda()\n"
   ]
  },
  {
   "cell_type": "code",
   "execution_count": null,
   "metadata": {},
   "outputs": [],
   "source": [
    "# An example lambda function with one argument\n",
    "multiplier = lambda x: x * x"
   ]
  },
  {
   "cell_type": "code",
   "execution_count": null,
   "metadata": {},
   "outputs": [],
   "source": [
    "multiplier(7)"
   ]
  },
  {
   "cell_type": "markdown",
   "metadata": {},
   "source": [
    "The lamda function above is equivalent to the following code:"
   ]
  },
  {
   "cell_type": "code",
   "execution_count": null,
   "metadata": {},
   "outputs": [],
   "source": [
    "def multiplier(x):\n",
    "    result = x * x\n",
    "    return result\n",
    "\n",
    "multiplier(7)"
   ]
  },
  {
   "cell_type": "code",
   "execution_count": null,
   "metadata": {},
   "outputs": [],
   "source": [
    "# An example lambda function with two arguments\n",
    "adder = lambda x, y: x+y"
   ]
  },
  {
   "cell_type": "code",
   "execution_count": null,
   "metadata": {},
   "outputs": [],
   "source": [
    "adder(3,4)"
   ]
  },
  {
   "cell_type": "code",
   "execution_count": null,
   "metadata": {},
   "outputs": [],
   "source": [
    "#위 포맷은 다음과 같음(def를 썼을때)\n",
    "\n",
    "def adder(x, y):\n",
    "    result = x + y\n",
    "    return result\n",
    "\n",
    "adder(3,4)"
   ]
  },
  {
   "attachments": {
    "nested-namespaces-python.jpg": {
     "image/jpeg": "[encoded data removed]"
    }
   },
   "cell_type": "markdown",
   "metadata": {},
   "source": [
    "### Namespaces, 지역변수, 전역변수\n",
    "\n",
    "모듈 단위로 전역변수(global)과 함수 단위의 지역변수(local)로 구분해서 관리\n",
    "Built-in은 파이썬이 기본으로 제공하는 영역\n",
    "\n",
    "변수 검색 기준은 Local > Global > Built-in 영역순으로 찾는다. \n",
    "\n",
    "모듈 = 전역변수\n",
    "함수 = 지역변수\n",
    "\n",
    "#### 자세한 내용은 [링크1](https://python.bakyeono.net/chapter-3-4.html) 참조. \n",
    "\n",
    "<div class = \"alert alert-block alert-info\">\n",
    "<font color = black>\n",
    "Functions can access variables in two different scopes:  <b> global </b> and <b> local </b> <br>\n",
    "<b> Namespace </b> is an alternative and more descriptive term describing a variable scope\n",
    "    \n",
    "![nested-namespaces-python.jpg](attachment:nested-namespaces-python.jpg)\n",
    "    \n",
    "Variables defined inside a function body have a local scope, and those defined outside have a global scope.\n",
    " >This means that local variables can be accessed only inside the function in which they are declared, whereas global variables can be accessed throughout the program body by all functions. When you call a function, the variables declared inside it are brought into scope."
   ]
  },
  {
   "cell_type": "markdown",
   "metadata": {},
   "source": [
    "### 6. Global variables. \n",
    "\n",
    "In Python, a variable declared **outside** of the function or in global scope is known as global variable. This means, global variable can be accessed inside or outside of the function"
   ]
  },
  {
   "cell_type": "code",
   "execution_count": null,
   "metadata": {},
   "outputs": [],
   "source": [
    "#Create a global variable\n",
    "\n",
    "x = \"global\" #이것이 전역(글로벌) 변수\n",
    "\n",
    "def foo(): #inside access\n",
    "    print(\"x inside:\", x)\n",
    "    \n",
    "foo()\n",
    "print(\"x outside:\", x) #outside access "
   ]
  },
  {
   "cell_type": "code",
   "execution_count": null,
   "metadata": {},
   "outputs": [],
   "source": [
    "#Create a local variable\n",
    "\n",
    "x = \"global\" #global variable x\n",
    "\n",
    "def foo():\n",
    "    x = x*2 #local variable x \n",
    "    print(x)\n",
    "foo() #not allowed to access or modify the global variable\n",
    "\n",
    "#The output shows an error \n",
    "#because Python treats x as a local variable and \n",
    "#x is also not defined inside foo()."
   ]
  },
  {
   "cell_type": "markdown",
   "metadata": {},
   "source": [
    "### global()"
   ]
  },
  {
   "cell_type": "code",
   "execution_count": null,
   "metadata": {},
   "outputs": [],
   "source": [
    "c = 0 #global variable\n",
    "\n",
    "def add():\n",
    "    global c\n",
    "    c = c + 2 #increment by 2 \n",
    "    print(\"inside add():\", c)\n",
    "add()\n",
    "print(\"In main:\",c)\n",
    "#change occurs to both global and local variable after using global()"
   ]
  },
  {
   "cell_type": "code",
   "execution_count": null,
   "metadata": {},
   "outputs": [],
   "source": [
    "x = 5 \n",
    "\n",
    "def foo():\n",
    "    print(\"local x:\", x) #local scope의 지역변수 \n",
    "foo()\n",
    "print(\"global x:\", x) #global scope의 전역변수 "
   ]
  },
  {
   "cell_type": "markdown",
   "metadata": {},
   "source": [
    "실습 -\n",
    "\n",
    "지역변수와 전역변수 둘 다 가지고있는 함수를 만들어보세요. "
   ]
  },
  {
   "attachments": {
    "image.png": {
     "image/png": "[encoded data removed]"
    }
   },
   "cell_type": "markdown",
   "metadata": {},
   "source": [
    "## Files\n",
    "Python allows you to read, write, and delete files. When you use <b> open </b> to create file objects, it is important to explicitly close the file with <b>f.close </b> to release the file back into the OS.\n",
    "![image.png](attachment:image.png)\n",
    "> Python file modes <br> \n",
    "\n",
    "[Step by Step guide on File handling](https://www.guru99.com/reading-and-writing-files-in-python.html)"
   ]
  },
  {
   "cell_type": "markdown",
   "metadata": {},
   "source": [
    "1. File reading"
   ]
  },
  {
   "cell_type": "code",
   "execution_count": null,
   "metadata": {},
   "outputs": [],
   "source": [
    "!pwd"
   ]
  },
  {
   "cell_type": "code",
   "execution_count": null,
   "metadata": {},
   "outputs": [],
   "source": [
    "f = open(\"./test.txt\")\n",
    "f.read()"
   ]
  },
  {
   "cell_type": "code",
   "execution_count": null,
   "metadata": {},
   "outputs": [],
   "source": [
    "f = open(\"./test.txt\", \"w\")\n",
    "f.write(\"test statement\")\n",
    "f.close()"
   ]
  },
  {
   "cell_type": "code",
   "execution_count": null,
   "metadata": {},
   "outputs": [],
   "source": [
    "f = open(\"./test.txt\", \"a+\")\n",
    "f.write(\" Another line in Testing\")\n",
    "f.close()"
   ]
  },
  {
   "cell_type": "markdown",
   "metadata": {},
   "source": [
    "2. Input"
   ]
  },
  {
   "cell_type": "markdown",
   "metadata": {},
   "source": [
    "사용자가 입력한 값을 어떤 변수에 대입하고 싶을 때 사용\n"
   ]
  },
  {
   "cell_type": "code",
   "execution_count": null,
   "metadata": {},
   "outputs": [],
   "source": [
    "a = input()"
   ]
  },
  {
   "cell_type": "code",
   "execution_count": null,
   "metadata": {},
   "outputs": [],
   "source": [
    "a"
   ]
  },
  {
   "cell_type": "markdown",
   "metadata": {},
   "source": [
    "### 파일 다루기 관련 조금 더"
   ]
  },
  {
   "cell_type": "markdown",
   "metadata": {},
   "source": [
    "참고 : [파일 읽고 쓰기](https://wikidocs.net/26)"
   ]
  },
  {
   "cell_type": "markdown",
   "metadata": {},
   "source": [
    "다음처럼 새 파일 생성"
   ]
  },
  {
   "cell_type": "code",
   "execution_count": null,
   "metadata": {},
   "outputs": [],
   "source": [
    "# 새 파일 생성\n",
    "f = open(\"newtext.txt\", 'w')\n",
    "for i in range(1, 11):\n",
    "    data = \"%d번째 줄입니다.\\n\" % i\n",
    "    f.write(data)\n",
    "f.close()"
   ]
  },
  {
   "cell_type": "code",
   "execution_count": null,
   "metadata": {},
   "outputs": [],
   "source": [
    "%ls newtext.txt"
   ]
  },
  {
   "cell_type": "code",
   "execution_count": null,
   "metadata": {},
   "outputs": [],
   "source": [
    "# 내용보기\n",
    "%cat newtext.txt"
   ]
  },
  {
   "cell_type": "markdown",
   "metadata": {},
   "source": [
    "#### with문을 사용하기"
   ]
  },
  {
   "cell_type": "markdown",
   "metadata": {},
   "source": [
    "with를 사용하여 파일을 열면, 종료후 알아서 파일을 닫아준다."
   ]
  },
  {
   "cell_type": "code",
   "execution_count": null,
   "metadata": {},
   "outputs": [],
   "source": [
    "# 새 파일 생성\n",
    "with open(\"newtext2.txt\", 'w') as f :\n",
    "    for i in range(1, 11):\n",
    "        data = \"%d번째 줄입니다.\\n\" % i\n",
    "        f.write(data)"
   ]
  },
  {
   "cell_type": "code",
   "execution_count": null,
   "metadata": {},
   "outputs": [],
   "source": [
    "%ls newtext2.txt"
   ]
  },
  {
   "cell_type": "code",
   "execution_count": null,
   "metadata": {},
   "outputs": [],
   "source": [
    "# 파일 읽기\n",
    "with open(\"newtext2.txt\", 'r') as f :\n",
    "    print(f.read())"
   ]
  },
  {
   "cell_type": "markdown",
   "metadata": {},
   "source": [
    "#### 프로그램의 외부에 저장된 파일을 읽는 여러 가지 방법"
   ]
  },
  {
   "cell_type": "markdown",
   "metadata": {},
   "source": [
    "##### 한 줄씩 읽기 - readline() 함수 이용하기"
   ]
  },
  {
   "cell_type": "code",
   "execution_count": null,
   "metadata": {},
   "outputs": [],
   "source": [
    "with open(\"newtext2.txt\", 'r') as f :\n",
    "    while True :\n",
    "        line = f.readline()\n",
    "        if not line: break\n",
    "        print(line)"
   ]
  },
  {
   "cell_type": "code",
   "execution_count": null,
   "metadata": {},
   "outputs": [],
   "source": [
    "with open(\"newtext2.txt\", 'r') as f :\n",
    "    while True :\n",
    "        line = f.readline()\n",
    "        if not line: break\n",
    "        new_line = line.strip() # 읽어들인 줄의 '\\n'이나 줄 앞뒤의 빈 공백 등을 제거해 줌\n",
    "        print(new_line)"
   ]
  },
  {
   "cell_type": "markdown",
   "metadata": {},
   "source": [
    "##### 한 줄씩 읽기 - 파일 핸들러를 그대로 이용하기"
   ]
  },
  {
   "cell_type": "code",
   "execution_count": null,
   "metadata": {},
   "outputs": [],
   "source": [
    "with open(\"newtext2.txt\", 'r') as f :\n",
    "    for line in f :\n",
    "        print(line.strip())"
   ]
  },
  {
   "cell_type": "markdown",
   "metadata": {},
   "source": [
    "##### 한번에 다 읽기 - readlines() 함수 이용하기"
   ]
  },
  {
   "cell_type": "markdown",
   "metadata": {},
   "source": [
    "readlines() 함수는 파일의 모든 라인을 읽어서 각각의 줄을 요소로 갖는 리스트로 리턴한다."
   ]
  },
  {
   "cell_type": "code",
   "execution_count": null,
   "metadata": {},
   "outputs": [],
   "source": [
    "with open(\"newtext2.txt\", 'r') as f :\n",
    "    lines = f.readlines()\n",
    "    print(lines)"
   ]
  },
  {
   "cell_type": "markdown",
   "metadata": {},
   "source": [
    "##### 한번에 다 읽기 - read() 함수 이용하기"
   ]
  },
  {
   "cell_type": "markdown",
   "metadata": {},
   "source": [
    "read()는 파일의 내용 전체를 문자열로 리턴한다. "
   ]
  },
  {
   "cell_type": "code",
   "execution_count": null,
   "metadata": {},
   "outputs": [],
   "source": [
    "with open(\"newtext2.txt\", 'r') as f :\n",
    "    doc  = f.read()\n",
    "    print(doc)"
   ]
  },
  {
   "cell_type": "markdown",
   "metadata": {},
   "source": [
    "#### 파일 관련 기타 등등"
   ]
  },
  {
   "cell_type": "markdown",
   "metadata": {},
   "source": [
    "특정 폴더의 파일 목록 얻기"
   ]
  },
  {
   "cell_type": "code",
   "execution_count": null,
   "metadata": {},
   "outputs": [],
   "source": [
    "import os\n",
    "\n",
    "dirpath = './'\n",
    "fn_list = os.listdir(dirpath)\n",
    "print(fn_list)"
   ]
  },
  {
   "cell_type": "markdown",
   "metadata": {},
   "source": [
    "파일의 절대경로 얻기"
   ]
  },
  {
   "cell_type": "code",
   "execution_count": null,
   "metadata": {},
   "outputs": [],
   "source": [
    "import os\n",
    "\n",
    "dirpath = './'\n",
    "fn_list = os.listdir(dirpath)\n",
    "\n",
    "for fn in fn_list :\n",
    "    print(fn)\n",
    "    print(os.path.abspath(fn))"
   ]
  },
  {
   "cell_type": "markdown",
   "metadata": {},
   "source": [
    "------------------"
   ]
  },
  {
   "cell_type": "markdown",
   "metadata": {},
   "source": [
    "실습\n",
    "\n",
    "1.\n",
    "정수를 입력값으로 받는 'countdown'이란 이름의 함수를 만드세요. 그리고 0까지 카운트다운하게 짜보세요. 9를 넣어서 테스트해보세요. \n"
   ]
  },
  {
   "cell_type": "code",
   "execution_count": null,
   "metadata": {
    "scrolled": true
   },
   "outputs": [],
   "source": [
    "#1"
   ]
  },
  {
   "cell_type": "markdown",
   "metadata": {},
   "source": [
    "2. 'signal'이란 단어를 입력받으면 '보내'라는 단어를 반환하는 함수 만들기('시그널'이 아니면 바로 그대로 출력)"
   ]
  },
  {
   "cell_type": "code",
   "execution_count": null,
   "metadata": {},
   "outputs": [],
   "source": [
    "#2"
   ]
  },
  {
   "cell_type": "markdown",
   "metadata": {},
   "source": [
    "3. \"test.txt\"라는 파일에 \"Life is too short\" 라는 문자열을 저장한 후 다시 그 파일을 읽어서 출력"
   ]
  },
  {
   "cell_type": "code",
   "execution_count": null,
   "metadata": {},
   "outputs": [],
   "source": [
    "#3"
   ]
  },
  {
   "cell_type": "markdown",
   "metadata": {},
   "source": [
    "4. 다음과 같이 총 10줄로 숫자들로 이루어진 sample.txt 이름의 파일을 생성하라. "
   ]
  },
  {
   "cell_type": "markdown",
   "metadata": {},
   "source": [
    "```shell\n",
    "sample.txt\n",
    "70\n",
    "60\n",
    "55\n",
    "75\n",
    "95\n",
    "90\n",
    "80\n",
    "80\n",
    "85\n",
    "100\n",
    "```"
   ]
  },
  {
   "cell_type": "code",
   "execution_count": null,
   "metadata": {},
   "outputs": [],
   "source": [
    "#4"
   ]
  },
  {
   "cell_type": "markdown",
   "metadata": {},
   "source": [
    "5. sample.txt 파일의 숫자값을 모두 읽어 총합과 평균값을 구한 후 평균값을 sample.txt 파일의 맨 아래에 쓰기"
   ]
  },
  {
   "cell_type": "markdown",
   "metadata": {},
   "source": [
    "```shell\n",
    "sample.txt\n",
    "70\n",
    "60\n",
    "55\n",
    "75\n",
    "95\n",
    "90\n",
    "80\n",
    "80\n",
    "85\n",
    "100\n",
    "----\n",
    "총합\n",
    "평균\n",
    "```"
   ]
  },
  {
   "cell_type": "code",
   "execution_count": null,
   "metadata": {},
   "outputs": [],
   "source": [
    "#5"
   ]
  }
 ],
 "metadata": {
  "kernelspec": {
   "display_name": "Python 3",
   "language": "python",
   "name": "python3"
  },
  "language_info": {
   "codemirror_mode": {
    "name": "ipython",
    "version": 3
   },
   "file_extension": ".py",
   "mimetype": "text/x-python",
   "name": "python",
   "nbconvert_exporter": "python",
   "pygments_lexer": "ipython3",
   "version": "3.6.8"
  }
 },
 "nbformat": 4,
 "nbformat_minor": 2
}
