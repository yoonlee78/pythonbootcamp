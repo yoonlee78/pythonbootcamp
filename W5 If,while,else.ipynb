{
 "cells": [
  {
   "cell_type": "markdown",
   "metadata": {},
   "source": [
    "# SPLIT Week 5\n",
    "# If, while loop, file input and output\n"
   ]
  },
  {
   "cell_type": "markdown",
   "metadata": {},
   "source": [
    "# I. if loop"
   ]
  },
  {
   "cell_type": "markdown",
   "metadata": {},
   "source": [
    "### 1. if else statement"
   ]
  },
  {
   "cell_type": "markdown",
   "metadata": {},
   "source": [
    "\"조건문\" : 참과 거짓을 판단하는 문장을 뜻함. \n",
    "\n",
    "파이썬에서 조건에 따라 실행할 것을 명령할 때 if/else 문을 사용함\n",
    "\n",
    "if/else문은 다음과 같이 쓴다. \n",
    "\n",
    "    if test:\n",
    "        execution1\n",
    "        execution2\n",
    "        ...\n",
    "        "
   ]
  },
  {
   "cell_type": "markdown",
   "metadata": {},
   "source": [
    "<img src = \"https://cdn.programiz.com/sites/tutorial2program/files/Python_if_statement.jpg\">"
   ]
  },
  {
   "cell_type": "markdown",
   "metadata": {},
   "source": [
    "여기서 프로그램은 ```test```을 평가하고, ```test```이 참(```True```)일 때만 실행함. \n",
    "\n",
    "만일, ```test```이 ```False``` 일 경우, ```execution```은 실행되지 않는다. \n",
    "\n",
    "```if``` 절 아래 들어가는 (```body```에 해당되는)내용들은 모두 indentation이 되어야한다. **중요함**\n",
    "\n",
    "\n",
    "**모든 if 문은 반드시 조건문 다음에 \":\"을 붙인다.**"
   ]
  },
  {
   "cell_type": "markdown",
   "metadata": {},
   "source": [
    "### 2. if..else statement"
   ]
  },
  {
   "cell_type": "markdown",
   "metadata": {},
   "source": [
    "if 문 아래 조건을 추가하고 싶을 때 else, elif 등을 쓴다. \n",
    "\n",
    "if..else 문은 아래와 같이 쓴다. "
   ]
  },
  {
   "cell_type": "markdown",
   "metadata": {},
   "source": [
    "    if test:\n",
    "        body of if (execution x) \n",
    "    else:\n",
    "        body of else (execution y)"
   ]
  },
  {
   "cell_type": "markdown",
   "metadata": {},
   "source": [
    "<img src = \"https://cdn.programiz.com/sites/tutorial2program/files/Python_if_else_statement.jpg\">"
   ]
  },
  {
   "cell_type": "markdown",
   "metadata": {},
   "source": [
    "```if..else```문에서는 if test 문이 ```True```일 때만 if문의 명령이 실행됨 (```execution x```). 만일 if 문이 ```False```일 경우, else문의 명령이 실행됨 (```execution y```)"
   ]
  },
  {
   "cell_type": "markdown",
   "metadata": {},
   "source": [
    "### 3. if..elif..else statement"
   ]
  },
  {
   "cell_type": "markdown",
   "metadata": {},
   "source": [
    "if..elif..else 문은 아래와 같이 쓴다. "
   ]
  },
  {
   "cell_type": "markdown",
   "metadata": {},
   "source": [
    "    if test 1:\n",
    "        body of if\n",
    "        ...\n",
    "    elif test n:\n",
    "        body of elif\n",
    "    elif test n+1:\n",
    "        body of elif:\n",
    "    elif test n+2:\n",
    "        body of elif:\n",
    "        ...\n",
    "    ...\n",
    "    else test 3:\n",
    "        body of else\n",
    "        ..."
   ]
  },
  {
   "cell_type": "markdown",
   "metadata": {},
   "source": [
    "<img src = \"https://cdn.programiz.com/sites/tutorial2program/files/Python_if_elif_else_statement.jpg\">"
   ]
  },
  {
   "cell_type": "markdown",
   "metadata": {},
   "source": [
    "```elif``` 는 else if의 줄임말이다. 여러개의 조건을 넣고싶을때 사용할 수 있는 조건문이다. \n",
    "\n",
    "```if```문의 조건이 ```False``` 일 경우, 다음 ```elif```블록에 있는 조건을 확인한다. \n",
    "\n",
    "만약 모든 조건이 다 ```False``` 일 경우, ```else```문의 ```body of else```를 실행한다. \n",
    "\n",
    "각 조건문 (if, elif, else)는 하나의 조건문만 할당할 수 있다. \n",
    "\n",
    "**```if```문은 오직 하나의 ```else``` 블록만 가질 수 있지만 여러개의 ```elif```문을 가질 수 있다. **\n"
   ]
  },
  {
   "cell_type": "markdown",
   "metadata": {},
   "source": [
    "### 4. 비교연산자 (Comparison Operators)"
   ]
  },
  {
   "cell_type": "markdown",
   "metadata": {},
   "source": [
    "|비교연산자|설명|\n",
    "|--------|:---:|\n",
    "|x < y |x가 y보다 작음|\n",
    "|x > y| x가 y보다 크다|\n",
    "|x == y| x와 y가 같다|\n",
    "|x!=y| x와 y가 같지 않다|\n",
    "|x>=y|x가 y보다 크거나 같다|\n",
    "|x<=y|x가 y보다 작거나 같다|"
   ]
  },
  {
   "cell_type": "code",
   "execution_count": 1,
   "metadata": {},
   "outputs": [],
   "source": [
    "#예시 1\n",
    "x = 10\n",
    "y = 11"
   ]
  },
  {
   "cell_type": "code",
   "execution_count": 2,
   "metadata": {},
   "outputs": [
    {
     "data": {
      "text/plain": [
       "True"
      ]
     },
     "execution_count": 2,
     "metadata": {},
     "output_type": "execute_result"
    }
   ],
   "source": [
    "x < y"
   ]
  },
  {
   "cell_type": "code",
   "execution_count": 3,
   "metadata": {},
   "outputs": [
    {
     "data": {
      "text/plain": [
       "False"
      ]
     },
     "execution_count": 3,
     "metadata": {},
     "output_type": "execute_result"
    }
   ],
   "source": [
    "x > y"
   ]
  },
  {
   "cell_type": "code",
   "execution_count": 4,
   "metadata": {},
   "outputs": [
    {
     "data": {
      "text/plain": [
       "False"
      ]
     },
     "execution_count": 4,
     "metadata": {},
     "output_type": "execute_result"
    }
   ],
   "source": [
    "x == y"
   ]
  },
  {
   "cell_type": "code",
   "execution_count": 5,
   "metadata": {},
   "outputs": [
    {
     "data": {
      "text/plain": [
       "True"
      ]
     },
     "execution_count": 5,
     "metadata": {},
     "output_type": "execute_result"
    }
   ],
   "source": [
    "x != y"
   ]
  },
  {
   "cell_type": "code",
   "execution_count": 6,
   "metadata": {},
   "outputs": [
    {
     "data": {
      "text/plain": [
       "True"
      ]
     },
     "execution_count": 6,
     "metadata": {},
     "output_type": "execute_result"
    }
   ],
   "source": [
    "x <= y"
   ]
  },
  {
   "cell_type": "code",
   "execution_count": 7,
   "metadata": {},
   "outputs": [
    {
     "data": {
      "text/plain": [
       "False"
      ]
     },
     "execution_count": 7,
     "metadata": {},
     "output_type": "execute_result"
    }
   ],
   "source": [
    "x >= y"
   ]
  },
  {
   "cell_type": "code",
   "execution_count": 13,
   "metadata": {},
   "outputs": [
    {
     "name": "stdout",
     "output_type": "stream",
     "text": [
      "밖에 나가지 마세요\n"
     ]
    }
   ],
   "source": [
    "#예시 2\n",
    "#temp = 오늘의 날씨 \n",
    "\n",
    "temp = -20\n",
    "if temp >= 0:\n",
    "    print(\"밖에 나가세요\")\n",
    "else:\n",
    "    print(\"밖에 나가지 마세요\")"
   ]
  },
  {
   "cell_type": "markdown",
   "metadata": {},
   "source": [
    "### 5. 논리연산자 (Logical Operator)"
   ]
  },
  {
   "cell_type": "markdown",
   "metadata": {},
   "source": [
    "조건을 판단하기 위해 사용되는 연산자의 종류 - and, or, not \n",
    "\n",
    "|연산자|설명|\n",
    "|----|------|\n",
    "|x or y| x와 y 둘 중 하나만 참이면 참이다|\n",
    "|x and y| x와 y 모두 참이어야 참이다|\n",
    "|not x| x가 거짓이면 참이다|"
   ]
  },
  {
   "cell_type": "markdown",
   "metadata": {},
   "source": [
    "Truth Table : https://www.programiz.com/python-programming/keyword-list#and_or_not\n"
   ]
  },
  {
   "cell_type": "code",
   "execution_count": 31,
   "metadata": {},
   "outputs": [
    {
     "name": "stdout",
     "output_type": "stream",
     "text": [
      "밖에 나가세요\n"
     ]
    }
   ],
   "source": [
    "#춥지만 배고프면 나가라. 춥긴 하지만 딱히 배고프지 않으면 (굳이) 밖에 나가지 마라. \n",
    "#춥지는 않지만 배는 고프면 나가라. \n",
    "#춥지도 않고 배도 고프지 않으면 나가지 마라\n",
    "\n",
    "temp = -1\n",
    "hungry = True\n",
    "if temp >= 0 or hungry:\n",
    "    print(\"밖에 나가세요\")\n",
    "else:\n",
    "    print(\"밖에 나가지 마세요\")\n",
    "    \n",
    "#temp는 0보다 작지만 hungry가 true이기 때문에 if문이 참이 됨.\n",
    "#temp도 0보다 작고 hungry 도 false여야만 else문이 참이 됨. "
   ]
  },
  {
   "cell_type": "markdown",
   "metadata": {},
   "source": [
    "** TIP\n",
    "\n",
    "if문 한 줄로 작성하기 \n",
    "\n",
    "다음과 같은 조건문이 있다. \n",
    "\n",
    "``` if temp >= 0:\n",
    "        message = \"not cold!\"\n",
    "    else:\n",
    "        message = \"too cold!\"\n",
    "```"
   ]
  },
  {
   "cell_type": "markdown",
   "metadata": {},
   "source": [
    "파이썬의 조건부 표현식 (conditional expression)을 이용하면 위 코드를 다음과 같이 간단하게 쓸 수 있다. \n"
   ]
  },
  {
   "cell_type": "code",
   "execution_count": 34,
   "metadata": {},
   "outputs": [],
   "source": [
    "temp = 1\n",
    "message = \"not cold!\" if temp >=0 else \"too cold!\"\n",
    "#if 조건문이 참인 경우, if 조건문 else 조건문이 거짓인 경우"
   ]
  },
  {
   "cell_type": "code",
   "execution_count": 35,
   "metadata": {},
   "outputs": [
    {
     "data": {
      "text/plain": [
       "'not cold!'"
      ]
     },
     "execution_count": 35,
     "metadata": {},
     "output_type": "execute_result"
    }
   ],
   "source": [
    "message"
   ]
  },
  {
   "cell_type": "markdown",
   "metadata": {},
   "source": [
    "# II. For"
   ]
  },
  {
   "cell_type": "markdown",
   "metadata": {},
   "source": [
    "## 1. for loop\n",
    "\n",
    "for loop은 아래와 같이 쓴다. \n",
    "\n",
    "    for x in list(or tuple, string)\n",
    "    execution 1\n",
    "    execution 2\n",
    "\n",
    "list,tuple,string의 첫 번째부터 마지막요소까지 차례로 수행이 된다. (execution1 execution 2..)\n",
    "\n",
    "<img src = \"https://cdn.programiz.com/sites/tutorial2program/files/forLoop.jpg\">"
   ]
  },
  {
   "cell_type": "markdown",
   "metadata": {},
   "source": [
    "### 2. For문 예시 "
   ]
  },
  {
   "cell_type": "code",
   "execution_count": 7,
   "metadata": {},
   "outputs": [
    {
     "name": "stdout",
     "output_type": "stream",
     "text": [
      "1\n",
      "2\n",
      "3\n",
      "4\n",
      "5\n",
      "6\n",
      "7\n",
      "8\n",
      "9\n"
     ]
    }
   ],
   "source": [
    "#기본적인 for문의 모습이다. \n",
    "\n",
    "for i in range(1,10): #for문의 끝에는 \":\"을 붙여야한다. \n",
    "    print(i)"
   ]
  },
  {
   "cell_type": "markdown",
   "metadata": {},
   "source": [
    "### 3. range() 함수 "
   ]
  },
  {
   "cell_type": "markdown",
   "metadata": {},
   "source": [
    "range()함수는 숫자형 자료로 된 리스트를 자동을 생성해준다. \n"
   ]
  },
  {
   "cell_type": "markdown",
   "metadata": {},
   "source": [
    "a. range() 사용법\n",
    "\n",
    "range()함수는 아래와 같이 쓴다. \n",
    "\n",
    "        range(start(또는 생략),stop)\n",
    "        \n",
    "        or\n",
    "        \n",
    "        range(start,stop,step size)\n",
    "        \n",
    "\n",
    "range()에 정해준 범위 중 끝값은 제외하고 생성해준다. "
   ]
  },
  {
   "cell_type": "code",
   "execution_count": 11,
   "metadata": {},
   "outputs": [
    {
     "data": {
      "text/plain": [
       "range(1, 10)"
      ]
     },
     "execution_count": 11,
     "metadata": {},
     "output_type": "execute_result"
    }
   ],
   "source": [
    "#range\n",
    "test1 = range(1,10)\n",
    "test1"
   ]
  },
  {
   "cell_type": "code",
   "execution_count": 12,
   "metadata": {},
   "outputs": [
    {
     "data": {
      "text/plain": [
       "range(0, 10)"
      ]
     },
     "execution_count": 12,
     "metadata": {},
     "output_type": "execute_result"
    }
   ],
   "source": [
    "test2 = range(10) \n",
    "test2"
   ]
  },
  {
   "cell_type": "code",
   "execution_count": 13,
   "metadata": {},
   "outputs": [
    {
     "data": {
      "text/plain": [
       "range(0, 0)"
      ]
     },
     "execution_count": 13,
     "metadata": {},
     "output_type": "execute_result"
    }
   ],
   "source": [
    "test3 = range(0) \n",
    "test3"
   ]
  },
  {
   "cell_type": "markdown",
   "metadata": {},
   "source": [
    "b. range()와 list()"
   ]
  },
  {
   "cell_type": "code",
   "execution_count": 14,
   "metadata": {},
   "outputs": [
    {
     "data": {
      "text/plain": [
       "[0, 1, 2, 3, 4, 5, 6, 7, 8, 9]"
      ]
     },
     "execution_count": 14,
     "metadata": {},
     "output_type": "execute_result"
    }
   ],
   "source": [
    "range(0,10)\n",
    "\n",
    "list(range(10))"
   ]
  },
  {
   "cell_type": "code",
   "execution_count": 15,
   "metadata": {},
   "outputs": [
    {
     "data": {
      "text/plain": [
       "[2, 3, 4, 5, 6, 7]"
      ]
     },
     "execution_count": 15,
     "metadata": {},
     "output_type": "execute_result"
    }
   ],
   "source": [
    "list(range(2,8))"
   ]
  },
  {
   "cell_type": "code",
   "execution_count": 27,
   "metadata": {},
   "outputs": [
    {
     "data": {
      "text/plain": [
       "3"
      ]
     },
     "execution_count": 27,
     "metadata": {},
     "output_type": "execute_result"
    }
   ],
   "source": [
    "text = [\"text1\",\"text2\",\"text3\"]\n",
    "len(text)"
   ]
  },
  {
   "cell_type": "code",
   "execution_count": 28,
   "metadata": {},
   "outputs": [
    {
     "data": {
      "text/plain": [
       "range(0, 3)"
      ]
     },
     "execution_count": 28,
     "metadata": {},
     "output_type": "execute_result"
    }
   ],
   "source": [
    "range(len(text))"
   ]
  },
  {
   "cell_type": "markdown",
   "metadata": {},
   "source": [
    "c.range()와 len()\n",
    "\n",
    "[len()함수]( https://docs.python.org/ko/3.6/library/functions.html#len)는 객체의 길이 (항목 수)를 돌려줍니다. 인자는 시퀀스 (문자열, 바이트열, 튜플, 리스트 또는 range 같은) 또는 컬렉션 (딕셔너리, 집합 또는 불변 집합 같은) 일 수 있습니다. \n",
    "\n",
    "range()와len()는 아래와 같이 사용할 수 있다. \n"
   ]
  },
  {
   "cell_type": "code",
   "execution_count": 20,
   "metadata": {},
   "outputs": [
    {
     "name": "stdout",
     "output_type": "stream",
     "text": [
      "My favorite cafe is Starbucks\n",
      "My favorite cafe is a Twosome Place\n",
      "My favorite cafe is Cafe MaMa's\n"
     ]
    }
   ],
   "source": [
    "#먼저 리스트 하나를 생성\n",
    "mycafe = [\"Starbucks\", \"a Twosome Place\", \"Cafe MaMa's\"]\n",
    "\n",
    "#for loop에 range를 정해주고 인덱싱을 참조하면서 반복할 수 있게 len()사용\n",
    "for cafe in range(len(mycafe)):\n",
    "    print(\"My favorite cafe is\", mycafe[cafe])\n"
   ]
  },
  {
   "cell_type": "markdown",
   "metadata": {},
   "source": [
    "위와 같이 mycafe에 있는 요소의 개수(항목 수)는 3개 이므로\n",
    "range(len(mycafe))는 range(3)이 된다. "
   ]
  },
  {
   "cell_type": "markdown",
   "metadata": {},
   "source": [
    "### 4. for loop with else, break"
   ]
  },
  {
   "cell_type": "markdown",
   "metadata": {},
   "source": [
    "for loop 도 else 블록을 가질 수 있다. \n",
    "\n",
    "for loop에서 실행될 것이 끝난 후  ```else``` block이 실행된다. \n",
    "\n",
    "for loop 을 정지하고 싶을 때, ```break```문을 사용할 수도 있다. \n",
    "이럴때 ```else block```은 무시된다. 즉, ```else```block은 ```break```이 없을 때 실행된다. \n",
    "\n",
    "for, else, break은 다음과 같이 쓴다. \n"
   ]
  },
  {
   "cell_type": "code",
   "execution_count": 42,
   "metadata": {},
   "outputs": [
    {
     "name": "stdout",
     "output_type": "stream",
     "text": [
      "0\n",
      "1\n",
      "2\n",
      "3\n",
      "4\n",
      "else statement is called\n"
     ]
    }
   ],
   "source": [
    "#for, else만 있는 경우 \n",
    "\n",
    "for mylist in range(0,5):\n",
    "    print(mylist)\n",
    "else :\n",
    "    print(\"else statement\")"
   ]
  },
  {
   "cell_type": "code",
   "execution_count": 44,
   "metadata": {},
   "outputs": [
    {
     "name": "stdout",
     "output_type": "stream",
     "text": [
      "0\n",
      "1\n",
      "2\n",
      "3\n"
     ]
    }
   ],
   "source": [
    "#break문을 만나는 경우 \n",
    "\n",
    "for mylist in range(0,5):\n",
    "    print(mylist)\n",
    "    if mylist == 3:\n",
    "        break;\n",
    "else :\n",
    "    print(\"else statement\")"
   ]
  },
  {
   "cell_type": "code",
   "execution_count": 43,
   "metadata": {},
   "outputs": [
    {
     "name": "stdout",
     "output_type": "stream",
     "text": [
      "0\n",
      "1\n",
      "2\n",
      "3\n",
      "4\n",
      "else statement\n"
     ]
    }
   ],
   "source": [
    "#break문을 만나지 않는 경우 \n",
    "\n",
    "for mylist in range(0,5):\n",
    "    print(mylist)\n",
    "    if mylist == 6:\n",
    "        break;\n",
    "else :\n",
    "    print(\"else statement\")"
   ]
  },
  {
   "cell_type": "markdown",
   "metadata": {},
   "source": [
    "# III. While loop"
   ]
  },
  {
   "cell_type": "markdown",
   "metadata": {},
   "source": [
    "list에 있는 모든 요소를 실행하는 for문에 비해, while문은 특정 조건이 True일때 실행된다. 조건이 False일때 while loop은 멈춘다. "
   ]
  },
  {
   "cell_type": "markdown",
   "metadata": {},
   "source": [
    "### 1. syntax of while loop\n",
    "\n",
    "while loop은 아래와 같이 쓴다. \n",
    "\n",
    "    while statement:\n",
    "        execution1\n",
    "        execution2\n",
    "        ...\n",
    "\n",
    "```statement``` 에 주어진 조건이 ```True```일때만 ```execution```들이 실행된다. 한 번  iteration이 끝난 후, ```statement```는 다시 평가되고, \n",
    "```statement```가 ```False```가 될때까지 이 작업은 반복된다. "
   ]
  },
  {
   "cell_type": "markdown",
   "metadata": {},
   "source": [
    "<img src=\"https://cdn.programiz.com/sites/tutorial2program/files/whileLoopFlowchart.jpg\">"
   ]
  },
  {
   "cell_type": "markdown",
   "metadata": {},
   "source": [
    "### 2. while loop 활용\n"
   ]
  },
  {
   "cell_type": "markdown",
   "metadata": {},
   "source": [
    "while loop 예시"
   ]
  },
  {
   "cell_type": "code",
   "execution_count": 47,
   "metadata": {},
   "outputs": [
    {
     "name": "stdout",
     "output_type": "stream",
     "text": [
      "1\n",
      "2\n",
      "3\n",
      "4\n",
      "5\n"
     ]
    }
   ],
   "source": [
    "i = 1\n",
    "while i < 6:\n",
    "  print(i)\n",
    "  i += 1\n"
   ]
  },
  {
   "cell_type": "markdown",
   "metadata": {},
   "source": [
    "### 3. while loop, else, break"
   ]
  },
  {
   "cell_type": "code",
   "execution_count": 123,
   "metadata": {},
   "outputs": [
    {
     "name": "stdout",
     "output_type": "stream",
     "text": [
      "더 이상 플레이할 수 없습니다.\n"
     ]
    }
   ],
   "source": [
    "game = 10\n",
    "money = 103\n",
    "\n",
    "if money <= 100:\n",
    "    #print(\"돈이 없네요. 충전하세요\")\n",
    "    while money > 100:\n",
    "        print(\"게임을 더 할 수 있습니다\")\n",
    "        game = game -1\n",
    "        print(\"남은 무료 플레이수는 {1}회입니다\".format(money,game))\n",
    "    #break이 없다면 무한히 돈다 \n",
    "        if game == 0:\n",
    "            break\n",
    "        #continue\n",
    "else:\n",
    "    print(\"더 이상 플레이할 수 없습니다.\")\n",
    "\n",
    "#왜 else가 안나오는지...?  "
   ]
  },
  {
   "cell_type": "markdown",
   "metadata": {},
   "source": [
    "## 실습"
   ]
  },
  {
   "cell_type": "markdown",
   "metadata": {},
   "source": [
    "주어진 범위까지 모두 합하는 프로그램을 만들어보자. \n",
    "최소값 ('mn'), 단위수 ('i),  최대값('m')"
   ]
  },
  {
   "cell_type": "code",
   "execution_count": 117,
   "metadata": {},
   "outputs": [
    {
     "name": "stdout",
     "output_type": "stream",
     "text": [
      "Enter m: 10\n",
      "The total is 55\n"
     ]
    }
   ],
   "source": [
    "#Program to add natural\n",
    "# numbers upto \n",
    "# sum = 1+2+3+...+n\n",
    "# To take input from the user,\n",
    "# n = int(input(\"Enter n: \"))\n",
    "\n",
    "m = int(input(\"Enter m: \"))\n",
    "\n",
    "# initialize sum and counter\n",
    "add_number = 0\n",
    "i = 1\n",
    "\n",
    "while i <= m:\n",
    "    add_number = add_number + i\n",
    "    i = i+1    # update counter\n",
    "\n",
    "# print the sum\n",
    "print(\"The total is\", add_number)"
   ]
  },
  {
   "cell_type": "code",
   "execution_count": null,
   "metadata": {},
   "outputs": [],
   "source": []
  }
 ],
 "metadata": {
  "kernelspec": {
   "display_name": "Python 3",
   "language": "python",
   "name": "python3"
  },
  "language_info": {
   "codemirror_mode": {
    "name": "ipython",
    "version": 3
   },
   "file_extension": ".py",
   "mimetype": "text/x-python",
   "name": "python",
   "nbconvert_exporter": "python",
   "pygments_lexer": "ipython3",
   "version": "3.5.6"
  }
 },
 "nbformat": 4,
 "nbformat_minor": 2
}
