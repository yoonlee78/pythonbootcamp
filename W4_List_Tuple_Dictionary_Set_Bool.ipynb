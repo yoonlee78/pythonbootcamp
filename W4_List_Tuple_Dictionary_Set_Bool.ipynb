{
 "cells": [
  {
   "cell_type": "markdown",
   "metadata": {},
   "source": [
    "## W 4 \n",
    "## List, Tuple, Dictionary, Set."
   ]
  },
  {
   "cell_type": "markdown",
   "metadata": {},
   "source": [
    "# I. List "
   ]
  },
  {
   "cell_type": "markdown",
   "metadata": {},
   "source": [
    "## 1. List 소개 \n",
    "\n",
    "파이썬의 자료구조 형태 중 하나로 값을 나열하는 것을 List(리스트)라고 함.\n",
    "\n",
    "List는 다음과 같이 쓴다. \n",
    "\n",
    "    리스트 이름 (변수이름) = [요소1, 요소2,...]\n",
    "    \n",
    "\n",
    "예를 들어, 1부터 10까지의 홀수의 모음을 나타내면 다음과 같다. \n",
    "\n",
    "    odd = [1,3,5,7,19]\n",
    "    \n",
    "리스트는 그 외에도 다양하게 응용 가능하다. (아래 참조)"
   ]
  },
  {
   "cell_type": "code",
   "execution_count": null,
   "metadata": {},
   "outputs": [],
   "source": [
    "x = [] #비어있는 리스트 1\n",
    "x = list() #비어있는 리스트 2\n",
    "y = [3,5,10] #숫자형 요소로 구성된 리스트 \n",
    "z = ['my','name','is','Yoon'] #문자형 요소로 구성된 리스트 \n",
    "a = [1,2,'my','name'] #숫자와 문자형 둘다 가질 수 있음\n",
    "b = [1,2,['my','name']] #list안에 list포함시키기"
   ]
  },
  {
   "cell_type": "markdown",
   "metadata": {},
   "source": [
    "## 2. List 인덱싱"
   ]
  },
  {
   "cell_type": "markdown",
   "metadata": {},
   "source": [
    "문자열처럼 인덱싱과 슬라이싱이 가능함. "
   ]
  },
  {
   "cell_type": "code",
   "execution_count": 1,
   "metadata": {},
   "outputs": [
    {
     "data": {
      "text/plain": [
       "[1, 2, 3, 4, 5]"
      ]
     },
     "execution_count": 1,
     "metadata": {},
     "output_type": "execute_result"
    }
   ],
   "source": [
    "mylist = [1,2,3,4,5]\n",
    "mylist"
   ]
  },
  {
   "cell_type": "code",
   "execution_count": 2,
   "metadata": {},
   "outputs": [
    {
     "data": {
      "text/plain": [
       "1"
      ]
     },
     "execution_count": 2,
     "metadata": {},
     "output_type": "execute_result"
    }
   ],
   "source": [
    "mylist[0] #mylist (list)의 첫 번째 요소 값"
   ]
  },
  {
   "cell_type": "code",
   "execution_count": 3,
   "metadata": {},
   "outputs": [
    {
     "data": {
      "text/plain": [
       "5"
      ]
     },
     "execution_count": 3,
     "metadata": {},
     "output_type": "execute_result"
    }
   ],
   "source": [
    "mylist[0] + mylist[3] #mylist의 첫 번째와 4번째 요소 값을 더한 것"
   ]
  },
  {
   "cell_type": "code",
   "execution_count": 4,
   "metadata": {},
   "outputs": [
    {
     "data": {
      "text/plain": [
       "5"
      ]
     },
     "execution_count": 4,
     "metadata": {},
     "output_type": "execute_result"
    }
   ],
   "source": [
    "mylist[-1] #마지막 요소 값"
   ]
  },
  {
   "cell_type": "markdown",
   "metadata": {},
   "source": [
    "## 3. 이중(또는 다중) 리스트"
   ]
  },
  {
   "cell_type": "markdown",
   "metadata": {},
   "source": [
    "a. 리스트 안의 요소 추출"
   ]
  },
  {
   "cell_type": "markdown",
   "metadata": {},
   "source": [
    "리스트 안의 일부 문자만 뽑고 싶을때 인덱싱하는 방법 \n",
    "\n",
    "``` python \n",
    "\n",
    "리스트명[해당sublist인덱스][해당요소인덱스]\n",
    "listname[0][0]\n",
    "\n",
    "```\n"
   ]
  },
  {
   "cell_type": "code",
   "execution_count": 7,
   "metadata": {},
   "outputs": [
    {
     "data": {
      "text/plain": [
       "'my'"
      ]
     },
     "execution_count": 7,
     "metadata": {},
     "output_type": "execute_result"
    }
   ],
   "source": [
    "b = [1,2,['my','name']] \n",
    "b[2][0]"
   ]
  },
  {
   "cell_type": "markdown",
   "metadata": {},
   "source": [
    "## 4. 리스트 슬라이싱"
   ]
  },
  {
   "cell_type": "markdown",
   "metadata": {},
   "source": [
    "문자열과 마찬가지 방법으로 리스트도 슬라이싱할 수 있다. "
   ]
  },
  {
   "cell_type": "code",
   "execution_count": 8,
   "metadata": {},
   "outputs": [],
   "source": [
    "mycafe = [\"starbucks\",\"ediya\",\"twosomeplace\",\"hollys\"]"
   ]
  },
  {
   "cell_type": "code",
   "execution_count": 9,
   "metadata": {},
   "outputs": [
    {
     "data": {
      "text/plain": [
       "['starbucks', 'ediya']"
      ]
     },
     "execution_count": 9,
     "metadata": {},
     "output_type": "execute_result"
    }
   ],
   "source": [
    "mycafe[0:2]"
   ]
  },
  {
   "cell_type": "code",
   "execution_count": 10,
   "metadata": {},
   "outputs": [
    {
     "data": {
      "text/plain": [
       "['starbucks', 'ediya']"
      ]
     },
     "execution_count": 10,
     "metadata": {},
     "output_type": "execute_result"
    }
   ],
   "source": [
    "mycafe[:2] #처음부터 2번째 요소인 mycafe[1]까지 나타내는 리스트 "
   ]
  },
  {
   "cell_type": "code",
   "execution_count": 11,
   "metadata": {},
   "outputs": [
    {
     "data": {
      "text/plain": [
       "['twosomeplace', 'hollys']"
      ]
     },
     "execution_count": 11,
     "metadata": {},
     "output_type": "execute_result"
    }
   ],
   "source": [
    "mycafe[2:] #리스트의 3번째 요소 (mylist[2])부터 끝까지 나타내는 리스트 "
   ]
  },
  {
   "cell_type": "markdown",
   "metadata": {},
   "source": [
    "### 1. \n",
    "아래와 같이 리스트 안에 리스트가 있는 형태의 리스트 변수(multiple)가 있다. "
   ]
  },
  {
   "cell_type": "markdown",
   "metadata": {},
   "source": [
    "    multiple = [1,2,3,['my','name','is','Yoon']]"
   ]
  },
  {
   "cell_type": "markdown",
   "metadata": {},
   "source": [
    "위 multiple 리스트 변수의 1번째, 2번째, 3번째 값을 반환해보세요 "
   ]
  },
  {
   "cell_type": "code",
   "execution_count": 14,
   "metadata": {},
   "outputs": [],
   "source": [
    "multiple = [1,2,3,['my','name','is','Yoon']]"
   ]
  },
  {
   "cell_type": "code",
   "execution_count": 16,
   "metadata": {},
   "outputs": [
    {
     "name": "stdout",
     "output_type": "stream",
     "text": [
      "1\n",
      "2\n",
      "['my', 'name', 'is', 'Yoon'] 1\n"
     ]
    }
   ],
   "source": [
    "print(multiple[0])\n",
    "print(multiple[1])\n",
    "print(multiple[-1],multiple[0])"
   ]
  },
  {
   "cell_type": "markdown",
   "metadata": {},
   "source": [
    "#### 2. \n",
    "\n",
    "list 변수 'multiple' 안의 'Yoon'만 추출해보세요. \n",
    "\n",
    "     multiple = [1,2,3,['my','name','is','Yoon']]"
   ]
  },
  {
   "cell_type": "code",
   "execution_count": 17,
   "metadata": {},
   "outputs": [
    {
     "data": {
      "text/plain": [
       "'Yoon'"
      ]
     },
     "execution_count": 17,
     "metadata": {},
     "output_type": "execute_result"
    }
   ],
   "source": [
    "multiple[-1][-1]"
   ]
  },
  {
   "cell_type": "markdown",
   "metadata": {},
   "source": [
    "### 3. \n",
    "\n",
    "아래와 같이 생긴 리스트('cafe')가 있을때, Starbucks만 추출하고싶다면 어떻게 인덱싱을해야할까?\n",
    "\n",
    "    cafe = [\"seoul\", \"daejeon\", [100, 120, [\"Ediya\", \"Starbucks\"]]]"
   ]
  },
  {
   "cell_type": "code",
   "execution_count": 19,
   "metadata": {},
   "outputs": [
    {
     "data": {
      "text/plain": [
       "'Starbucks'"
      ]
     },
     "execution_count": 19,
     "metadata": {},
     "output_type": "execute_result"
    }
   ],
   "source": [
    "cafe = [\"seoul\", \"daejeon\", [100, 120, [\"Ediya\", \"Starbucks\"]]]\n",
    "cafe[-1][-1][-1]"
   ]
  },
  {
   "cell_type": "markdown",
   "metadata": {},
   "source": [
    "### 4.\n",
    "\n",
    "중첩된 리스트도 슬라이싱해보자. 문자열과 일반 리스트 슬라이싱 방법과 동일하다. \n",
    "\n",
    "아래 리스트(myplace)를 도시명(Houston, Chicago)와 우편번호(5자리 숫자코드)별로 슬라이싱해보세요. \n",
    "\n",
    "    myplace = [\"TX\", ['Houston', 'Chicago'], \"30181\", \"US\"]"
   ]
  },
  {
   "cell_type": "code",
   "execution_count": 24,
   "metadata": {},
   "outputs": [
    {
     "data": {
      "text/plain": [
       "'30181'"
      ]
     },
     "execution_count": 24,
     "metadata": {},
     "output_type": "execute_result"
    }
   ],
   "source": [
    "#실습\n",
    "\n",
    "myplace = [\"TX\", ['Houston', 'Chicago'], \"30181\", \"US\"]\n",
    "\n",
    "#mycity = myplace[1]\n",
    "\n",
    "mycode = myplace[2]\n",
    "\n",
    "mycode"
   ]
  },
  {
   "cell_type": "markdown",
   "metadata": {},
   "source": [
    "# II. Tuple"
   ]
  },
  {
   "cell_type": "markdown",
   "metadata": {},
   "source": [
    "Tuple 자료형은 List와 비슷하다. \n",
    "\n",
    "두 자료형의 차이점은, \n",
    "\n",
    "1) List는 요소를 유동적으로 변경할 수 있으나, Tuple은 요소를 바꿀 수 없다는 점이다.  \n",
    "2) List는 \"[]\" 중괄호를, Tuple은 \"()\" 괄호를 사용한다. \n"
   ]
  },
  {
   "cell_type": "markdown",
   "metadata": {},
   "source": [
    "### 1. Tuple 생성\n"
   ]
  },
  {
   "cell_type": "markdown",
   "metadata": {},
   "source": [
    "Tuple은 다음과 같이 쓴다. \n"
   ]
  },
  {
   "cell_type": "code",
   "execution_count": null,
   "metadata": {},
   "outputs": [],
   "source": [
    "t1 = () #비어있는 튜플"
   ]
  },
  {
   "cell_type": "code",
   "execution_count": null,
   "metadata": {},
   "outputs": [],
   "source": [
    "t2 = (1,) #요소가 1개일때는 \",\"를 써야함"
   ]
  },
  {
   "cell_type": "code",
   "execution_count": null,
   "metadata": {},
   "outputs": [],
   "source": [
    "t3 = (1,2,3) #생성 방법1"
   ]
  },
  {
   "cell_type": "code",
   "execution_count": null,
   "metadata": {},
   "outputs": [],
   "source": [
    "t4 = 1,2,3 #생성 방법2 - 괄호 생략도 가능"
   ]
  },
  {
   "cell_type": "code",
   "execution_count": null,
   "metadata": {},
   "outputs": [],
   "source": [
    "t5 = ('a','b',('ab','cd')) #Tuple을 요소로 가질 수 있음"
   ]
  },
  {
   "cell_type": "markdown",
   "metadata": {},
   "source": [
    "### 2. Tuple 인덱싱 및 슬라이싱"
   ]
  },
  {
   "cell_type": "markdown",
   "metadata": {},
   "source": [
    "List, String처럼 인덱싱, 슬라이싱 가능함."
   ]
  },
  {
   "cell_type": "markdown",
   "metadata": {},
   "source": [
    "a. 인덱싱"
   ]
  },
  {
   "cell_type": "code",
   "execution_count": 25,
   "metadata": {},
   "outputs": [],
   "source": [
    "t1 = (1, 2, 'a','b')"
   ]
  },
  {
   "cell_type": "code",
   "execution_count": 26,
   "metadata": {},
   "outputs": [
    {
     "data": {
      "text/plain": [
       "1"
      ]
     },
     "execution_count": 26,
     "metadata": {},
     "output_type": "execute_result"
    }
   ],
   "source": [
    "t1[0]"
   ]
  },
  {
   "cell_type": "code",
   "execution_count": 27,
   "metadata": {},
   "outputs": [
    {
     "data": {
      "text/plain": [
       "'b'"
      ]
     },
     "execution_count": 27,
     "metadata": {},
     "output_type": "execute_result"
    }
   ],
   "source": [
    "t1[-1]"
   ]
  },
  {
   "cell_type": "markdown",
   "metadata": {},
   "source": [
    "b. 슬라이싱"
   ]
  },
  {
   "cell_type": "code",
   "execution_count": 28,
   "metadata": {},
   "outputs": [
    {
     "data": {
      "text/plain": [
       "(2, 'a', 'b')"
      ]
     },
     "execution_count": 28,
     "metadata": {},
     "output_type": "execute_result"
    }
   ],
   "source": [
    "t1[1:]"
   ]
  },
  {
   "cell_type": "markdown",
   "metadata": {},
   "source": [
    "### 3. Tuple 연산"
   ]
  },
  {
   "cell_type": "code",
   "execution_count": 29,
   "metadata": {},
   "outputs": [],
   "source": [
    "t1 = (1, 2, 'a','b')"
   ]
  },
  {
   "cell_type": "code",
   "execution_count": 30,
   "metadata": {},
   "outputs": [],
   "source": [
    "t2 = (3, 4)"
   ]
  },
  {
   "cell_type": "markdown",
   "metadata": {},
   "source": [
    "a. 더하기"
   ]
  },
  {
   "cell_type": "code",
   "execution_count": 32,
   "metadata": {},
   "outputs": [
    {
     "data": {
      "text/plain": [
       "(1, 2, 'a', 'b', 3, 4)"
      ]
     },
     "execution_count": 32,
     "metadata": {},
     "output_type": "execute_result"
    }
   ],
   "source": [
    "t1 + t2 "
   ]
  },
  {
   "cell_type": "markdown",
   "metadata": {},
   "source": [
    "b. 곱하기  "
   ]
  },
  {
   "cell_type": "code",
   "execution_count": 33,
   "metadata": {},
   "outputs": [
    {
     "data": {
      "text/plain": [
       "(3, 4, 3, 4, 3, 4)"
      ]
     },
     "execution_count": 33,
     "metadata": {},
     "output_type": "execute_result"
    }
   ],
   "source": [
    "t2 * 3 #여기서 곱하기는 반복을 뜻함"
   ]
  },
  {
   "cell_type": "markdown",
   "metadata": {},
   "source": [
    "c. 길이 구하기"
   ]
  },
  {
   "cell_type": "code",
   "execution_count": 35,
   "metadata": {},
   "outputs": [
    {
     "data": {
      "text/plain": [
       "2"
      ]
     },
     "execution_count": 35,
     "metadata": {},
     "output_type": "execute_result"
    }
   ],
   "source": [
    "len(t2)"
   ]
  },
  {
   "cell_type": "markdown",
   "metadata": {},
   "source": [
    "### 4. Tuple 요소 바꾸기/삭제하기"
   ]
  },
  {
   "cell_type": "markdown",
   "metadata": {},
   "source": [
    "a. Tuple 안에 있는 요소를 삭제하려고하면 어떻게 될까?"
   ]
  },
  {
   "cell_type": "code",
   "execution_count": 36,
   "metadata": {},
   "outputs": [],
   "source": [
    "asia = ('korea','china','japan','greece')\n",
    "#앗, 4번째 요소는 잘못되었다. 없앨 수 있을까?"
   ]
  },
  {
   "cell_type": "code",
   "execution_count": 37,
   "metadata": {},
   "outputs": [
    {
     "ename": "TypeError",
     "evalue": "'tuple' object doesn't support item deletion",
     "output_type": "error",
     "traceback": [
      "\u001b[0;31m---------------------------------------------------------------------------\u001b[0m",
      "\u001b[0;31mTypeError\u001b[0m                                 Traceback (most recent call last)",
      "\u001b[0;32m<ipython-input-37-a65e4064f199>\u001b[0m in \u001b[0;36m<module>\u001b[0;34m()\u001b[0m\n\u001b[0;32m----> 1\u001b[0;31m \u001b[0;32mdel\u001b[0m \u001b[0masia\u001b[0m\u001b[0;34m[\u001b[0m\u001b[0;36m3\u001b[0m\u001b[0;34m]\u001b[0m\u001b[0;34m\u001b[0m\u001b[0m\n\u001b[0m",
      "\u001b[0;31mTypeError\u001b[0m: 'tuple' object doesn't support item deletion"
     ]
    }
   ],
   "source": [
    "del asia[3]"
   ]
  },
  {
   "cell_type": "markdown",
   "metadata": {},
   "source": [
    "b. Tuple 안에 있는 요소를 대체하려고 하면 어떻게 될까?"
   ]
  },
  {
   "cell_type": "code",
   "execution_count": 38,
   "metadata": {},
   "outputs": [
    {
     "data": {
      "text/plain": [
       "('korea', 'china', 'japan', 'greece')"
      ]
     },
     "execution_count": 38,
     "metadata": {},
     "output_type": "execute_result"
    }
   ],
   "source": [
    "asia"
   ]
  },
  {
   "cell_type": "code",
   "execution_count": 39,
   "metadata": {},
   "outputs": [
    {
     "ename": "TypeError",
     "evalue": "'tuple' object does not support item assignment",
     "output_type": "error",
     "traceback": [
      "\u001b[0;31m---------------------------------------------------------------------------\u001b[0m",
      "\u001b[0;31mTypeError\u001b[0m                                 Traceback (most recent call last)",
      "\u001b[0;32m<ipython-input-39-90a756791894>\u001b[0m in \u001b[0;36m<module>\u001b[0;34m()\u001b[0m\n\u001b[0;32m----> 1\u001b[0;31m \u001b[0masia\u001b[0m\u001b[0;34m[\u001b[0m\u001b[0;36m3\u001b[0m\u001b[0;34m]\u001b[0m \u001b[0;34m=\u001b[0m \u001b[0;34m'india'\u001b[0m\u001b[0;34m\u001b[0m\u001b[0m\n\u001b[0m",
      "\u001b[0;31mTypeError\u001b[0m: 'tuple' object does not support item assignment"
     ]
    }
   ],
   "source": [
    "asia[3] = 'india'"
   ]
  },
  {
   "cell_type": "markdown",
   "metadata": {},
   "source": [
    "### 5. Tuple Methods"
   ]
  },
  {
   "cell_type": "markdown",
   "metadata": {},
   "source": [
    "count()"
   ]
  },
  {
   "cell_type": "code",
   "execution_count": 43,
   "metadata": {},
   "outputs": [],
   "source": [
    "cap_ohio = ('c','i','n','c','i','n','n','a','t','i')"
   ]
  },
  {
   "cell_type": "code",
   "execution_count": 44,
   "metadata": {},
   "outputs": [
    {
     "name": "stdout",
     "output_type": "stream",
     "text": [
      "3\n"
     ]
    }
   ],
   "source": [
    "print(cap_ohio.count('n')) #찾는 자료의 개수를 반환"
   ]
  },
  {
   "cell_type": "markdown",
   "metadata": {},
   "source": [
    "index(t)"
   ]
  },
  {
   "cell_type": "code",
   "execution_count": 45,
   "metadata": {},
   "outputs": [
    {
     "name": "stdout",
     "output_type": "stream",
     "text": [
      "1\n"
     ]
    }
   ],
   "source": [
    "print(cap_ohio.index('i')) #찾는 자료의 인덱스를 반환"
   ]
  },
  {
   "cell_type": "code",
   "execution_count": 49,
   "metadata": {},
   "outputs": [
    {
     "data": {
      "text/plain": [
       "3"
      ]
     },
     "execution_count": 49,
     "metadata": {},
     "output_type": "execute_result"
    }
   ],
   "source": [
    "mytuple = (1,2,3,\"me\",\"you\")\n",
    "#print(mytuple[0])\n",
    "#print(mytuple[-1])\n",
    "#print(mytuple*5)\n",
    "#mytuple[1] = \"green tea\"\n",
    "mytuple.index(\"me\")"
   ]
  },
  {
   "cell_type": "markdown",
   "metadata": {},
   "source": [
    "# III. Dictionary"
   ]
  },
  {
   "cell_type": "markdown",
   "metadata": {},
   "source": [
    "### 1. Dictionary 생성\n",
    "\n",
    "딕셔너리(Dictionary)란 정렬되지 않은 항목의 모음이다. 다른 자료형의 경우 , 인자값(value)만 요소로 가지지만 (예: List), Dictionary는 Key:Value(키:인자값)의 쌍을 값으로 가진다. \n",
    "\n",
    "즉, 원하는 Value가 Key를 가지고있고, 이를 알고있을 경우, 값을 검색할 수 있게 해준다. \n",
    "\n",
    "예를 들어, 어떤 사람은 \"이름 = 김서울\", \"나이 = 54세\", \"성별 = 여자\" 등으로 구분할 수 있듯이 이렇게 대응 관계를 나타내는 자료형을 연관 배열 (Associative arry) 또는 해시(Hash)라고도 부른다.\n",
    "\n",
    "파이썬에서 이러한 연관 배열을 가진 자료형을 Dictionary라고 한다. 위의 예의 경우 이름이 Key, \"김서울\"이 Value가 되듯이 한 쌍을 이루는 자료형을 일컫는다. \n",
    "\n",
    "딕셔너리는 List나 Tuple같이 순서에 얽매이지 않고 오로지 Key를 통해 Value를 얻는 것이 특징이다. 즉, \"이름\"에 해당하는 값을 탐색하기위해 딕셔너리에 할당된 모든 단어들을 순차적으로 탐색하지 않고, \"이름\"이라는 key만 검색하여 보는 것이다. (사전과 같은 원리이다). \n",
    "\n",
    "\n"
   ]
  },
  {
   "cell_type": "markdown",
   "metadata": {},
   "source": [
    "### 2.  Dictionary 만들기"
   ]
  },
  {
   "cell_type": "markdown",
   "metadata": {},
   "source": [
    "Dictionary는 다음과 같이 쓴다. "
   ]
  },
  {
   "cell_type": "markdown",
   "metadata": {},
   "source": [
    "my_dict = {Key1:Value1, Key2:Value2, Key3:Value3} "
   ]
  },
  {
   "cell_type": "code",
   "execution_count": null,
   "metadata": {},
   "outputs": [],
   "source": [
    "my_dict = {} #비어있는 dictionary"
   ]
  },
  {
   "cell_type": "code",
   "execution_count": null,
   "metadata": {},
   "outputs": [],
   "source": [
    "my_dict = {1:'apple', 2:'ball'} #정수형 키"
   ]
  },
  {
   "cell_type": "code",
   "execution_count": null,
   "metadata": {},
   "outputs": [],
   "source": [
    "my_dict = {'name':'John', 1:[2,4,3]}"
   ]
  },
  {
   "cell_type": "code",
   "execution_count": null,
   "metadata": {},
   "outputs": [],
   "source": [
    "my_dict = dict({1:'apple', 2:'ball'}) #dict()으로도 표현 가능"
   ]
  },
  {
   "cell_type": "code",
   "execution_count": null,
   "metadata": {},
   "outputs": [],
   "source": [
    "my_dict = dict([(1,'apple'), (2,'ball')]) #from sequence having each item as a pair?"
   ]
  },
  {
   "cell_type": "markdown",
   "metadata": {},
   "source": [
    "예를 들면 다음과 같은 dictionary를 만들 수 있다. \n",
    "\n",
    "    어떤 시험 과목의 응시자에 대한 정보를 각각 Key와 값을 할당했다. 이름, 나이, 듣기와 쓰기 두 과목에 대한 점수의 모음을 다음과 같이 Key에 할당할 수 있다. \n",
    "\n",
    "    sample_dic = {'name':'Jay', 'age':48, 'score':[70, 100]}\n",
    "    \n",
    "위에서 'name', 'age', 'score'는 Key이고, 각 Key에 해당하는 Value는 'Jay', '48', '[70,100]'이 된다.\n",
    "\n",
    "위와 같이 dictionary의 value에는 숫자형, 문자형, 리스트 자료형을 쓸 수 있다.  Key 값에는 숫자, 문자를 쓸 수 있지만 리스트는 쓸 수 없다. \n",
    "\n"
   ]
  },
  {
   "cell_type": "markdown",
   "metadata": {},
   "source": [
    "### 3. 요소(key:value) 추가/삭제하기. "
   ]
  },
  {
   "cell_type": "markdown",
   "metadata": {},
   "source": [
    "아래와 같은 dictionary를 생성해보기\n",
    "\n",
    "```\n",
    "    mycafe = {'name':'Starbucks', 'menu':'Americano','price':3800,'last_visit':[2,22]}\n",
    "\n",
    "```\n",
    "name = 카페 이름(문자열) |\n",
    "menu = 메뉴 이름(문자열) |\n",
    "price = 가격(정수) |\n",
    "last_visit = 마지막으로 방문한 일자: 월, 일(리스트) |"
   ]
  },
  {
   "cell_type": "code",
   "execution_count": 52,
   "metadata": {},
   "outputs": [],
   "source": [
    "mycafe = {'name':'Starbucks'} #요소 추가 방법 1"
   ]
  },
  {
   "cell_type": "code",
   "execution_count": 59,
   "metadata": {},
   "outputs": [
    {
     "data": {
      "text/plain": [
       "{'last_visit': [2, 22],\n",
       " 'menu': 'Americano',\n",
       " 'name': 'Starbucks',\n",
       " 'price': 3800,\n",
       " 'prince': 3800}"
      ]
     },
     "execution_count": 59,
     "metadata": {},
     "output_type": "execute_result"
    }
   ],
   "source": [
    "mycafe"
   ]
  },
  {
   "cell_type": "code",
   "execution_count": 54,
   "metadata": {},
   "outputs": [],
   "source": [
    "mycafe['menu'] = 'Americano' #요소 추가 방법 2"
   ]
  },
  {
   "cell_type": "code",
   "execution_count": 56,
   "metadata": {},
   "outputs": [],
   "source": [
    "mycafe['price'] = 3800\n",
    "mycafe['last_visit'] = [2,22]"
   ]
  },
  {
   "cell_type": "code",
   "execution_count": 58,
   "metadata": {},
   "outputs": [],
   "source": [
    "mycafe['prince'] = 3800 #앗 오타. del을 써서 아래 셀에서 지워보자"
   ]
  },
  {
   "cell_type": "code",
   "execution_count": 60,
   "metadata": {},
   "outputs": [],
   "source": [
    "del mycafe['prince']"
   ]
  },
  {
   "cell_type": "code",
   "execution_count": 61,
   "metadata": {},
   "outputs": [
    {
     "data": {
      "text/plain": [
       "{'last_visit': [2, 22],\n",
       " 'menu': 'Americano',\n",
       " 'name': 'Starbucks',\n",
       " 'price': 3800}"
      ]
     },
     "execution_count": 61,
     "metadata": {},
     "output_type": "execute_result"
    }
   ],
   "source": [
    "mycafe #확인"
   ]
  },
  {
   "cell_type": "markdown",
   "metadata": {},
   "source": [
    "### 4. 각 key에 대한 value 얻기\n",
    "\n",
    "    dict_name[Key]\n",
    "\n",
    "String, List, Tuple의 경우 인덱싱이나 슬라이싱을 통해 값을 호출했으나 Dictionary에서는 Key만을 사용하여 값을 호출한다. "
   ]
  },
  {
   "cell_type": "code",
   "execution_count": 67,
   "metadata": {},
   "outputs": [
    {
     "data": {
      "text/plain": [
       "{'last_visit': [2, 22],\n",
       " 'menu': 'Americano',\n",
       " 'name': 'Starbucks',\n",
       " 'price': 3800}"
      ]
     },
     "execution_count": 67,
     "metadata": {},
     "output_type": "execute_result"
    }
   ],
   "source": [
    "#위에서 만든 'mycafe' dictionary  사용- \n",
    "\n",
    "mycafe = {'name':'Starbucks', 'menu':'Americano', \n",
    "          'price':3800, 'last_visit':[2,22]}\n",
    "mycafe"
   ]
  },
  {
   "cell_type": "code",
   "execution_count": 97,
   "metadata": {},
   "outputs": [
    {
     "data": {
      "text/plain": [
       "'Starbucks'"
      ]
     },
     "execution_count": 97,
     "metadata": {},
     "output_type": "execute_result"
    }
   ],
   "source": [
    "mycafe['name']"
   ]
  },
  {
   "cell_type": "code",
   "execution_count": 64,
   "metadata": {},
   "outputs": [
    {
     "data": {
      "text/plain": [
       "[2, 22]"
      ]
     },
     "execution_count": 64,
     "metadata": {},
     "output_type": "execute_result"
    }
   ],
   "source": [
    "mycafe['last_visit']"
   ]
  },
  {
   "cell_type": "code",
   "execution_count": 65,
   "metadata": {},
   "outputs": [
    {
     "ename": "KeyError",
     "evalue": "1",
     "output_type": "error",
     "traceback": [
      "\u001b[0;31m---------------------------------------------------------------------------\u001b[0m",
      "\u001b[0;31mKeyError\u001b[0m                                  Traceback (most recent call last)",
      "\u001b[0;32m<ipython-input-65-7a945299bdc0>\u001b[0m in \u001b[0;36m<module>\u001b[0;34m()\u001b[0m\n\u001b[0;32m----> 1\u001b[0;31m \u001b[0mmycafe\u001b[0m\u001b[0;34m[\u001b[0m\u001b[0;36m1\u001b[0m\u001b[0;34m]\u001b[0m\u001b[0;34m\u001b[0m\u001b[0m\n\u001b[0m\u001b[1;32m      2\u001b[0m \u001b[0;31m#indexing은 사용하지 못함 = 오류\u001b[0m\u001b[0;34m\u001b[0m\u001b[0;34m\u001b[0m\u001b[0m\n",
      "\u001b[0;31mKeyError\u001b[0m: 1"
     ]
    }
   ],
   "source": [
    "mycafe[1]\n",
    "#indexing은 사용하지 못함 = 오류"
   ]
  },
  {
   "cell_type": "markdown",
   "metadata": {},
   "source": [
    "예외:\n",
    "Key 또는 Value가 정수일 경우 다음과 같이 써도 (인덱싱 처럼 보이지만) 사실 각 key에 해당하는 value이다. **헷갈림 주의**"
   ]
  },
  {
   "cell_type": "code",
   "execution_count": 68,
   "metadata": {},
   "outputs": [
    {
     "data": {
      "text/plain": [
       "'Starbucks'"
      ]
     },
     "execution_count": 68,
     "metadata": {},
     "output_type": "execute_result"
    }
   ],
   "source": [
    "mycafe1 = {1:'Starbucks', 2:'aTwosomePlace'}\n",
    "mycafe1[1] #2번째가 아닌, 1이란 Key에 해당하는 value를 호출"
   ]
  },
  {
   "cell_type": "markdown",
   "metadata": {},
   "source": [
    "### 5. Python dictionary methods"
   ]
  },
  {
   "cell_type": "markdown",
   "metadata": {},
   "source": [
    "다음은 dictionary와 관련된 (내장)함수들이다. \n",
    "\n",
    "```\n",
    "\n",
    "clear() : dictionary의 모든 요소를 지운다. \n",
    "\n",
    "copy() : dictionary를 복사\n",
    "\n",
    "keys() : dictionary의 key만 모아서 dict_keys라는 object를 생성해줌\n",
    "\n",
    "values(): dictionary의 values만 얻고 싶을 때 dict_values라는 object를 생성해줌. \n",
    "\n",
    "items(): dictionary의 요소 (Key:Value) 모두 호출\n",
    "\n",
    "clear(): dictionary의 요소 (Key:Value)를 통째로 지움.\n",
    "\n",
    "get(): Key로 value를 얻고싶을 때 사용\n",
    "\n",
    "in(): 해당 dictionary 내 Key 검색 \n",
    "\n",
    "```\n"
   ]
  },
  {
   "cell_type": "markdown",
   "metadata": {},
   "source": [
    "keys()"
   ]
  },
  {
   "cell_type": "code",
   "execution_count": 69,
   "metadata": {},
   "outputs": [
    {
     "data": {
      "text/plain": [
       "dict_keys(['name', 'last_visit', 'menu', 'price'])"
      ]
     },
     "execution_count": 69,
     "metadata": {},
     "output_type": "execute_result"
    }
   ],
   "source": [
    "mycafe = {'name':'Starbucks', 'menu':'Americano', \n",
    "          'price':3800, 'last_visit':[2,22]}\n",
    "mycafe.keys()"
   ]
  },
  {
   "cell_type": "code",
   "execution_count": 75,
   "metadata": {},
   "outputs": [],
   "source": [
    "mycafe_list = list(mycafe.keys()) #list로도 변환 가능"
   ]
  },
  {
   "cell_type": "code",
   "execution_count": 74,
   "metadata": {},
   "outputs": [
    {
     "data": {
      "text/plain": [
       "'name'"
      ]
     },
     "execution_count": 74,
     "metadata": {},
     "output_type": "execute_result"
    }
   ],
   "source": [
    "mycafe_list[0]"
   ]
  },
  {
   "cell_type": "code",
   "execution_count": 72,
   "metadata": {},
   "outputs": [
    {
     "name": "stdout",
     "output_type": "stream",
     "text": [
      "name\n",
      "last_visit\n",
      "menu\n",
      "price\n"
     ]
    }
   ],
   "source": [
    "for my in mycafe.keys():\n",
    "    print(my) #for문에서도 사용 가능."
   ]
  },
  {
   "cell_type": "markdown",
   "metadata": {},
   "source": [
    "values()"
   ]
  },
  {
   "cell_type": "code",
   "execution_count": 76,
   "metadata": {},
   "outputs": [
    {
     "data": {
      "text/plain": [
       "dict_values(['Starbucks', [2, 22], 'Americano', 3800])"
      ]
     },
     "execution_count": 76,
     "metadata": {},
     "output_type": "execute_result"
    }
   ],
   "source": [
    "mycafe.values()"
   ]
  },
  {
   "cell_type": "markdown",
   "metadata": {},
   "source": [
    "items()"
   ]
  },
  {
   "cell_type": "code",
   "execution_count": 77,
   "metadata": {},
   "outputs": [
    {
     "data": {
      "text/plain": [
       "dict_items([('name', 'Starbucks'), ('last_visit', [2, 22]), ('menu', 'Americano'), ('price', 3800)])"
      ]
     },
     "execution_count": 77,
     "metadata": {},
     "output_type": "execute_result"
    }
   ],
   "source": [
    "mycafe.items()\n",
    "#key와 value의 쌍을 튜플로 묶은 값으로 이루어진 리스트 형태의 dict_items 객체를 반환해줌"
   ]
  },
  {
   "cell_type": "markdown",
   "metadata": {},
   "source": [
    "clear()"
   ]
  },
  {
   "cell_type": "code",
   "execution_count": 82,
   "metadata": {},
   "outputs": [],
   "source": [
    "mycafe.clear()"
   ]
  },
  {
   "cell_type": "code",
   "execution_count": 83,
   "metadata": {},
   "outputs": [
    {
     "data": {
      "text/plain": [
       "{}"
      ]
     },
     "execution_count": 83,
     "metadata": {},
     "output_type": "execute_result"
    }
   ],
   "source": [
    "mycafe"
   ]
  },
  {
   "cell_type": "markdown",
   "metadata": {},
   "source": [
    "get()"
   ]
  },
  {
   "cell_type": "code",
   "execution_count": 79,
   "metadata": {},
   "outputs": [
    {
     "name": "stdout",
     "output_type": "stream",
     "text": [
      "3800 [2, 22]\n"
     ]
    }
   ],
   "source": [
    "#get('key')는 앞서 보았던 mycafe['key']와 동일한 기능을 한다.\n",
    "#print(mycafe.get('name'))\n",
    "print(mycafe.get('price'),mycafe.get('last_visit'))"
   ]
  },
  {
   "cell_type": "markdown",
   "metadata": {},
   "source": [
    "in()"
   ]
  },
  {
   "cell_type": "code",
   "execution_count": 80,
   "metadata": {},
   "outputs": [
    {
     "data": {
      "text/plain": [
       "True"
      ]
     },
     "execution_count": 80,
     "metadata": {},
     "output_type": "execute_result"
    }
   ],
   "source": [
    "#앞서 정의한 dictionary에 'key이름'이 있는지 확인함 \n",
    "#맞는 key를 찾을 경우 True가 나옴\n",
    "'name' in mycafe"
   ]
  },
  {
   "cell_type": "code",
   "execution_count": 81,
   "metadata": {},
   "outputs": [
    {
     "data": {
      "text/plain": [
       "False"
      ]
     },
     "execution_count": 81,
     "metadata": {},
     "output_type": "execute_result"
    }
   ],
   "source": [
    "#없는 key를 찾을 경우, False가 나옴\n",
    "'location' in mycafe"
   ]
  },
  {
   "cell_type": "code",
   "execution_count": null,
   "metadata": {},
   "outputs": [],
   "source": [
    "#원하는 만큼 여기에 또는 새 노트에 셀을 만들어 실습해보세요- 셀 추가는 shift+Enter 또는 Esc + B 입니다. "
   ]
  },
  {
   "cell_type": "code",
   "execution_count": 96,
   "metadata": {},
   "outputs": [
    {
     "data": {
      "text/plain": [
       "{'last_visit': [2, 22],\n",
       " 'menu': 'Americano',\n",
       " 'name': 'Starbucks',\n",
       " 'price': 3800}"
      ]
     },
     "execution_count": 96,
     "metadata": {},
     "output_type": "execute_result"
    }
   ],
   "source": [
    "mycafe = {'name':'Starbucks', 'menu':'Americano', \n",
    "          'price':3800, 'last_visit':[2,22]}\n",
    "\n",
    "mycafe\n",
    "\n",
    "#mycafe_list_1 = list(mycafe.values())\n",
    "#mycafe_list_2 = list(mycafe.values())\n",
    "#mycafe['last_visit'][0]\n",
    "#print(mycafe_list_1)\n",
    "#print(mycafe_list_2)\n",
    "#mycafe_list_3 = list(mycafe.values())\n",
    "#print(mycafe_list_3)"
   ]
  },
  {
   "cell_type": "markdown",
   "metadata": {},
   "source": [
    "# IV. Set "
   ]
  },
  {
   "cell_type": "markdown",
   "metadata": {},
   "source": [
    "set는 집합 자료형이다. 순서에 얽매이지 않으며 집합에 관련된 자료를 쉽게 처리하기 위해 만들어짐. "
   ]
  },
  {
   "cell_type": "markdown",
   "metadata": {},
   "source": [
    "### 1. Set 생성"
   ]
  },
  {
   "cell_type": "markdown",
   "metadata": {},
   "source": [
    "set는 다음과 같이 쓴다. \n",
    "\n",
    "    1. set_name = set(요소 1, 요소 2..)\n",
    "\n",
    "    2. set_name = {요소 1, 요소 2...}"
   ]
  },
  {
   "cell_type": "code",
   "execution_count": 98,
   "metadata": {},
   "outputs": [
    {
     "data": {
      "text/plain": [
       "{'jeong', 'kim', 'lee'}"
      ]
     },
     "execution_count": 98,
     "metadata": {},
     "output_type": "execute_result"
    }
   ],
   "source": [
    "last_names = set([\"lee\",\"kim\",\"jeong\"])\n",
    "last_names"
   ]
  },
  {
   "cell_type": "code",
   "execution_count": 99,
   "metadata": {},
   "outputs": [
    {
     "data": {
      "text/plain": [
       "{'jeong', 'kim', 'lee'}"
      ]
     },
     "execution_count": 99,
     "metadata": {},
     "output_type": "execute_result"
    }
   ],
   "source": [
    "{\"lee\",\"kim\",\"jeong\"}"
   ]
  },
  {
   "cell_type": "markdown",
   "metadata": {},
   "source": [
    "### 2. Set 특징"
   ]
  },
  {
   "cell_type": "markdown",
   "metadata": {},
   "source": [
    "set는 두 가지 특징을 가진다. \n",
    "\n",
    "1) 중복을 허용하지 않음\n",
    "\n",
    "2) 순서가 없음 (unorderd) = 즉, 인덱싱을 지원하지 않음\n",
    "\n",
    "특히 중복을 허용하지 않는 점 때문에 다루고자 하는 자료에서 중복을 제거하고 필요한 자료만 추출하고 싶을 때 유용하게 쓰임"
   ]
  },
  {
   "cell_type": "code",
   "execution_count": 100,
   "metadata": {},
   "outputs": [
    {
     "data": {
      "text/plain": [
       "{'H', 'e', 'l', 'o'}"
      ]
     },
     "execution_count": 100,
     "metadata": {},
     "output_type": "execute_result"
    }
   ],
   "source": [
    "#특징 1. 중복을 허용하지 않는다\n",
    "hello = set(\"Hello\")\n",
    "hello"
   ]
  },
  {
   "cell_type": "code",
   "execution_count": 101,
   "metadata": {},
   "outputs": [
    {
     "ename": "TypeError",
     "evalue": "'set' object does not support indexing",
     "output_type": "error",
     "traceback": [
      "\u001b[0;31m---------------------------------------------------------------------------\u001b[0m",
      "\u001b[0;31mTypeError\u001b[0m                                 Traceback (most recent call last)",
      "\u001b[0;32m<ipython-input-101-739b0c3d0383>\u001b[0m in \u001b[0;36m<module>\u001b[0;34m()\u001b[0m\n\u001b[1;32m      1\u001b[0m \u001b[0;31m#특징 2. 순서가 없어서 인덱싱을 지원하지 않음\u001b[0m\u001b[0;34m\u001b[0m\u001b[0;34m\u001b[0m\u001b[0m\n\u001b[0;32m----> 2\u001b[0;31m \u001b[0mhello\u001b[0m\u001b[0;34m[\u001b[0m\u001b[0;36m0\u001b[0m\u001b[0;34m]\u001b[0m\u001b[0;34m\u001b[0m\u001b[0m\n\u001b[0m",
      "\u001b[0;31mTypeError\u001b[0m: 'set' object does not support indexing"
     ]
    }
   ],
   "source": [
    "#특징 2. 순서가 없어서 인덱싱을 지원하지 않음\n",
    "hello[0]"
   ]
  },
  {
   "cell_type": "code",
   "execution_count": 102,
   "metadata": {},
   "outputs": [
    {
     "name": "stdout",
     "output_type": "stream",
     "text": [
      "['e', 'H', 'o', 'l']\n",
      "('e', 'H', 'o', 'l')\n",
      "e\n",
      "e\n"
     ]
    }
   ],
   "source": [
    "#특징 2-1. 인덱싱을 사용하고 싶으면, 가능한 자료형으로 변환 후 사용해야함. \n",
    "\n",
    "hello = set(\"Hello\")\n",
    "\n",
    "#1. 리스트 \n",
    "\n",
    "hello_list = list(hello)\n",
    "print(hello_list)\n",
    "\n",
    "#2. 튜플\n",
    "\n",
    "hello_tuple = tuple(hello)\n",
    "print(hello_tuple)\n",
    "\n",
    "#3.indexing\n",
    "\n",
    "print(hello_list[0])\n",
    "print(hello_tuple[0])"
   ]
  },
  {
   "cell_type": "markdown",
   "metadata": {},
   "source": [
    "### 3. 집합 연산"
   ]
  },
  {
   "cell_type": "markdown",
   "metadata": {},
   "source": [
    "set는 집합의 연산처럼 연산이 가능함. (교집합, 합집합, 차집합)"
   ]
  },
  {
   "cell_type": "code",
   "execution_count": 103,
   "metadata": {},
   "outputs": [],
   "source": [
    "#다음과 같은 2개의 집합이 있다고 가정하자. \n",
    "\n",
    "set1 = {1,2,3,4,5}\n",
    "set2 = {3,4,5,6,7}"
   ]
  },
  {
   "cell_type": "markdown",
   "metadata": {},
   "source": [
    "1. 교집합"
   ]
  },
  {
   "cell_type": "code",
   "execution_count": 104,
   "metadata": {},
   "outputs": [
    {
     "data": {
      "text/plain": [
       "{3, 4, 5}"
      ]
     },
     "execution_count": 104,
     "metadata": {},
     "output_type": "execute_result"
    }
   ],
   "source": [
    "set1 & set2 # 방법 1: &을 이용"
   ]
  },
  {
   "cell_type": "code",
   "execution_count": 105,
   "metadata": {},
   "outputs": [
    {
     "data": {
      "text/plain": [
       "{3, 4, 5}"
      ]
     },
     "execution_count": 105,
     "metadata": {},
     "output_type": "execute_result"
    }
   ],
   "source": [
    "set1.intersection(set2) #방법 2: intersection()을 이용"
   ]
  },
  {
   "cell_type": "markdown",
   "metadata": {},
   "source": [
    "2. 합집합"
   ]
  },
  {
   "cell_type": "code",
   "execution_count": 106,
   "metadata": {},
   "outputs": [
    {
     "data": {
      "text/plain": [
       "{1, 2, 3, 4, 5, 6, 7}"
      ]
     },
     "execution_count": 106,
     "metadata": {},
     "output_type": "execute_result"
    }
   ],
   "source": [
    "set1 | set2 #방법 1: |을 이용, 윈도우의 경우 원화 기호로 나옴"
   ]
  },
  {
   "cell_type": "code",
   "execution_count": 107,
   "metadata": {},
   "outputs": [
    {
     "data": {
      "text/plain": [
       "{1, 2, 3, 4, 5, 6, 7}"
      ]
     },
     "execution_count": 107,
     "metadata": {},
     "output_type": "execute_result"
    }
   ],
   "source": [
    "set1.union(set2) #방법 2: union()을 이용"
   ]
  },
  {
   "cell_type": "markdown",
   "metadata": {},
   "source": [
    "3. 차집합"
   ]
  },
  {
   "cell_type": "code",
   "execution_count": 108,
   "metadata": {},
   "outputs": [
    {
     "data": {
      "text/plain": [
       "{1, 2}"
      ]
     },
     "execution_count": 108,
     "metadata": {},
     "output_type": "execute_result"
    }
   ],
   "source": [
    "set1 - set2 #방법1: - 을 이용"
   ]
  },
  {
   "cell_type": "code",
   "execution_count": 109,
   "metadata": {},
   "outputs": [
    {
     "data": {
      "text/plain": [
       "{6, 7}"
      ]
     },
     "execution_count": 109,
     "metadata": {},
     "output_type": "execute_result"
    }
   ],
   "source": [
    "set2 - set1"
   ]
  },
  {
   "cell_type": "code",
   "execution_count": 110,
   "metadata": {},
   "outputs": [
    {
     "data": {
      "text/plain": [
       "{1, 2}"
      ]
     },
     "execution_count": 110,
     "metadata": {},
     "output_type": "execute_result"
    }
   ],
   "source": [
    "set1.difference(set2) #difference()를 이용"
   ]
  },
  {
   "cell_type": "markdown",
   "metadata": {},
   "source": [
    "### 4. Set 관련 함수들"
   ]
  },
  {
   "cell_type": "markdown",
   "metadata": {},
   "source": [
    "다음은 set과 관련된 (내장)함수들이다. \n",
    "\n",
    "```\n",
    "add() : set에 값(요소) 1개 추가\n",
    "update(): set 값(요소) 여러 개 추가\n",
    "remove(): 특정 값(요소) 제거\n",
    "```"
   ]
  },
  {
   "cell_type": "code",
   "execution_count": 111,
   "metadata": {},
   "outputs": [],
   "source": [
    "myset = {1,2,3,4,5}"
   ]
  },
  {
   "cell_type": "markdown",
   "metadata": {},
   "source": [
    "1. add()"
   ]
  },
  {
   "cell_type": "code",
   "execution_count": 112,
   "metadata": {},
   "outputs": [
    {
     "data": {
      "text/plain": [
       "{1, 2, 3, 4, 5, 6}"
      ]
     },
     "execution_count": 112,
     "metadata": {},
     "output_type": "execute_result"
    }
   ],
   "source": [
    "myset.add(6)\n",
    "myset"
   ]
  },
  {
   "cell_type": "markdown",
   "metadata": {},
   "source": [
    "2.update()"
   ]
  },
  {
   "cell_type": "code",
   "execution_count": 113,
   "metadata": {},
   "outputs": [
    {
     "data": {
      "text/plain": [
       "{1, 2, 3, 4, 5, 6, 7, 8, 9}"
      ]
     },
     "execution_count": 113,
     "metadata": {},
     "output_type": "execute_result"
    }
   ],
   "source": [
    "myset.update([7,8,9])\n",
    "myset"
   ]
  },
  {
   "cell_type": "markdown",
   "metadata": {},
   "source": [
    "3.remove()"
   ]
  },
  {
   "cell_type": "code",
   "execution_count": 114,
   "metadata": {},
   "outputs": [
    {
     "data": {
      "text/plain": [
       "{1, 2, 3, 4, 5, 6, 7, 8}"
      ]
     },
     "execution_count": 114,
     "metadata": {},
     "output_type": "execute_result"
    }
   ],
   "source": [
    "myset.remove(9)\n",
    "myset"
   ]
  },
  {
   "cell_type": "markdown",
   "metadata": {},
   "source": [
    "# V. Booleen (Bool)"
   ]
  },
  {
   "cell_type": "markdown",
   "metadata": {},
   "source": [
    "컴퓨터가 무엇이 옳고 틀린지 판단하려면 무엇이 '참'인지 '거짓'인지를 의미하는 데이터가 필요함. \n",
    "\n",
    "Boolean 자료형 : 참(True)과 거짓(False)을 나타내는 자료형\n",
    "\n",
    "파이썬에서는 ```True``` 로 참을 나타내고,``` False ```로 거짓을 나타낸다. \n",
    "\n",
    "Boolean은 줄여서 Bool이라고하며, 참과 거짓, 두가지 값만 가질 수 있다. "
   ]
  },
  {
   "cell_type": "markdown",
   "metadata": {},
   "source": [
    "### 1. Bool 생성"
   ]
  },
  {
   "cell_type": "markdown",
   "metadata": {},
   "source": [
    "Bool 자료형은 다음과 같이 쓴다. "
   ]
  },
  {
   "cell_type": "code",
   "execution_count": 115,
   "metadata": {},
   "outputs": [],
   "source": [
    "#True, False의 첫글자는 대문자로 써야함\n",
    "a = True \n",
    "b = False"
   ]
  },
  {
   "cell_type": "markdown",
   "metadata": {},
   "source": [
    "Bool 자료형은 조건문의 리턴값으로도 사용된다. \n",
    "<<미리보기>>\n"
   ]
  },
  {
   "cell_type": "code",
   "execution_count": 117,
   "metadata": {},
   "outputs": [
    {
     "data": {
      "text/plain": [
       "True"
      ]
     },
     "execution_count": 117,
     "metadata": {},
     "output_type": "execute_result"
    }
   ],
   "source": [
    "a == a #a와 a가 같은지를 묻는 조건문"
   ]
  },
  {
   "cell_type": "code",
   "execution_count": 118,
   "metadata": {},
   "outputs": [
    {
     "data": {
      "text/plain": [
       "True"
      ]
     },
     "execution_count": 118,
     "metadata": {},
     "output_type": "execute_result"
    }
   ],
   "source": [
    "100 > 99"
   ]
  },
  {
   "cell_type": "code",
   "execution_count": 119,
   "metadata": {},
   "outputs": [
    {
     "data": {
      "text/plain": [
       "False"
      ]
     },
     "execution_count": 119,
     "metadata": {},
     "output_type": "execute_result"
    }
   ],
   "source": [
    "100 > 100"
   ]
  },
  {
   "cell_type": "markdown",
   "metadata": {},
   "source": [
    "### 2. 자료형의 참과 거짓"
   ]
  },
  {
   "cell_type": "code",
   "execution_count": 120,
   "metadata": {},
   "outputs": [
    {
     "data": {
      "text/plain": [
       "True"
      ]
     },
     "execution_count": 120,
     "metadata": {},
     "output_type": "execute_result"
    }
   ],
   "source": [
    "bool(\"a\") #문자형 True"
   ]
  },
  {
   "cell_type": "code",
   "execution_count": 121,
   "metadata": {},
   "outputs": [
    {
     "data": {
      "text/plain": [
       "False"
      ]
     },
     "execution_count": 121,
     "metadata": {},
     "output_type": "execute_result"
    }
   ],
   "source": [
    "bool(\"\") #빈 문자형은 False"
   ]
  },
  {
   "cell_type": "code",
   "execution_count": 122,
   "metadata": {},
   "outputs": [
    {
     "data": {
      "text/plain": [
       "True"
      ]
     },
     "execution_count": 122,
     "metadata": {},
     "output_type": "execute_result"
    }
   ],
   "source": [
    "bool([\"starbucks\",\"aTwosomePlace\"]) #요소가 있는 List는 참"
   ]
  },
  {
   "cell_type": "code",
   "execution_count": 123,
   "metadata": {},
   "outputs": [
    {
     "data": {
      "text/plain": [
       "False"
      ]
     },
     "execution_count": 123,
     "metadata": {},
     "output_type": "execute_result"
    }
   ],
   "source": [
    "bool([]) #비어있는 List는 거짓"
   ]
  },
  {
   "cell_type": "code",
   "execution_count": 124,
   "metadata": {},
   "outputs": [
    {
     "data": {
      "text/plain": [
       "False"
      ]
     },
     "execution_count": 124,
     "metadata": {},
     "output_type": "execute_result"
    }
   ],
   "source": [
    "bool({})"
   ]
  },
  {
   "cell_type": "code",
   "execution_count": 125,
   "metadata": {},
   "outputs": [
    {
     "data": {
      "text/plain": [
       "True"
      ]
     },
     "execution_count": 125,
     "metadata": {},
     "output_type": "execute_result"
    }
   ],
   "source": [
    "bool(1)"
   ]
  },
  {
   "cell_type": "code",
   "execution_count": 126,
   "metadata": {},
   "outputs": [
    {
     "data": {
      "text/plain": [
       "False"
      ]
     },
     "execution_count": 126,
     "metadata": {},
     "output_type": "execute_result"
    }
   ],
   "source": [
    "bool(0)"
   ]
  },
  {
   "cell_type": "code",
   "execution_count": 127,
   "metadata": {},
   "outputs": [
    {
     "data": {
      "text/plain": [
       "False"
      ]
     },
     "execution_count": 127,
     "metadata": {},
     "output_type": "execute_result"
    }
   ],
   "source": [
    "bool(None)"
   ]
  },
  {
   "cell_type": "code",
   "execution_count": 128,
   "metadata": {},
   "outputs": [
    {
     "data": {
      "text/plain": [
       "False"
      ]
     },
     "execution_count": 128,
     "metadata": {},
     "output_type": "execute_result"
    }
   ],
   "source": [
    "bool(10<20 and 0) #둘다 참이어야 True"
   ]
  },
  {
   "cell_type": "code",
   "execution_count": 131,
   "metadata": {},
   "outputs": [
    {
     "data": {
      "text/plain": [
       "True"
      ]
     },
     "execution_count": 131,
     "metadata": {},
     "output_type": "execute_result"
    }
   ],
   "source": [
    "bool(False or 1) #둘 중 하나만 참이면 True"
   ]
  },
  {
   "cell_type": "markdown",
   "metadata": {},
   "source": [
    "### 실습"
   ]
  },
  {
   "cell_type": "markdown",
   "metadata": {},
   "source": [
    "### 튜플 실습 \n",
    "\n",
    "1. 최소 5개 요소를 가진 Tuple 하나를 만드세요. (최소 문자형, 숫자형 1개씩)\n",
    "2. Tuple의 첫번째 요소를 출력하세요\n",
    "3. Tuple의 마지막 요소를 출력하세요. \n",
    "4. Tuple을 5번 반복하여 출력하세요"
   ]
  },
  {
   "cell_type": "markdown",
   "metadata": {},
   "source": [
    "### 리스트 실습\n",
    "\n",
    "1. ‘문자열’, ‘숫자형’, ‘리스트’ 자료형이 최소 한개씩 포함된 5개 요소가 포함된 dictionary를 만들어보세요  (key와 value는 자유롭게~)\n",
    "\n",
    "2.  key:value 한 쌍을 호출하세요.  \n",
    "\n",
    "3. Key:value 한 쌍을 지우세요. \n",
    "\n",
    "4. key만 출력하세요.\n",
    "\n",
    "5. value만 출력하세요. \n",
    "\n",
    "6. list형태로 바꾼 후 출력하세요. \n",
    "\n",
    "7. For 문 형태로 바꾸어 출력하세요.\n",
    "\n",
    "8. key와 value의 쌍을 튜플로 묶은 값으로 호출하세요. "
   ]
  },
  {
   "cell_type": "markdown",
   "metadata": {},
   "source": [
    "### Set 실습\n",
    "\n",
    "1. 다음 요소를 포함한 세트 하나를 만들어보세요. \n",
    "        45, 62, 24, 22, 110\n",
    "2. 다음 요소를 포함한 세트 하나 더 만들어보세요. \n",
    "        52, 25, 45, 110, 111\n",
    "3. 세트 1과 세트 2의 교집합을 구하세요. \n",
    "4. 세트 1과 세트 2의 합집합을 구하세요. \n",
    "5. 세트 1과 세트 2의 차집합을 구하세요. \n",
    "6. 세트 1에 원소 “220”을 추가하세요. (숫자형)\n",
    "7. 세트 2에 원소 “[220, 221, 222]”를 추가하세요. (리스트)\n",
    "8. 두 개의 세트 모두 인덱싱을 만들 수 있게 만들어보세요. \n",
    "9.  세트 2의 2번째(인덱싱) 원소를 출력해보세요. \n"
   ]
  },
  {
   "cell_type": "code",
   "execution_count": null,
   "metadata": {},
   "outputs": [],
   "source": []
  }
 ],
 "metadata": {
  "kernelspec": {
   "display_name": "Python 3",
   "language": "python",
   "name": "python3"
  },
  "language_info": {
   "codemirror_mode": {
    "name": "ipython",
    "version": 3
   },
   "file_extension": ".py",
   "mimetype": "text/x-python",
   "name": "python",
   "nbconvert_exporter": "python",
   "pygments_lexer": "ipython3",
   "version": "3.6.8"
  }
 },
 "nbformat": 4,
 "nbformat_minor": 2
}
