{
 "cells": [
  {
   "cell_type": "markdown",
   "metadata": {},
   "source": [
    "# SPLIT Week 3\n",
    "\n",
    "# String Expression, Methods, and Formatting\n"
   ]
  },
  {
   "cell_type": "markdown",
   "metadata": {},
   "source": [
    "### 1. 문자열 인덱싱\n",
    "\n",
    "인덱싱(indexing) = 가리킴\n",
    "슬라이싱(slicing) = 잘라냄\n"
   ]
  },
  {
   "cell_type": "markdown",
   "metadata": {},
   "source": [
    "예제 1.  다음과 같은 문자열이 있다고 보자. \n",
    "\n",
    "\"Life is too short, You need Python\"\n",
    "\n",
    "이 문자열의 각 문자마다 번호(주소값)를 매겨보면 다음과 같이 나옴. \n",
    "\n",
    "|L|i|f|e| |i|s| |s|h|o|r|t|\n",
    "|-|-|-|-|-|-|-|-|-|-|-|-|-|\n",
    "|0|1|2|3|4|5|6|7|8|9|10|11|12|\n",
    "\n",
    "파이썬은 숫자 0부터 숫자를 센다."
   ]
  },
  {
   "cell_type": "markdown",
   "metadata": {},
   "source": [
    "a. 문자열 인덱싱하기\n",
    "\n",
    "문자열을 인덱싱하는 방법은 변수+[번호]를 입력하면 된다. "
   ]
  },
  {
   "cell_type": "code",
   "execution_count": null,
   "metadata": {},
   "outputs": [],
   "source": [
    "a = \"Life is too short, You need Python\"\n",
    "a[0]\n",
    "a[2]\n",
    "a[-2]\n",
    "a[-0] #0과 같다"
   ]
  },
  {
   "cell_type": "markdown",
   "metadata": {},
   "source": [
    "### 2. 문자열 슬라이싱"
   ]
  },
  {
   "cell_type": "markdown",
   "metadata": {},
   "source": [
    "문자열에서 단순히 한 문자만을 뽑아내는 것이 아니라 'Life' 또는 'You'같은 단어들을 뽑아내는 방법"
   ]
  },
  {
   "cell_type": "markdown",
   "metadata": {},
   "source": [
    "#### 1. 인덱싱 연산"
   ]
  },
  {
   "cell_type": "code",
   "execution_count": null,
   "metadata": {},
   "outputs": [],
   "source": [
    "a = \"Life is too short, You need Python\""
   ]
  },
  {
   "cell_type": "code",
   "execution_count": null,
   "metadata": {},
   "outputs": [],
   "source": [
    "a[0]"
   ]
  },
  {
   "cell_type": "code",
   "execution_count": null,
   "metadata": {},
   "outputs": [],
   "source": [
    "a[1]"
   ]
  },
  {
   "cell_type": "code",
   "execution_count": null,
   "metadata": {},
   "outputs": [],
   "source": [
    "b = a[0]+a[1]+a[2]+a[3]\n",
    "b"
   ]
  },
  {
   "cell_type": "markdown",
   "metadata": {},
   "source": [
    "#### 2. 슬라이싱"
   ]
  },
  {
   "cell_type": "markdown",
   "metadata": {},
   "source": [
    "2.1. 특징 1. 끝 번호는 생략하여 출력한다"
   ]
  },
  {
   "cell_type": "code",
   "execution_count": null,
   "metadata": {},
   "outputs": [],
   "source": [
    "a[0:3]"
   ]
  },
  {
   "cell_type": "markdown",
   "metadata": {},
   "source": [
    "슬라이싱은 변수[시작번호:끝번호] 로 한다. 여기서 끝 번호에 해당하는 인자값은 포함하지 않는다. a[0:3]을 수식으로 나타내면 다음과 같다. \n",
    "\n",
    "``` \n",
    "0 <= a <3\n",
    "\n",
    "```\n",
    "\n",
    "이 수식을 만족하는 a의 인자값은 a[0], a[1], a[2]이고, a[0:3]은 'Lif'가, a[0:4]은 'Life'가 되는 것임. "
   ]
  },
  {
   "cell_type": "markdown",
   "metadata": {},
   "source": [
    "2.2. 특징 2. 공백 역시 문자열이므로 인덱싱 및 슬라이싱의 대상이 된다"
   ]
  },
  {
   "cell_type": "code",
   "execution_count": null,
   "metadata": {},
   "outputs": [],
   "source": [
    "a[0:5]"
   ]
  },
  {
   "cell_type": "markdown",
   "metadata": {},
   "source": [
    "'life'와 'life '는 완전히 다른 문자열임을 주의**"
   ]
  },
  {
   "cell_type": "markdown",
   "metadata": {},
   "source": [
    "2.3. 문자열의 요소값은 immutable한 자료형이기 때문에 슬라이싱 한 것을 임의의 다른 문자열로 대체할 수 없다. "
   ]
  },
  {
   "cell_type": "code",
   "execution_count": null,
   "metadata": {},
   "outputs": [],
   "source": [
    "a = \"Flower\"\n",
    "a[0]"
   ]
  },
  {
   "cell_type": "code",
   "execution_count": null,
   "metadata": {},
   "outputs": [],
   "source": [
    "a[0] = 'f' #이렇게 대체할 수 없다. 오류메세지가 뜸. "
   ]
  },
  {
   "cell_type": "code",
   "execution_count": null,
   "metadata": {},
   "outputs": [],
   "source": [
    "#대안 1\n",
    "a = \"Flower\"\n",
    "#a[:0]\n",
    "#a[1:]\n",
    "a[:0] + 'f' + a[1:]"
   ]
  },
  {
   "cell_type": "markdown",
   "metadata": {},
   "source": [
    "a. 끝번호 생략하여 끝까지 슬라이싱\n"
   ]
  },
  {
   "cell_type": "code",
   "execution_count": null,
   "metadata": {},
   "outputs": [],
   "source": [
    "a[5:]"
   ]
  },
  {
   "cell_type": "markdown",
   "metadata": {},
   "source": [
    "b. 시작번호 생략하여 처음부터 슬라이싱"
   ]
  },
  {
   "cell_type": "code",
   "execution_count": null,
   "metadata": {},
   "outputs": [],
   "source": [
    "a[:5]"
   ]
  },
  {
   "cell_type": "markdown",
   "metadata": {},
   "source": [
    "c. 문자열의 처음부터 끝까지 슬라이싱"
   ]
  },
  {
   "cell_type": "code",
   "execution_count": null,
   "metadata": {},
   "outputs": [],
   "source": [
    "a[:]"
   ]
  },
  {
   "cell_type": "markdown",
   "metadata": {},
   "source": [
    "d. 슬라이싱도 인덱싱과 마찬가지로 마이너스(-) 기호 사용"
   ]
  },
  {
   "cell_type": "code",
   "execution_count": null,
   "metadata": {},
   "outputs": [],
   "source": [
    "a[19:-7]"
   ]
  },
  {
   "cell_type": "markdown",
   "metadata": {},
   "source": [
    "### - 실습 1. \n",
    "\n",
    "실습에 쓸 파일의 이름을 다음과 같이 concatenate해버렸다. 슬라이싱을 이용하여 날짜, 진도(Week3), 파일유형(Note)으로 구분하고 새 변수에 지정해보세요. (슬라이싱한 것도 각각 변수에 정의하여 나누어보세요)\n",
    "\n",
    "a = \"20190221Week2Note\"\n"
   ]
  },
  {
   "cell_type": "code",
   "execution_count": 6,
   "metadata": {},
   "outputs": [
    {
     "name": "stdout",
     "output_type": "stream",
     "text": [
      "20190221\n",
      "Week2\n",
      "Note\n"
     ]
    }
   ],
   "source": [
    "#실습 1. \n",
    "a = \"20190221Week2Note\"\n",
    "date = a[:8]\n",
    "week = a[8:13]\n",
    "note = a[-4:]\n",
    "print(date)\n",
    "print(week)\n",
    "print(note)"
   ]
  },
  {
   "cell_type": "markdown",
   "metadata": {},
   "source": [
    "### - 실습 2. \n",
    "\n",
    "이메일에 첨부할 파일을 찾다가 파일명에 오타가 있는 것을 발견했다. 아래 파일명을 철자에 맞게 고쳐보세요. \n",
    "\n",
    "\"SeoolNationalUnniversity\""
   ]
  },
  {
   "cell_type": "code",
   "execution_count": 16,
   "metadata": {},
   "outputs": [
    {
     "name": "stdout",
     "output_type": "stream",
     "text": [
      "Seo\n",
      "lNationalUn\n",
      "iversity\n"
     ]
    },
    {
     "data": {
      "text/plain": [
       "'SeoulNationalUniversity'"
      ]
     },
     "execution_count": 16,
     "metadata": {},
     "output_type": "execute_result"
    }
   ],
   "source": [
    "#실습 2.\n",
    "a = \"SeoolNationalUnniversity\"\n",
    "print(a[:3])\n",
    "print(a[4:15])\n",
    "print(a[16:])\n",
    "first = a[:3]\n",
    "second = a[4:15]\n",
    "third = a[16:]\n",
    "first + 'u' + second + third"
   ]
  },
  {
   "cell_type": "markdown",
   "metadata": {},
   "source": [
    "### - 실습 3.\n",
    "\n",
    "3-1. 무민의 주민등록번호는 790708-1849231이다. 무민의 주민번호를 연월일(YYMMDD) 부분과 뒤 나머지 부분으로 나누어 출력해보세요"
   ]
  },
  {
   "cell_type": "code",
   "execution_count": null,
   "metadata": {},
   "outputs": [],
   "source": [
    "#실습 3-1\n",
    "pin = \"690404-1849231\"\n",
    "pin_birth = pin[:6]\n",
    "pin_rest = pin[7:]\n",
    "pin_rest"
   ]
  },
  {
   "cell_type": "markdown",
   "metadata": {},
   "source": [
    "3-2. 무민의 주민등록번호에서 성별을 나타내는 숫자의 인덱스를 출력해보세요. "
   ]
  },
  {
   "cell_type": "code",
   "execution_count": null,
   "metadata": {},
   "outputs": [],
   "source": [
    "#실습 3-2\n",
    "pin[7]"
   ]
  },
  {
   "cell_type": "markdown",
   "metadata": {},
   "source": [
    "## 3. 문자열 포매팅 (Formatting)"
   ]
  },
  {
   "cell_type": "markdown",
   "metadata": {},
   "source": [
    "문자열 내에 어떤 값을 대체하는 방법임. \n",
    "\n",
    "예를 들어, 아래와 같이 일부 숫자나 문자만 다르고 나머지가 반복되는 형태의 문장이라고 보자. \n",
    "\n",
    "예1. \n",
    "\n",
    "a. 오늘 서울의 최고 기온은 <b>26</b>도 입니다.\n",
    "\n",
    "b. 오늘 서울의 최고 기온은 <b>30</b>도 입니다. \n",
    "\n",
    "\n",
    "예2. \n",
    "\n",
    "a. <b>benzlover123</b>님 회원가입 신청이 완료되었습니다.  \n",
    "\n",
    "b. <b>mymoo0710</b>님 회원가입 신청이 완료되었습니다. \n",
    "\n",
    "이럴 때, 반복되는 문장을 일일이 다 입력하는 것은 수고로우니, 그 중 반복되지 않는 일부분만 대체하고자할때 쓰는 방법이 문자 Formatting이다. 이때, <b>문자열 포맷 코드</b>를 활용한다. "
   ]
  },
  {
   "cell_type": "markdown",
   "metadata": {},
   "source": [
    "### 3.1. 문자열 포맷 코드"
   ]
  },
  {
   "cell_type": "markdown",
   "metadata": {},
   "source": [
    "|코드|설명             |\n",
    "|---|:---------------:|\n",
    "|%s |  문자열(String)|\n",
    "|%c| 문자1개(character)|\n",
    "|%d|정수(Integer)|\n",
    "|%f|부동소수(floating-point)|\n",
    "|%o|8진수|\n",
    "|%x|16진수|\n",
    "|%%|Literal%(문자%그대로)|"
   ]
  },
  {
   "cell_type": "markdown",
   "metadata": {},
   "source": [
    "a. 숫자 대입\n"
   ]
  },
  {
   "cell_type": "code",
   "execution_count": null,
   "metadata": {},
   "outputs": [],
   "source": [
    "a = \"지난 주 등록한 회원 수는 총 %d명 입니다\" %3"
   ]
  },
  {
   "cell_type": "code",
   "execution_count": null,
   "metadata": {},
   "outputs": [],
   "source": [
    "a"
   ]
  },
  {
   "cell_type": "markdown",
   "metadata": {},
   "source": [
    "b. 문자열 대입"
   ]
  },
  {
   "cell_type": "code",
   "execution_count": null,
   "metadata": {},
   "outputs": [],
   "source": [
    "b = \"지난 주 등록한 신규 회원은 %s입니다.\" %\"공유\""
   ]
  },
  {
   "cell_type": "code",
   "execution_count": null,
   "metadata": {},
   "outputs": [],
   "source": [
    "b"
   ]
  },
  {
   "cell_type": "markdown",
   "metadata": {},
   "source": [
    "c. 변수 대입"
   ]
  },
  {
   "cell_type": "code",
   "execution_count": null,
   "metadata": {},
   "outputs": [],
   "source": [
    "number = 3\n",
    "\"I went to the gym %d times last week\" % number"
   ]
  },
  {
   "cell_type": "markdown",
   "metadata": {},
   "source": [
    "d. 여러개의 값 넣기 "
   ]
  },
  {
   "cell_type": "code",
   "execution_count": null,
   "metadata": {},
   "outputs": [],
   "source": [
    "name = \"공유\"\n",
    "month = 12\n",
    "date = 31\n",
    "\n",
    "\"%s님께서 마지막으로 결제한 일자는 %d월 %d일입니다\" % (name,month,date)"
   ]
  },
  {
   "cell_type": "markdown",
   "metadata": {},
   "source": [
    "c. Literal %을 써야할 때. "
   ]
  },
  {
   "cell_type": "code",
   "execution_count": null,
   "metadata": {},
   "outputs": [],
   "source": [
    "\"올해 예상 매출액증가율은 %d%이다\" %30"
   ]
  },
  {
   "cell_type": "code",
   "execution_count": null,
   "metadata": {},
   "outputs": [],
   "source": [
    "\"올해 예상 매출액증가율은 %d%%이다\" %30"
   ]
  },
  {
   "cell_type": "markdown",
   "metadata": {},
   "source": [
    "### 3. 포맷 코드와 숫자 함께 사용하기"
   ]
  },
  {
   "cell_type": "markdown",
   "metadata": {},
   "source": [
    "기타 정렬 표현들"
   ]
  },
  {
   "cell_type": "markdown",
   "metadata": {},
   "source": [
    "a. 정렬과 공백"
   ]
  },
  {
   "cell_type": "markdown",
   "metadata": {},
   "source": [
    "길이가 n개인 문자열 공간에서 특정 문자열을 정렬하고 공백넣기. \n",
    "\n",
    "예1. 공백 + \"  world\" 오른쪽 정렬\n"
   ]
  },
  {
   "cell_type": "code",
   "execution_count": null,
   "metadata": {},
   "outputs": [],
   "source": [
    "\"%6s\" % \"world\""
   ]
  },
  {
   "cell_type": "markdown",
   "metadata": {},
   "source": [
    "예2. 공백 + \"world\" 왼쪽 정렬"
   ]
  },
  {
   "cell_type": "code",
   "execution_count": null,
   "metadata": {},
   "outputs": [],
   "source": [
    "\"%-10s\" % \"world\""
   ]
  },
  {
   "cell_type": "code",
   "execution_count": null,
   "metadata": {},
   "outputs": [],
   "source": [
    "\"%-3sjane.\" % 'hi'"
   ]
  },
  {
   "cell_type": "markdown",
   "metadata": {},
   "source": [
    "b. 소수점 표현하기"
   ]
  },
  {
   "cell_type": "markdown",
   "metadata": {},
   "source": [
    "예 1. 원하는 자리까지만 표현하기"
   ]
  },
  {
   "cell_type": "code",
   "execution_count": null,
   "metadata": {},
   "outputs": [],
   "source": [
    "\"%0.4f\" % 0.7883943"
   ]
  },
  {
   "cell_type": "markdown",
   "metadata": {},
   "source": [
    "예 2.전체 길이가 10개인 문자열 공간에서 오른쪽으로 정렬"
   ]
  },
  {
   "cell_type": "code",
   "execution_count": null,
   "metadata": {},
   "outputs": [],
   "source": [
    "\"%10.4f\" % 0.7883943"
   ]
  },
  {
   "cell_type": "markdown",
   "metadata": {},
   "source": [
    "### - 실습 4\n",
    "\n",
    "오늘 날씨를 확인해보고 오전, 오후, 저녁 별 기온만 다르게 출력할 수 있게 문자열을 생성해보세요.  "
   ]
  },
  {
   "cell_type": "code",
   "execution_count": null,
   "metadata": {},
   "outputs": [],
   "source": [
    "#실습 4\n",
    "#필요한 만큼 셀을 더 생성해서 쓰세요. \n",
    "#(esc)+\"b\"를 누르거나 상단의 두번째 열 탭의 왼쪽에있는 \"+\" 아이콘을 누르면 셀이 생성됩니다. \n"
   ]
  },
  {
   "cell_type": "code",
   "execution_count": 28,
   "metadata": {},
   "outputs": [
    {
     "data": {
      "text/plain": [
       "'오늘 오전은 10도 입니다'"
      ]
     },
     "execution_count": 28,
     "metadata": {},
     "output_type": "execute_result"
    }
   ],
   "source": [
    "\"오늘 오전은 %d도 입니다\" %10"
   ]
  },
  {
   "cell_type": "code",
   "execution_count": 27,
   "metadata": {},
   "outputs": [
    {
     "data": {
      "text/plain": [
       "'오늘 오후는 20도 입니다'"
      ]
     },
     "execution_count": 27,
     "metadata": {},
     "output_type": "execute_result"
    }
   ],
   "source": [
    "\"오늘 오후는 %d도 입니다\" %20"
   ]
  },
  {
   "cell_type": "code",
   "execution_count": 31,
   "metadata": {},
   "outputs": [
    {
     "data": {
      "text/plain": [
       "'오늘 저녁은 3도 입니다'"
      ]
     },
     "execution_count": 31,
     "metadata": {},
     "output_type": "execute_result"
    }
   ],
   "source": [
    "\"오늘 저녁은 %d도 입니다\" %3"
   ]
  },
  {
   "cell_type": "markdown",
   "metadata": {},
   "source": [
    "### - 실습 5"
   ]
  },
  {
   "cell_type": "markdown",
   "metadata": {},
   "source": [
    "어렸을 때 가장 인상깊게 읽은 책(또는 글) 3개를 쓰세요. 책(글) 제목만 다르게 출력하도록 문자열을 생성해보세요."
   ]
  },
  {
   "cell_type": "code",
   "execution_count": 26,
   "metadata": {},
   "outputs": [
    {
     "data": {
      "text/plain": [
       "'제가 가장 인상깊게 읽은 책은 제인 에어, 대지, 해리 포터입니다'"
      ]
     },
     "execution_count": 26,
     "metadata": {},
     "output_type": "execute_result"
    }
   ],
   "source": [
    "#실습 5\n",
    "\"제가 가장 인상깊게 읽은 책은 %s, %s, %s입니다\" %(\"제인 에어\",\"대지\",\"해리 포터\")"
   ]
  },
  {
   "cell_type": "markdown",
   "metadata": {},
   "source": [
    "### - 실습 6"
   ]
  },
  {
   "cell_type": "markdown",
   "metadata": {},
   "source": [
    "아래 링크를 참조하여 통계청에서 발표한 품목성질별 소비자물가상승률(소비자물가지수의 전년 대비 변화율)을 확인해보세요. \n",
    "\n",
    "곡물과 집세의 전원동월비(이전 년도의 같은 달과 비교)만 다르게 출력하도록 문자열을 만들어보세요. (문자와 비율값 모두 포함한 문자열을 만드세요). \n",
    "\n",
    "http://kostat.go.kr/incomeNcpi/cpi/cpi_td/2/3/index.action?bmode=cpitemper"
   ]
  },
  {
   "cell_type": "code",
   "execution_count": 25,
   "metadata": {},
   "outputs": [
    {
     "data": {
      "text/plain": [
       "'전년도 비해 곡물은 12%정도 상승했다'"
      ]
     },
     "execution_count": 25,
     "metadata": {},
     "output_type": "execute_result"
    }
   ],
   "source": [
    "#실습 6\n",
    "\"전년도 비해 %s은 %d%%정도 상승했다\" %(\"곡물\", 21)"
   ]
  },
  {
   "cell_type": "code",
   "execution_count": 36,
   "metadata": {},
   "outputs": [
    {
     "data": {
      "text/plain": [
       "'전년도 비해 집세은 0.200000%정도 상승했다'"
      ]
     },
     "execution_count": 36,
     "metadata": {},
     "output_type": "execute_result"
    }
   ],
   "source": [
    "\"전년도 비해 %s은 %f%%정도 상승했다\" %(\"집세\", 0.2)"
   ]
  },
  {
   "cell_type": "markdown",
   "metadata": {},
   "source": [
    "## 4. Format() 함수"
   ]
  },
  {
   "cell_type": "markdown",
   "metadata": {},
   "source": [
    "1. 숫자 대입"
   ]
  },
  {
   "cell_type": "code",
   "execution_count": null,
   "metadata": {},
   "outputs": [],
   "source": [
    "\"I went to the gym {0} times\".format(3)"
   ]
  },
  {
   "cell_type": "markdown",
   "metadata": {},
   "source": [
    "2. 문자열 대입"
   ]
  },
  {
   "cell_type": "code",
   "execution_count": null,
   "metadata": {},
   "outputs": [],
   "source": [
    "\"I went to the gym {0} times\".format(\"three\")"
   ]
  },
  {
   "cell_type": "markdown",
   "metadata": {},
   "source": [
    "3. 변수 대입"
   ]
  },
  {
   "cell_type": "code",
   "execution_count": null,
   "metadata": {},
   "outputs": [],
   "source": [
    "number = 3\n",
    "\n",
    "\"I went to the gym {0} times\".format(number)"
   ]
  },
  {
   "cell_type": "markdown",
   "metadata": {},
   "source": [
    "4. 2개 이상의 값 넣기"
   ]
  },
  {
   "cell_type": "code",
   "execution_count": null,
   "metadata": {},
   "outputs": [],
   "source": [
    "number = 3\n",
    "friend = \"Shawn Mendes\"\n",
    "\n",
    "\"I went to the gym {0} times with {1} last week\".format(number,friend) "
   ]
  },
  {
   "cell_type": "markdown",
   "metadata": {},
   "source": [
    "5.이름으로 넣기"
   ]
  },
  {
   "cell_type": "code",
   "execution_count": null,
   "metadata": {},
   "outputs": [],
   "source": [
    "\"I went to the gym {number} times with {friend} last week\".format(number=3,friend=\"Shawn Mendes\")\n",
    "#이때 각 변수에 꼭 매칭하여 지정해줘야한다. "
   ]
  },
  {
   "cell_type": "markdown",
   "metadata": {},
   "source": [
    "### 실습 7. 인덱스와 이름을 혼용해서 넣기"
   ]
  },
  {
   "cell_type": "code",
   "execution_count": null,
   "metadata": {},
   "outputs": [],
   "source": [
    "#실습 7. 아래 {}를 format함수 안에 지정된 인덱스 항목 및 변수를 참고하여 고쳐보세요\n",
    "\n",
    "\"I went to the gym {a} times with {b} last week\".format(3, friend = \"Tom\")\n"
   ]
  },
  {
   "cell_type": "markdown",
   "metadata": {},
   "source": [
    "# 5.  문자열 내장함수"
   ]
  },
  {
   "cell_type": "markdown",
   "metadata": {},
   "source": [
    "#### a. count(a)\n",
    "\n",
    "문자열 중 문자 a(예시)의 개수를 반환한다. "
   ]
  },
  {
   "cell_type": "code",
   "execution_count": null,
   "metadata": {},
   "outputs": [],
   "source": [
    "a = \"missisipi\"\n",
    "a.count('s')\n"
   ]
  },
  {
   "cell_type": "markdown",
   "metadata": {},
   "source": [
    "#### b. find(a)\n",
    "\n",
    "문자열 중 a가 처음으로 나오는 위치를 알려준다. 찾는 문자열이 없을 경우 -1을 반환한다. 순서와 위치는 인덱싱 규칙을 따르므로 0부터 시작한다. "
   ]
  },
  {
   "cell_type": "code",
   "execution_count": null,
   "metadata": {},
   "outputs": [],
   "source": [
    "a = \"python\""
   ]
  },
  {
   "cell_type": "code",
   "execution_count": null,
   "metadata": {},
   "outputs": [],
   "source": [
    "a.find('p')"
   ]
  },
  {
   "cell_type": "code",
   "execution_count": null,
   "metadata": {},
   "outputs": [],
   "source": [
    "a.find('b')"
   ]
  },
  {
   "cell_type": "markdown",
   "metadata": {},
   "source": [
    "#### c. index(a)\n",
    "\n",
    "find()와 마찬가지로 문자a가 처음 나온 위치를 반환한다.\n",
    "찾는 문자나 문자열이 존재하지 않는다면 오류를 반환한다.(이 점이 find()함수와의 차이점)"
   ]
  },
  {
   "cell_type": "code",
   "execution_count": null,
   "metadata": {},
   "outputs": [],
   "source": [
    "a.index('t')"
   ]
  },
  {
   "cell_type": "code",
   "execution_count": null,
   "metadata": {},
   "outputs": [],
   "source": [
    "a.index(b)"
   ]
  },
  {
   "cell_type": "markdown",
   "metadata": {},
   "source": [
    "#### d. join()\n",
    "문자열 사이에 문자를 삽입할 때 쓰는 함수이다. "
   ]
  },
  {
   "cell_type": "code",
   "execution_count": null,
   "metadata": {},
   "outputs": [],
   "source": [
    "\",\".join('python')"
   ]
  },
  {
   "cell_type": "markdown",
   "metadata": {},
   "source": [
    "이후 단원에서 다룰 내용이긴 하나, 리스트에도 적용할 수 있음"
   ]
  },
  {
   "cell_type": "code",
   "execution_count": null,
   "metadata": {},
   "outputs": [],
   "source": [
    "\",\".join(['a','b','c','d'])\n"
   ]
  },
  {
   "cell_type": "markdown",
   "metadata": {},
   "source": [
    "#### e. upper()"
   ]
  },
  {
   "cell_type": "code",
   "execution_count": null,
   "metadata": {},
   "outputs": [],
   "source": [
    "x = \"hello\"\n",
    "x.upper()"
   ]
  },
  {
   "cell_type": "markdown",
   "metadata": {},
   "source": [
    "#### f. replace()\n"
   ]
  },
  {
   "cell_type": "code",
   "execution_count": null,
   "metadata": {},
   "outputs": [],
   "source": [
    "x = \"Life is too short\"\n",
    "x.replace(\"short\", \"long\")"
   ]
  },
  {
   "cell_type": "markdown",
   "metadata": {},
   "source": [
    "#### g. split()"
   ]
  },
  {
   "cell_type": "code",
   "execution_count": null,
   "metadata": {},
   "outputs": [],
   "source": [
    "x.split()"
   ]
  },
  {
   "cell_type": "code",
   "execution_count": null,
   "metadata": {},
   "outputs": [],
   "source": [
    "y = \"1:2:3:4\"\n",
    "y.split(\":\") #List는 다음장에서"
   ]
  },
  {
   "cell_type": "markdown",
   "metadata": {},
   "source": [
    "### 실습 7. \n",
    "\n",
    "주어진 문자열에 대해 필요한 함수를 써보세요. \n",
    "\n",
    "7-1. \"A:Journal:of:Experimental:Psychology\"를 \"A Journal of Experimental Psychology\"로 바꾸세요.\n",
    "\n",
    "7-2. \"st#ar#bucks#\"를 \"STARBUCKS\"로 바꾸세요\n",
    "\n",
    "7-3. 다음은 논문의 한 구절입니다. 여기서 \"T1\"이란 단어와 \"T2\"란 단어가 얼마나 자주나오는지 찾아보세요. 그런 다음, \"T1\"을 \"Target1\"으로, \"T2\"를 \"Target2\"로 바꾼 다음 다시 출력해보세요. \n",
    "\n",
    "\"\"\"\n",
    "\n",
    "A recent article in the Psychonomic Society’s journal Attention, Perception, & Psychophysics explored the mechanisms underlying this spreading of sparing to positions beyond lag 1. Researchers Manuel Petrucci and Anna Pecchinenda departed from the observation in the literature that performance on T1 is better when it is an emotional stimulus—such as an emotional word or face—than when it is neutral. An emotional T1 also magnifies the attentional blink by further reducing detection performance on T2. Conversely, if T2 is itself an emotional stimulus, the attentional blink is reduced. Both of these findings are readily explained within a “limited-resource” account on which an emotional word attracts additional attention that is then unavailable for processing elsewhere. On the resource account, processing of a negatively-valenced T1 should consume additional attention that boosts T1 performance but to the detriment of both T2 and T3. By contrast, if resource-limitations are not the driving factor underlying the attentional blink, then the fact that all three targets are identified by the same color might enable them to be subsumed within the same attentional episode, thus sparing them from the attentional blink. Indeed, performance on T2 and T3 might even be enhanced on this account if T1 is an emotional word because it leads to particularly vigorous processing of the attentional episode. The results confirmed that the negatively-valenced T1 was detected with significantly greater accuracy than the neutral T1, although the difference was slight (88.3% vs. 86.5%). This confirms that the valence manipulation was successful and it is what would be expected under either account. The more intriguing outcome is shown in the next figure which plots performance on T3 conditional on correct report of T1 and T2.\n",
    "\n",
    "\"\"\""
   ]
  },
  {
   "cell_type": "code",
   "execution_count": null,
   "metadata": {},
   "outputs": [],
   "source": [
    "#실습 7-1\n",
    "a = \"A:Journal:of:Experimental:Psychology\"\n",
    "a.replace(\":\",\" \")"
   ]
  },
  {
   "cell_type": "code",
   "execution_count": null,
   "metadata": {},
   "outputs": [],
   "source": [
    "#실습 7-2\n",
    "a = \"st#ar#bucks#\"\n",
    "b = a.replace(\"#\",\"\")"
   ]
  },
  {
   "cell_type": "code",
   "execution_count": null,
   "metadata": {},
   "outputs": [],
   "source": [
    "b = b.upper()\n",
    "b"
   ]
  },
  {
   "cell_type": "code",
   "execution_count": null,
   "metadata": {},
   "outputs": [],
   "source": [
    "#실습 7-3\n",
    "paper = \"\"\"\n",
    "A recent article in the Psychonomic Society’s journal Attention, \n",
    "Perception, & Psychophysics explored the mechanisms underlying \n",
    "this spreading of sparing to positions beyond lag 1. \n",
    "Researchers Manuel Petrucci and Anna Pecchinenda departed \n",
    "from the observation in the literature that performance \n",
    "on T1 is better when it is an emotional stimulus—such as an \n",
    "emotional word or face—than when it is neutral. \n",
    "An emotional T1 also magnifies the attentional blink by further \n",
    "reducing detection performance on T2. Conversely, if T2 is itself \n",
    "an emotional stimulus, the attentional blink is reduced. \n",
    "Both of these findings are readily explained within a “limited-resource” \n",
    "account on which an emotional word attracts additional attention that \n",
    "is then unavailable for processing elsewhere. On the resource account, \n",
    "processing of a negatively-valenced T1 should consume additional attention\n",
    "that boosts T1 performance but to the detriment of both T2 and T3. \n",
    "By contrast, if resource-limitations are not the driving factor \n",
    "underlying the attentional blink, then the fact that all three \n",
    "targets are identified by the same color might enable them to be\n",
    "subsumed within the same attentional episode, thus sparing them \n",
    "from the attentional blink. Indeed, performance on T2 and T3 might \n",
    "even be enhanced on this account if T1 is an emotional word because \n",
    "it leads to particularly vigorous processing of the attentional episode. \n",
    "The results confirmed that the negatively-valenced T1 was detected with \n",
    "significantly greater accuracy than the neutral T1, \n",
    "although the difference was slight (88.3% vs. 86.5%). \n",
    "This confirms that the valence manipulation was successful and \n",
    "it is what would be expected under either account. The more intriguing \n",
    "outcome is shown in the next figure which plots performance on \n",
    "T3 conditional on correct report of T1 and T2.\n",
    "\n",
    "\"\"\""
   ]
  },
  {
   "cell_type": "code",
   "execution_count": null,
   "metadata": {},
   "outputs": [],
   "source": [
    "t1count = paper.count(\"T1\")\n",
    "t2count = paper.count(\"T2\")"
   ]
  },
  {
   "cell_type": "code",
   "execution_count": null,
   "metadata": {},
   "outputs": [],
   "source": [
    "print(t1count)\n",
    "print(t2count)"
   ]
  },
  {
   "cell_type": "code",
   "execution_count": null,
   "metadata": {},
   "outputs": [],
   "source": [
    "target1 = paper.replace(\"T1\",\"Target1\")\n",
    "target2 = paper.replace(\"T2\",\"Target2\")"
   ]
  },
  {
   "cell_type": "code",
   "execution_count": null,
   "metadata": {},
   "outputs": [],
   "source": [
    "#확인\n",
    "target1.count(\"Target1\")\n",
    "target2.count(\"Target2\")"
   ]
  },
  {
   "cell_type": "markdown",
   "metadata": {},
   "source": [
    "## W3 - 문자열 끝"
   ]
  }
 ],
 "metadata": {
  "kernelspec": {
   "display_name": "Python 3",
   "language": "python",
   "name": "python3"
  },
  "language_info": {
   "codemirror_mode": {
    "name": "ipython",
    "version": 3
   },
   "file_extension": ".py",
   "mimetype": "text/x-python",
   "name": "python",
   "nbconvert_exporter": "python",
   "pygments_lexer": "ipython3",
   "version": "3.6.8"
  }
 },
 "nbformat": 4,
 "nbformat_minor": 2
}
