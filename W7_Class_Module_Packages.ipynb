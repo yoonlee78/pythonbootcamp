{
 "cells": [
  {
   "cell_type": "markdown",
   "metadata": {},
   "source": [
    "# I. Class \n",
    "\n",
    "#### [<클래스 쉽게 이해하기>](https://wikidocs.net/28)  <br>\n",
    "\n",
    "\n",
    "<br>\n",
    "\n",
    "### Important Terminologies \n",
    "\n",
    "<b>Class </b> - A user-defined protoype for an object that defines a set of attributes that characterize any object of the class. <br>\n",
    "\n",
    "<b>Method</b> − A special kind of function that is defined in a class definition. <br>\n",
    "\n",
    "\n",
    "<b>Object</b> − A unique instance of a data structure that's defined by its class. An object comprises both data members (class variables and instance variables) and methods. <br>\n",
    "\n",
    "\n",
    "<b>Instance</b> − An individual object of a certain class. <br>\n",
    "\n",
    "\n",
    "<b>Instantiation</b> − The creation of an instance of a class. <br>\n",
    "\n",
    "\n",
    "<b>Inheritance</b> − The transfer of the characteristics of a class to other classes that are derived from it. <br>\n",
    "\n",
    "\n",
    "#### Other Terminologies\n",
    "\n",
    "<b> Class variable </b> − A variable that is shared by all instances of a class. Class variables are defined within a class but outside any of the class's methods. Class variables are not used as frequently as instance variables are. <br>\n",
    "\n",
    "\n",
    "<b> Data member </b> − A class variable or instance variable that holds data associated with a class and its objects. <br>\n",
    "\n",
    "\n",
    "<b> Function overloading</b> − The assignment of more than one behavior to a particular function. The operation performed varies by the types of objects or arguments involved. <br>\n",
    "\n",
    "\n",
    "<b>Instance variable</b> − A variable that is defined inside a method and belongs only to the current instance of a class. <br>\n",
    "\n",
    "\n",
    "<b> Operator overloading</b> − The assignment of more than one function to a particular operator. <br>\n",
    "\n",
    "</div>\n",
    "\n",
    "\n",
    "[Quick note: String methods](https://www.w3schools.com/python/python_ref_string.asp)\n",
    "\n",
    "[Quick note2: Object-oriented programming](https://searchmicroservices.techtarget.com/definition/object-oriented-programming-OOP)\n"
   ]
  },
  {
   "cell_type": "markdown",
   "metadata": {},
   "source": [
    "### 1. Methods\n",
    "\n",
    "오브젝트를 어떤 카테고리에 상속시킬 수 있게 하는 것을 메소드(method)라고 한다. 오브젝트는 클래스(class)로 생성 된 것이고, 메소드(method)는 클래스에 정의된 함수들이다. \n",
    "\n",
    "예를 들어 \"자동차가 달린다\"라고 하면 \"자동차\"는 운송 수단\"이라는 클래스로 생성된 \"오브젝트\"이고, \"달린다\"는 \"운송 수단\"에 정의된 \"메소드\"라고 볼 수 있다. 따라서, 운송수단에는 \"달린다\", \"멈춘다\" 등과 같은 메소드가 정의될 수 있다. \n",
    "\n",
    "파이썬에서 메소드는 다음과 같이 표기한다. \n",
    "\n",
    "    object.method(parameter)\n",
    "\n"
   ]
  },
  {
   "cell_type": "code",
   "execution_count": 1,
   "metadata": {},
   "outputs": [],
   "source": [
    "class Dog():\n",
    "    def __init__(self, name, age, breed): \n",
    "        self.name = name\n",
    "        self.age = age\n",
    "        self.breed = breed\n",
    "        \n",
    "    def sit(self):\n",
    "        print(self.name.title() + \" is now sitting.\")\n",
    "    \n",
    "    def roll_over(self):\n",
    "        print (self.name.title() + \" rolled over!\")"
   ]
  },
  {
   "cell_type": "markdown",
   "metadata": {},
   "source": [
    "```` python\n",
    "class Dog():\n",
    "    def __init__(self, name, age, breed): \n",
    "        self.name = name\n",
    "        self.age = age\n",
    "        self.breed = breed\n",
    "        \n",
    "    def eat(self):\n",
    "        print(self.name.title() + \" is now eating.\")\n",
    "    \n",
    "    def roll_over(self):\n",
    "        print (self.name.title() + \" rolled over!\")\n",
    "````"
   ]
  },
  {
   "cell_type": "code",
   "execution_count": 2,
   "metadata": {},
   "outputs": [],
   "source": [
    "class Dog():\n",
    "    def __init__(self, name, age, breed): \n",
    "        self.name = name\n",
    "        self.age = age\n",
    "        self.breed = breed\n",
    "        \n",
    "    def eat(self):\n",
    "        print(self.name.title() + \" is now eating.\")\n",
    "    \n",
    "    def roll_over(self):\n",
    "        print (self.name.title() + \" rolled over!\")"
   ]
  },
  {
   "cell_type": "code",
   "execution_count": 3,
   "metadata": {
    "scrolled": true
   },
   "outputs": [
    {
     "name": "stdout",
     "output_type": "stream",
     "text": [
      "My dog's name islucky.\n",
      "He/she is 3 years old\n",
      "He's a Corgi.\n"
     ]
    }
   ],
   "source": [
    "myPet = Dog('lucky', 3, 'Corgi')\n",
    "print(\"My dog's name is\" + myPet.name + \".\")\n",
    "print(\"He/she is \" + str(myPet.age) + \" years old\")\n",
    "print(\"He's a \" + myPet.breed + \".\")"
   ]
  },
  {
   "cell_type": "code",
   "execution_count": 4,
   "metadata": {},
   "outputs": [
    {
     "name": "stdout",
     "output_type": "stream",
     "text": [
      "Lucky is now eating.\n",
      "Lucky rolled over!\n"
     ]
    }
   ],
   "source": [
    "myPet.eat()\n",
    "myPet.roll_over()"
   ]
  },
  {
   "cell_type": "code",
   "execution_count": 5,
   "metadata": {},
   "outputs": [],
   "source": [
    "neighbor_dog = Dog('원두', 4, '미니핀') "
   ]
  },
  {
   "cell_type": "code",
   "execution_count": 6,
   "metadata": {},
   "outputs": [
    {
     "name": "stdout",
     "output_type": "stream",
     "text": [
      "My neighbor's dog's name is 원두.\n",
      "She is 4 years old.\n",
      "She's a 미니핀.\n"
     ]
    }
   ],
   "source": [
    "print(\"My neighbor's dog's name is \" + neighbor_dog.name + \".\")\n",
    "print(\"She is \" + str(neighbor_dog.age) + \" years old.\")\n",
    "print(\"She's a \" + neighbor_dog.breed + \".\")"
   ]
  },
  {
   "cell_type": "markdown",
   "metadata": {},
   "source": [
    "## Class 만들기"
   ]
  },
  {
   "cell_type": "code",
   "execution_count": 13,
   "metadata": {},
   "outputs": [],
   "source": [
    "#1. Create a class\n",
    "class Menu:\n",
    "    pass #우선 pass"
   ]
  },
  {
   "cell_type": "code",
   "execution_count": 14,
   "metadata": {},
   "outputs": [],
   "source": [
    "#2. Create an instance\n",
    "\n",
    "americano = Menu()\n",
    "latte = Menu()"
   ]
  },
  {
   "cell_type": "code",
   "execution_count": 15,
   "metadata": {},
   "outputs": [],
   "source": [
    "#3. adding attributes to a class\n",
    "# 각 인스턴스마다 고유한 인스턴스 변수를 가진다. 인스턴스 별로 고유한 변수를 생성할 수 있다.\n",
    "\n",
    "americano.size = \"10oz\"\n",
    "americano.price = \"3800\"\n",
    "\n",
    "latte.size = \"10oz\"\n",
    "latte.price = \"4300\"\n"
   ]
  },
  {
   "cell_type": "code",
   "execution_count": 16,
   "metadata": {},
   "outputs": [
    {
     "name": "stdout",
     "output_type": "stream",
     "text": [
      "4300\n",
      "10oz\n"
     ]
    }
   ],
   "source": [
    "#test\n",
    "print(latte.price)\n",
    "print(americano.size)"
   ]
  },
  {
   "attachments": {
    "Self%20parameter.PNG": {
     "image/png": "[encoded data removed]"
    }
   },
   "cell_type": "markdown",
   "metadata": {},
   "source": [
    "<div class=\"alert alert-block alert-success\">\n",
    "<font color = black> \n",
    "    \n",
    "#### *self* parameter\n",
    "- In order to access object (or instance) attributes from within the init method we need a reference to the object. \n",
    "- The first argument (or parameter) of every class method, including init, is always a reference to the current instance of the class. By convention, it is always named \"self\"\n",
    "\n",
    "\n",
    "![Self%20parameter.PNG](attachment:Self%20parameter.PNG)\n",
    "\n",
    "##### The dot notation\n",
    "- The connection between the attributes or the methods with the object is indicated by a \"dot\" written between them. <br>\n",
    "- It allows us to tell a instance of a class to use one of the methods inside a class."
   ]
  },
  {
   "cell_type": "markdown",
   "metadata": {},
   "source": [
    "class 안에 method를 만들때는 self 를 포함해야한다. \n",
    "\n",
    "class 안에 있는 변수는 attribute이라고 부른다. \n",
    "\n",
    "class 안에 있는 함수는 __init__ 메소드를 포함해야한다. \n",
    "\n",
    "#### 예시"
   ]
  },
  {
   "cell_type": "markdown",
   "metadata": {},
   "source": [
    "    class myCafe:\n",
    "        def __init__(self, attribute1, attribute2)     "
   ]
  },
  {
   "cell_type": "markdown",
   "metadata": {},
   "source": [
    "<div class = \"alert alert-block alert-info\">\n",
    "<font color = black>\n",
    "\n",
    "##### The __init__() Method\n",
    "- It is a function which will \"initialize\" the properties of the class for a specific <b>object</b>.\n",
    "- A function that's part of a class is a <b>method </b>.\n",
    "- An <b> instance </b> is an individual object of a certain class.\n",
    "- The __init__() method is a special method Python runs automatically whenever we create a new instance based on a class.\n",
    "\n",
    "> [Video explanation](https://youtu.be/fbzljZwe4jM?t=70) "
   ]
  },
  {
   "cell_type": "markdown",
   "metadata": {},
   "source": [
    "Class를 한꺼번에 만들어보자. "
   ]
  },
  {
   "cell_type": "code",
   "execution_count": 5,
   "metadata": {},
   "outputs": [],
   "source": [
    "class Menu:\n",
    "    def __init__(self,price,size):\n",
    "        self.price = price\n",
    "        self.size = size\n",
    "        "
   ]
  },
  {
   "cell_type": "markdown",
   "metadata": {},
   "source": [
    "class를 만들었으니 object를 추가해보자 "
   ]
  },
  {
   "cell_type": "code",
   "execution_count": 6,
   "metadata": {},
   "outputs": [],
   "source": [
    "americano = Menu(3800,\"20oz\")\n",
    "latte = Menu(4500,\"20oz\")"
   ]
  },
  {
   "cell_type": "code",
   "execution_count": 7,
   "metadata": {
    "scrolled": true
   },
   "outputs": [
    {
     "name": "stdout",
     "output_type": "stream",
     "text": [
      "3800 : 20oz\n"
     ]
    }
   ],
   "source": [
    "print(americano.price,\":\",americano.size)"
   ]
  },
  {
   "cell_type": "markdown",
   "metadata": {},
   "source": [
    "### Class에 method 추가"
   ]
  },
  {
   "cell_type": "markdown",
   "metadata": {},
   "source": [
    "\n",
    "클래스 안에 함수 넣기. \n",
    "함수가 클래스 안에 있을때는 \"method\"라고 부른다. "
   ]
  },
  {
   "cell_type": "code",
   "execution_count": 9,
   "metadata": {},
   "outputs": [],
   "source": [
    "class Menu:\n",
    "    def __init__(self,price,size):\n",
    "        self.price = price\n",
    "        self.size = size\n",
    "    #priceline이라는 method를 아래 생성\n",
    "    def priceline(self):\n",
    "        return '{0}사이즈 한잔의 가격은 {1}원입니다.'.format(self.size, self.price)\n",
    "    "
   ]
  },
  {
   "cell_type": "markdown",
   "metadata": {},
   "source": [
    "Test 해보기. Method를 쓰려면 '()'을 같이 기입해줘야함. "
   ]
  },
  {
   "cell_type": "code",
   "execution_count": 10,
   "metadata": {
    "scrolled": true
   },
   "outputs": [
    {
     "name": "stdout",
     "output_type": "stream",
     "text": [
      "20oz사이즈 한잔의 가격은 3800원입니다.\n",
      "20oz사이즈 한잔의 가격은 4500원입니다.\n"
     ]
    }
   ],
   "source": [
    "americano = Menu(3800,\"20oz\")\n",
    "latte = Menu(4500,\"20oz\")\n",
    "\n",
    "print(americano.priceline())\n",
    "print(latte.priceline())"
   ]
  },
  {
   "cell_type": "markdown",
   "metadata": {},
   "source": [
    "물가 상승과 엄청난 임대료로 인해 커피 가격이 200원씩 올라버렸다. 새로운 가격을 출력하는 메쏘드를 넣어보자. "
   ]
  },
  {
   "cell_type": "code",
   "execution_count": 11,
   "metadata": {},
   "outputs": [],
   "source": [
    "class Menu:\n",
    "    def __init__(self,price,size):\n",
    "        self.price = price\n",
    "        self.size = size\n",
    "    #priceline이라는 method를 아래 생성\n",
    "    \n",
    "    def priceline(self):\n",
    "        return '{0}사이즈 한잔의 가격은 {1}원입니다.'.format(self.size, self.price)\n",
    "    \n",
    "    def newprice(self):\n",
    "        return self.price + 200\n",
    "    "
   ]
  },
  {
   "cell_type": "code",
   "execution_count": 12,
   "metadata": {},
   "outputs": [
    {
     "name": "stdout",
     "output_type": "stream",
     "text": [
      "4000\n"
     ]
    }
   ],
   "source": [
    "americano = Menu(3800,\"20oz\")\n",
    "print(americano.newprice())"
   ]
  },
  {
   "attachments": {
    "Assignment%20operators.PNG": {
     "image/png": "[encoded data removed]"
    }
   },
   "cell_type": "markdown",
   "metadata": {},
   "source": [
    "![Assignment%20operators.PNG](attachment:Assignment%20operators.PNG)\n"
   ]
  },
  {
   "cell_type": "markdown",
   "metadata": {},
   "source": [
    "참고 자료 : \n",
    "1. https://wikidocs.net/16073\n",
    "2. https://docs.python.org/3/tutorial/classes.html"
   ]
  },
  {
   "cell_type": "markdown",
   "metadata": {},
   "source": [
    "# II. Module"
   ]
  },
  {
   "cell_type": "markdown",
   "metadata": {},
   "source": [
    "모든 언어는 기본적으로 제공하는 기능만으로는 부족함. 그래서 다른 곳에서 만들어 온 외부 확장 라이브러리를 불러와서 사용한다. 패키지, 라이브러리라고도 불리는데 파이썬에서는 이를 모듈이라고 한다. 모듈은 파이썬이 가진 기능을 확장해준다.  "
   ]
  },
  {
   "cell_type": "markdown",
   "metadata": {},
   "source": [
    "module = python file. "
   ]
  },
  {
   "cell_type": "code",
   "execution_count": null,
   "metadata": {},
   "outputs": [],
   "source": [
    "import re  # 이 모듈은 파이썬에서 정규식(regular expression)을 사용하기 위해 만들어졌다.\n",
    "my_regex = re.compile(\"[0-9]+\", re.I)\n"
   ]
  },
  {
   "cell_type": "markdown",
   "metadata": {},
   "source": [
    "[정규식이란?](https://ko.wikipedia.org/wiki/%EC%A0%95%EA%B7%9C_%ED%91%9C%ED%98%84%EC%8B%9D)"
   ]
  },
  {
   "cell_type": "code",
   "execution_count": null,
   "metadata": {},
   "outputs": [],
   "source": [
    "import re as regex  # 만일 이미 re 라는 변수가 사용되었다면 re as regex 라고 쓴다.\n",
    "my_regex = regex.compile(\"[0-9]+\", regex.I)"
   ]
  },
  {
   "cell_type": "markdown",
   "metadata": {},
   "source": [
    "다른 예"
   ]
  },
  {
   "cell_type": "code",
   "execution_count": null,
   "metadata": {},
   "outputs": [],
   "source": [
    "import numpy as np #np로 줄여서 불러옴\n",
    "#import matplotlib.pyplot as plt #길어서 plt로 줄여서 불러옴"
   ]
  },
  {
   "cell_type": "markdown",
   "metadata": {},
   "source": [
    "모듈에 있는 변수나 함수를 다 가져올 필요가 없는 경우 "
   ]
  },
  {
   "cell_type": "code",
   "execution_count": null,
   "metadata": {},
   "outputs": [],
   "source": [
    "from collections import defaultdict, Counter"
   ]
  },
  {
   "cell_type": "markdown",
   "metadata": {},
   "source": [
    "### 1. 간단한 모듈 만들기 "
   ]
  },
  {
   "cell_type": "markdown",
   "metadata": {},
   "source": [
    "파이썬 아래 내용이 담긴 파일을 하나 만들고 (메모장 또는 에디터 사용)\n",
    "\n",
    "현재 작업중인 디렉토리에 저장해보자. \n",
    "\n",
    "확장자명은 .py이다. \n"
   ]
  },
  {
   "cell_type": "markdown",
   "metadata": {},
   "source": [
    "``` python\n",
    "\n",
    "def add(a, b):\n",
    "    return a + b\n",
    "\n",
    "def sub(a, b): \n",
    "    return a-b\n",
    "\n",
    "```"
   ]
  },
  {
   "cell_type": "markdown",
   "metadata": {},
   "source": [
    "### 2. 클래스나 변수를 포함한 모듈"
   ]
  },
  {
   "cell_type": "markdown",
   "metadata": {},
   "source": [
    "아래와 같은 새 모듈을 만들어보자 (mymod2.py)\n",
    "\n",
    "``` python\n",
    "\n",
    "PI = 3.141592\n",
    "\n",
    "class Math: \n",
    "    def solv(self, r): \n",
    "        return PI * (r ** 2) \n",
    "\n",
    "def add(a, b): \n",
    "    return a+b\n",
    "```\n"
   ]
  },
  {
   "cell_type": "code",
   "execution_count": null,
   "metadata": {},
   "outputs": [],
   "source": [
    "import mymod2"
   ]
  },
  {
   "cell_type": "code",
   "execution_count": null,
   "metadata": {},
   "outputs": [],
   "source": [
    "print(mymod2.PI) #클래스 속성처럼 입력하여 mod2 모듈 안에 있는 Pi라는 변수값을 사용할 수 있음"
   ]
  },
  {
   "cell_type": "markdown",
   "metadata": {},
   "source": [
    "모듈 내에 있는 클래스를 이용하려면 '.'(도트 연산자)를 이용하여 클래스 이름 앞에 모듈 이름을 먼저 입력해야 한다."
   ]
  },
  {
   "cell_type": "code",
   "execution_count": null,
   "metadata": {},
   "outputs": [],
   "source": [
    "a = mymod2.Math()\n",
    "print(a.solv(2)) #mymod2.py에 있는 math 클래스를 사용. "
   ]
  },
  {
   "cell_type": "code",
   "execution_count": null,
   "metadata": {},
   "outputs": [],
   "source": [
    "print(int(mymod2.add(mymod2.PI,4.4))) #mymod2 모듈 안에있는 나머지 add까지도 쓴 모습"
   ]
  },
  {
   "cell_type": "markdown",
   "metadata": {},
   "source": [
    "## Sorting\n",
    "\n",
    "프로그래밍을 할 때 데이터를 sorting하게 되는 경우가 많이 있다. 이를 위해 파이썬은 sort()와 sorted()라는 메소드를 제공한다. 두 메소드는 숫자 뿐 아니라, 영문, 한글의 정렬에도 사용된다. \n",
    "\n"
   ]
  },
  {
   "cell_type": "code",
   "execution_count": null,
   "metadata": {},
   "outputs": [],
   "source": [
    "x = [7, 3, 5, 9, 0, 1, 4, 3]\n",
    "x.sort()  # sort()라는 메소드는 원래의 list의 내용까지 바꾼다.\n",
    "print(x)"
   ]
  },
  {
   "cell_type": "code",
   "execution_count": null,
   "metadata": {},
   "outputs": [],
   "source": [
    "x = [7, 3, 5, 9, 0, 1, 4, 3]\n",
    "y = sorted(x)  # 원래의 list의 내용을 그대로 두고 정렬을 하기 위해서는 다음과 같이 한다.\n",
    "print(x, y)"
   ]
  },
  {
   "cell_type": "code",
   "execution_count": null,
   "metadata": {},
   "outputs": [],
   "source": [
    "names = [\"유재석\", \"하하\", \"박명수\", \"정준하\", \"정형돈\", \"노홍철\", \"PD 김태호\"]  \n",
    "print(sorted(names))  # 한글 정렬의 예. 만약 리스트에 영문이 포함되어 있으면 영문이 우선순위를 가진다. (작은 값 => 큰 값)"
   ]
  },
  {
   "cell_type": "code",
   "execution_count": null,
   "metadata": {},
   "outputs": [],
   "source": [
    "x = [-4,1,-2,3]\n",
    "print(sorted(x))  # 적은 수 -> 큰 수로 정렬\n",
    "print(sorted(x, reverse=True))  # 역순으로 정렬\n",
    "print(sorted(x, key=abs))  # 절대값의 적은 수 -> 큰 수로 정렬\n",
    "print(sorted(x, key=abs, reverse=True))  # 절대값의 역순으로 정렬"
   ]
  },
  {
   "cell_type": "markdown",
   "metadata": {},
   "source": [
    "### Random\n",
    "\n",
    "데이터 분석시 random number를 사용하게 되는 경우가 많다. 이때는 random 모듈을 사용한다. \n"
   ]
  },
  {
   "cell_type": "code",
   "execution_count": null,
   "metadata": {},
   "outputs": [],
   "source": [
    "import random\n",
    "random.random() #0-1 사이의 난수를 생성한다. \n"
   ]
  },
  {
   "cell_type": "code",
   "execution_count": null,
   "metadata": {},
   "outputs": [],
   "source": [
    "four_uniform_random = [random.random() for x in range(4)]  \n",
    "# 4개의 난수를 생성하여 리스트에 저장\n",
    "print(four_uniform_random)"
   ]
  },
  {
   "cell_type": "markdown",
   "metadata": {},
   "source": [
    "random.choice()를 사용하면 list에서 원하는 항목을 하나 선택할 수 있다."
   ]
  },
  {
   "cell_type": "code",
   "execution_count": null,
   "metadata": {},
   "outputs": [],
   "source": [
    "list1 = [1, 2, 3, 4, 5, 6, 7, 8, 9, 10]\n",
    "my_choice1 = random.choice(list1)\n",
    "print(my_choice1)"
   ]
  },
  {
   "cell_type": "code",
   "execution_count": null,
   "metadata": {},
   "outputs": [],
   "source": [
    "list2 = [\"유재석\", \"하하\", \"박명수\", \"정준하\", \"정형돈\", \"노홍철\", \"PD 김태호\"]\n",
    "my_choice2 = random.choice(list2)\n",
    "print(my_choice2)"
   ]
  },
  {
   "cell_type": "markdown",
   "metadata": {},
   "source": [
    "sample()은 range 혹은 list 내에 있는 요소를 무작위로 섞어준다. 뽑고자 하는 숫자를 parameter로 전달할 수 있다."
   ]
  },
  {
   "cell_type": "code",
   "execution_count": null,
   "metadata": {},
   "outputs": [],
   "source": [
    "up_to_ten = range(10)\n",
    "shuffled = random.sample(up_to_ten, 10)\n",
    "print(shuffled)"
   ]
  },
  {
   "cell_type": "code",
   "execution_count": null,
   "metadata": {},
   "outputs": [],
   "source": [
    "#오늘의 청소 당번 정하기 \n",
    "cleaner = range(5)\n",
    "shuffled = random.sample(cleaner,5)\n",
    "print(shuffled)"
   ]
  },
  {
   "cell_type": "code",
   "execution_count": null,
   "metadata": {},
   "outputs": [],
   "source": [
    "#내가 복권에 당첨될 수 있을까?\n",
    "lottery_numbers = range(60)\n",
    "winning_numbers = random.sample(lottery_numbers, 6)\n",
    "print(winning_numbers)"
   ]
  },
  {
   "cell_type": "markdown",
   "metadata": {},
   "source": [
    "# III. Package"
   ]
  },
  {
   "cell_type": "markdown",
   "metadata": {},
   "source": [
    "패키지(Packages)는 도트(.)를 이용하여 파이썬 모듈을 계층적(디렉터리 구조)으로 관리할 수 있게 해준다. \n",
    "\n",
    "```\n",
    "module_name = package.module\n",
    "```\n",
    "\n",
    "예를 들어 모듈명이 ```A.B```인 경우 ```A```는 패키지명이 되고 ```B```는 ```A``` 패키지의 ```B``` 모듈이 된다."
   ]
  },
  {
   "cell_type": "markdown",
   "metadata": {},
   "source": [
    "Example 1. \n",
    "\n",
    "가상의 game package "
   ]
  },
  {
   "cell_type": "markdown",
   "metadata": {},
   "source": [
    "<img src = \"https://cdn.programiz.com/sites/tutorial2program/files/PackageModuleStructure.jpg\">"
   ]
  },
  {
   "cell_type": "markdown",
   "metadata": {},
   "source": [
    "패키지 불러오기(예시) "
   ]
  },
  {
   "cell_type": "markdown",
   "metadata": {},
   "source": [
    "Module : \n",
    "\n",
    "``` import Package.Subpackage.module```\n",
    "\n",
    "``` import Game.Level.start```\n",
    "\n",
    "Function:\n",
    "\n",
    "``` import Package.Subpackage.module.function()```\n",
    "\n",
    "``` import Game.Level.start.select_difficulty```\n",
    "\n",
    "Short-handed version\n",
    "\n",
    "``` from Package.Subpackage import module ```\n",
    "\n",
    "``` from Package.Subpackage.module import select_difficulty ```\n",
    "\n",
    "``` from Game.Level.start import select_difficulty ```"
   ]
  },
  {
   "cell_type": "markdown",
   "metadata": {},
   "source": [
    "Example 2. \n",
    "\n",
    "가상의 심리 실험 패키지/\n",
    "\n",
    "root디렉터리명/ <br>\n",
    "    모듈.py <br>\n",
    "        sub디렉터리/ <br>\n",
    "            sub모듈.py <br>\n",
    "\n",
    "    Exp/ \n",
    "    __init__.py <br>\n",
    "    Participant/ <br>\n",
    "         __init__.py\n",
    "         load.py\n",
    "         subject_ID.py\n",
    "         start_message.py\n",
    "    Practice/\n",
    "         __init__.py\n",
    "         open.py\n",
    "         SOA.py\n",
    "         fixation.py\n",
    "    Test_trials/\n",
    "         __init__.py\n",
    "         open.py\n",
    "         SOA.py\n",
    "         fixation.py        \n",
    "    End/\n",
    "         __init__.py\n",
    "         end_message.py\n",
    "         terminate.py\n",
    "    Log/\n",
    "         __init__.py\n",
    "         log.py\n",
    " \n",
    " \n",
    "* ```__init__.py``` = 해당 디렉터리가 패키지의 일부임을 알려주는 역할을 함. 이게 없으면 패키지로 인식하지 않는다. ※ python3.3 버전부터는 __init__.py 파일 없이도 패키지로 인식이 된다(PEP 420). 하지만 하위 버전 호환을 위해 __init__.py 파일을 생성하는 것이 안전한 방법이다.\n",
    "\n",
    "**패키지 만드는 방법 (참고자료)\n",
    "https://wikidocs.net/1418"
   ]
  },
  {
   "cell_type": "markdown",
   "metadata": {},
   "source": [
    "----------------"
   ]
  },
  {
   "cell_type": "markdown",
   "metadata": {},
   "source": [
    "## 숙제"
   ]
  },
  {
   "cell_type": "markdown",
   "metadata": {},
   "source": [
    "#### MyNum 이라는 클래스를 만들어서 one, two, three 인스턴스를 생성. 이것들을 다 더해서 출력하기 - 다음의 형태로 동작하도록."
   ]
  },
  {
   "cell_type": "markdown",
   "metadata": {},
   "source": [
    "```python\n",
    "one = MyNum(1)\n",
    "two = MyNum(2)\n",
    "tree = MyNum(3)\n",
    "\n",
    "one.print()\n",
    "two.print()\n",
    "three.print()\n",
    "\n",
    "print(one.value + two.value + three.value)\n",
    "```"
   ]
  },
  {
   "cell_type": "code",
   "execution_count": null,
   "metadata": {},
   "outputs": [],
   "source": [
    "class MyNum() :\n",
    "    # 코딩 !!"
   ]
  },
  {
   "cell_type": "code",
   "execution_count": null,
   "metadata": {},
   "outputs": [],
   "source": [
    "one = MyNum(1)\n",
    "two = MyNum(2)\n",
    "three = MyNum(3)"
   ]
  },
  {
   "cell_type": "code",
   "execution_count": null,
   "metadata": {},
   "outputs": [],
   "source": [
    "one.print()"
   ]
  },
  {
   "cell_type": "code",
   "execution_count": null,
   "metadata": {},
   "outputs": [],
   "source": [
    "two.print()"
   ]
  },
  {
   "cell_type": "code",
   "execution_count": null,
   "metadata": {},
   "outputs": [],
   "source": [
    "three.print()"
   ]
  },
  {
   "cell_type": "code",
   "execution_count": null,
   "metadata": {},
   "outputs": [],
   "source": [
    "print(one.value + two.value + three.value)"
   ]
  },
  {
   "cell_type": "markdown",
   "metadata": {},
   "source": [
    "### [선택] MyCorpus 이라는 클래스를 만들기\n",
    "- 텍스트 분석에 쓰이는 코퍼스를 어떻게 만드는지 맛보기로 해보는 작업입니다. 어떻게 구성되나 아이디어만 얻으셔도 됩니다. \n",
    "- 아래 클래스에 들어갈 메소드는 특정 폴더의 경로를 입력하면, 해당 폴더의 파일들을 읽어들여 코퍼스로 만들게 함.\n",
    "- 다음의 형태로 동작하도록 한다 (output확인)"
   ]
  },
  {
   "cell_type": "code",
   "execution_count": null,
   "metadata": {},
   "outputs": [],
   "source": [
    "class MyCorpus() :\n",
    "    # 코딩 !!"
   ]
  },
  {
   "cell_type": "code",
   "execution_count": null,
   "metadata": {},
   "outputs": [],
   "source": [
    "cps = MyCorpus('./', 'txt')"
   ]
  },
  {
   "cell_type": "code",
   "execution_count": null,
   "metadata": {},
   "outputs": [],
   "source": [
    "cps.info()"
   ]
  },
  {
   "cell_type": "code",
   "execution_count": null,
   "metadata": {},
   "outputs": [],
   "source": [
    "cps.read()"
   ]
  },
  {
   "cell_type": "code",
   "execution_count": null,
   "metadata": {},
   "outputs": [],
   "source": [
    "cps.info()"
   ]
  },
  {
   "cell_type": "code",
   "execution_count": null,
   "metadata": {},
   "outputs": [],
   "source": [
    "doc = cps.get_doc('newtext.txt')\n",
    "print(doc)"
   ]
  },
  {
   "cell_type": "code",
   "execution_count": null,
   "metadata": {},
   "outputs": [],
   "source": [
    "voca = cps.get_voca()\n",
    "voca"
   ]
  }
 ],
 "metadata": {
  "kernelspec": {
   "display_name": "Python 3",
   "language": "python",
   "name": "python3"
  },
  "language_info": {
   "codemirror_mode": {
    "name": "ipython",
    "version": 3
   },
   "file_extension": ".py",
   "mimetype": "text/x-python",
   "name": "python",
   "nbconvert_exporter": "python",
   "pygments_lexer": "ipython3",
   "version": "3.6.8"
  }
 },
 "nbformat": 4,
 "nbformat_minor": 2
}
