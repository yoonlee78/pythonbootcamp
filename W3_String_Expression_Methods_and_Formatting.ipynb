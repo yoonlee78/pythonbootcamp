{
 "cells": [
  {
   "cell_type": "markdown",
   "metadata": {},
   "source": [
    "# W 3\n",
    "\n",
    "# String Expression, Methods, and Formatting\n",
    "#### YK Lee\n",
    "#### 2019 Spring"
   ]
  },
  {
   "cell_type": "markdown",
   "metadata": {},
   "source": [
    "### 1. 문자열 인덱싱\n",
    "\n",
    "인덱싱(indexing) = 가리킴"
   ]
  },
  {
   "cell_type": "markdown",
   "metadata": {},
   "source": [
    "예제 1.  다음과 같은 문자열이 있다고 보자. \n",
    "\n",
    "\"Life is too short, You need Python\"\n",
    "\n",
    "이 문자열의 각 문자마다 번호(주소값)를 매겨보면 다음과 같이 나옴. \n",
    "\n",
    "|L|i|f|e| |i|s| |s|h|o|r|t|\n",
    "|-|-|-|-|-|-|-|-|-|-|-|-|-:|\n",
    "|0|1|2|3|4|5|6|7|8|9|10|11|12|\n",
    "\n",
    "파이썬은 숫자 0부터 숫자를 센다."
   ]
  },
  {
   "cell_type": "markdown",
   "metadata": {},
   "source": [
    "a. 문자열 인덱싱하기\n",
    "\n",
    "문자열을 인덱싱하는 방법은 변수+[번호]를 입력하면 된다. "
   ]
  },
  {
   "cell_type": "code",
   "execution_count": 5,
   "metadata": {},
   "outputs": [
    {
     "data": {
      "text/plain": [
       "'h'"
      ]
     },
     "execution_count": 5,
     "metadata": {},
     "output_type": "execute_result"
    }
   ],
   "source": [
    "a = \"Life is too short, You need Python\"\n",
    "#a[0]\n",
    "#a[2]\n",
    "#a[-2]\n",
    "a[13] #0과 같다"
   ]
  },
  {
   "cell_type": "markdown",
   "metadata": {},
   "source": [
    "### 2. 문자열 슬라이싱"
   ]
  },
  {
   "cell_type": "markdown",
   "metadata": {},
   "source": [
    "문자열에서 단순히 한 문자만을 뽑아내는 것이 아니라 'Life' 또는 'You'같은 단어들을 뽑아내는 방법"
   ]
  },
  {
   "cell_type": "markdown",
   "metadata": {},
   "source": [
    "#### 1. 인덱싱 연산"
   ]
  },
  {
   "cell_type": "code",
   "execution_count": 24,
   "metadata": {},
   "outputs": [],
   "source": [
    "a = \"Life is too short, You need Python\""
   ]
  },
  {
   "cell_type": "code",
   "execution_count": 7,
   "metadata": {},
   "outputs": [
    {
     "data": {
      "text/plain": [
       "'L'"
      ]
     },
     "execution_count": 7,
     "metadata": {},
     "output_type": "execute_result"
    }
   ],
   "source": [
    "a[0]"
   ]
  },
  {
   "cell_type": "code",
   "execution_count": 8,
   "metadata": {},
   "outputs": [
    {
     "data": {
      "text/plain": [
       "'i'"
      ]
     },
     "execution_count": 8,
     "metadata": {},
     "output_type": "execute_result"
    }
   ],
   "source": [
    "a[1]"
   ]
  },
  {
   "cell_type": "code",
   "execution_count": 9,
   "metadata": {},
   "outputs": [
    {
     "data": {
      "text/plain": [
       "'Life'"
      ]
     },
     "execution_count": 9,
     "metadata": {},
     "output_type": "execute_result"
    }
   ],
   "source": [
    "b = a[0]+a[1]+a[2]+a[3]\n",
    "b"
   ]
  },
  {
   "cell_type": "markdown",
   "metadata": {},
   "source": [
    "#### 2. 슬라이싱\n",
    "\n",
    "슬라이싱(slicing) = 잘라냄"
   ]
  },
  {
   "cell_type": "markdown",
   "metadata": {},
   "source": [
    "1. 끝 번호는 생략하여 출력한다"
   ]
  },
  {
   "cell_type": "code",
   "execution_count": 10,
   "metadata": {},
   "outputs": [
    {
     "data": {
      "text/plain": [
       "'Lif'"
      ]
     },
     "execution_count": 10,
     "metadata": {},
     "output_type": "execute_result"
    }
   ],
   "source": [
    "a[0:3]"
   ]
  },
  {
   "cell_type": "markdown",
   "metadata": {},
   "source": [
    "슬라이싱은 변수[시작번호:끝번호] 로 한다. \n",
    "\n",
    "여기서 끝 번호에 해당하는 인자값은 포함하지 않는다. half-open interval이라고도 불린다. \n",
    "\n",
    "a[0:3]을 수식으로 나타내면 다음과 같다. \n",
    "\n",
    "``` \n",
    "0 <= a <3\n",
    "\n",
    "```\n",
    "\n",
    "이 수식을 만족하는 a의 인자값은 a[0], a[1], a[2]이고, a[0:3]은 'Lif'가, a[0:4]은 'Life'가 되는 것임. "
   ]
  },
  {
   "cell_type": "markdown",
   "metadata": {},
   "source": [
    "2. 공백 역시 문자열이므로 인덱싱 및 슬라이싱의 대상이 된다"
   ]
  },
  {
   "cell_type": "code",
   "execution_count": null,
   "metadata": {},
   "outputs": [],
   "source": [
    "a[0:5]"
   ]
  },
  {
   "cell_type": "markdown",
   "metadata": {},
   "source": [
    "'life'와 'life '는 완전히 다른 문자열임을 주의**"
   ]
  },
  {
   "cell_type": "markdown",
   "metadata": {},
   "source": [
    "3. 문자열의 요소값은 immutable한 자료형이기 때문에 슬라이싱 한 것을 임의의 다른 문자열로 대체할 수 없다. "
   ]
  },
  {
   "cell_type": "code",
   "execution_count": 11,
   "metadata": {},
   "outputs": [
    {
     "data": {
      "text/plain": [
       "'F'"
      ]
     },
     "execution_count": 11,
     "metadata": {},
     "output_type": "execute_result"
    }
   ],
   "source": [
    "a = \"Flower\"\n",
    "a[0]"
   ]
  },
  {
   "cell_type": "code",
   "execution_count": 15,
   "metadata": {},
   "outputs": [
    {
     "name": "stdout",
     "output_type": "stream",
     "text": [
      "F\n"
     ]
    }
   ],
   "source": [
    "a[0] = 'f' #이렇게 대체할 수 없다. 오류메세지가 뜸. \n",
    "a = 'f'\n",
    "a =a[0]\n",
    "print(a)"
   ]
  },
  {
   "cell_type": "code",
   "execution_count": 19,
   "metadata": {},
   "outputs": [],
   "source": [
    "#대안 1\n",
    "a = \"Flower\"\n",
    "#a[:0]\n",
    "#a[1:]\n",
    "#a[:0] + 'f' + a[1:]"
   ]
  },
  {
   "cell_type": "markdown",
   "metadata": {},
   "source": [
    "a. 끝번호 생략하여 끝까지 슬라이싱\n"
   ]
  },
  {
   "cell_type": "code",
   "execution_count": 25,
   "metadata": {},
   "outputs": [
    {
     "data": {
      "text/plain": [
       "'is too short, You need Python'"
      ]
     },
     "execution_count": 25,
     "metadata": {},
     "output_type": "execute_result"
    }
   ],
   "source": [
    "a[5:]"
   ]
  },
  {
   "cell_type": "markdown",
   "metadata": {},
   "source": [
    "b. 시작번호 생략하여 처음부터 슬라이싱"
   ]
  },
  {
   "cell_type": "code",
   "execution_count": 26,
   "metadata": {},
   "outputs": [
    {
     "data": {
      "text/plain": [
       "'Life '"
      ]
     },
     "execution_count": 26,
     "metadata": {},
     "output_type": "execute_result"
    }
   ],
   "source": [
    "a[:5]"
   ]
  },
  {
   "cell_type": "markdown",
   "metadata": {},
   "source": [
    "c. 문자열의 처음부터 끝까지 슬라이싱"
   ]
  },
  {
   "cell_type": "code",
   "execution_count": 27,
   "metadata": {},
   "outputs": [
    {
     "data": {
      "text/plain": [
       "'Life is too short, You need Python'"
      ]
     },
     "execution_count": 27,
     "metadata": {},
     "output_type": "execute_result"
    }
   ],
   "source": [
    "a[:]"
   ]
  },
  {
   "cell_type": "markdown",
   "metadata": {},
   "source": [
    "d. 슬라이싱도 인덱싱과 마찬가지로 마이너스(-) 기호 사용"
   ]
  },
  {
   "cell_type": "code",
   "execution_count": 29,
   "metadata": {},
   "outputs": [
    {
     "data": {
      "text/plain": [
       "'n'"
      ]
     },
     "execution_count": 29,
     "metadata": {},
     "output_type": "execute_result"
    }
   ],
   "source": [
    "#a[19:-7]\n",
    "a[-1]"
   ]
  },
  {
   "cell_type": "markdown",
   "metadata": {},
   "source": [
    "## 3. 문자열 포매팅 (Formatting)"
   ]
  },
  {
   "cell_type": "markdown",
   "metadata": {},
   "source": [
    "문자열 내에 어떤 값을 대체하는 방법임. \n",
    "\n",
    "예를 들어, 아래와 같이 일부 숫자나 문자만 다르고 나머지가 반복되는 형태의 문장이라고 보자. \n",
    "\n",
    "예1. \n",
    "\n",
    "a. 오늘 서울의 최고 기온은 <b>26</b>도 입니다.\n",
    "\n",
    "b. 오늘 서울의 최고 기온은 <b>30</b>도 입니다. \n",
    "\n",
    "\n",
    "예2. \n",
    "\n",
    "a. <b>benzlover123</b>님 회원가입 신청이 완료되었습니다.  \n",
    "\n",
    "b. <b>mymoo0710</b>님 회원가입 신청이 완료되었습니다. \n",
    "\n",
    "이럴 때, 반복되는 문장을 일일이 다 입력하는 것은 수고로우니, 그 중 반복되지 않는 일부분만 대체하고자할때 쓰는 방법이 문자 Formatting이다. 이때, <b>문자열 포맷 코드</b>를 활용한다. "
   ]
  },
  {
   "cell_type": "markdown",
   "metadata": {},
   "source": [
    "### 3.1. 문자열 포맷 코드"
   ]
  },
  {
   "cell_type": "markdown",
   "metadata": {},
   "source": [
    "|코드|설명             |\n",
    "|---|:---------------:|\n",
    "|%s |  문자열(String)|\n",
    "|%c| 문자1개(character)|\n",
    "|%d|정수(Integer)|\n",
    "|%f|부동소수(floating-point)|\n",
    "|%o|8진수|\n",
    "|%x|16진수|\n",
    "|%%|Literal%(문자%그대로)|"
   ]
  },
  {
   "cell_type": "markdown",
   "metadata": {},
   "source": [
    "a. 숫자 대입\n"
   ]
  },
  {
   "cell_type": "code",
   "execution_count": 38,
   "metadata": {},
   "outputs": [],
   "source": [
    "a = \"지난 주 등록한 회원 수는 총 %d명 입니다\" %10"
   ]
  },
  {
   "cell_type": "code",
   "execution_count": 39,
   "metadata": {},
   "outputs": [
    {
     "data": {
      "text/plain": [
       "'지난 주 등록한 회원 수는 총 10명 입니다'"
      ]
     },
     "execution_count": 39,
     "metadata": {},
     "output_type": "execute_result"
    }
   ],
   "source": [
    "a"
   ]
  },
  {
   "cell_type": "markdown",
   "metadata": {},
   "source": [
    "b. 문자열 대입"
   ]
  },
  {
   "cell_type": "code",
   "execution_count": 43,
   "metadata": {},
   "outputs": [],
   "source": [
    "b = \"지난 주 등록한 신규 회원은 %s입니다.\" %\"김서울\""
   ]
  },
  {
   "cell_type": "code",
   "execution_count": 44,
   "metadata": {},
   "outputs": [
    {
     "data": {
      "text/plain": [
       "'지난 주 등록한 신규 회원은 김서울입니다.'"
      ]
     },
     "execution_count": 44,
     "metadata": {},
     "output_type": "execute_result"
    }
   ],
   "source": [
    "b"
   ]
  },
  {
   "cell_type": "markdown",
   "metadata": {},
   "source": [
    "c. 변수 대입"
   ]
  },
  {
   "cell_type": "code",
   "execution_count": 46,
   "metadata": {},
   "outputs": [
    {
     "data": {
      "text/plain": [
       "'I went to the gym 10 times last week'"
      ]
     },
     "execution_count": 46,
     "metadata": {},
     "output_type": "execute_result"
    }
   ],
   "source": [
    "number = 10\n",
    "\"I went to the gym %d times last week\" % number"
   ]
  },
  {
   "cell_type": "markdown",
   "metadata": {},
   "source": [
    "d. 여러개의 값 넣기 "
   ]
  },
  {
   "cell_type": "code",
   "execution_count": 47,
   "metadata": {},
   "outputs": [
    {
     "data": {
      "text/plain": [
       "'공유님께서 마지막으로 결제한 일자는 12월 31일입니다'"
      ]
     },
     "execution_count": 47,
     "metadata": {},
     "output_type": "execute_result"
    }
   ],
   "source": [
    "name = \"공유\"\n",
    "month = 12\n",
    "date = 31\n",
    "\n",
    "\"%s님께서 마지막으로 결제한 일자는 %d월 %d일입니다\" % (name,month,date)"
   ]
  },
  {
   "cell_type": "markdown",
   "metadata": {},
   "source": [
    "c. Literal %을 써야할 때. "
   ]
  },
  {
   "cell_type": "code",
   "execution_count": 48,
   "metadata": {},
   "outputs": [
    {
     "ename": "TypeError",
     "evalue": "not enough arguments for format string",
     "output_type": "error",
     "traceback": [
      "\u001b[0;31m------------------------------------------------\u001b[0m",
      "\u001b[0;31mTypeError\u001b[0m      Traceback (most recent call last)",
      "\u001b[0;32m<ipython-input-48-5f6d948be5e4>\u001b[0m in \u001b[0;36m<module>\u001b[0;34m()\u001b[0m\n\u001b[0;32m----> 1\u001b[0;31m \u001b[0;34m\"올해 예상 매출액증가율은 %d%이다\"\u001b[0m \u001b[0;34m%\u001b[0m\u001b[0;36m30\u001b[0m\u001b[0;34m\u001b[0m\u001b[0;34m\u001b[0m\u001b[0m\n\u001b[0m",
      "\u001b[0;31mTypeError\u001b[0m: not enough arguments for format string"
     ]
    }
   ],
   "source": [
    "\"올해 예상 매출액증가율은 %d%이다\" %30"
   ]
  },
  {
   "cell_type": "code",
   "execution_count": 49,
   "metadata": {},
   "outputs": [
    {
     "data": {
      "text/plain": [
       "'올해 예상 매출액증가율은 30%이다'"
      ]
     },
     "execution_count": 49,
     "metadata": {},
     "output_type": "execute_result"
    }
   ],
   "source": [
    "\"올해 예상 매출액증가율은 %d%%이다\" %30"
   ]
  },
  {
   "cell_type": "markdown",
   "metadata": {},
   "source": [
    "### 4. 포맷 코드와 숫자 함께 사용하기"
   ]
  },
  {
   "cell_type": "markdown",
   "metadata": {},
   "source": [
    "기타 정렬 표현들"
   ]
  },
  {
   "cell_type": "markdown",
   "metadata": {},
   "source": [
    "a. 정렬과 공백"
   ]
  },
  {
   "cell_type": "markdown",
   "metadata": {},
   "source": [
    "길이가 n개인 문자열 공간에서 특정 문자열을 정렬하고 공백넣기. \n",
    "\n",
    "예1. 공백 + \"  world\" 오른쪽 정렬\n"
   ]
  },
  {
   "cell_type": "code",
   "execution_count": 51,
   "metadata": {},
   "outputs": [
    {
     "data": {
      "text/plain": [
       "'     world'"
      ]
     },
     "execution_count": 51,
     "metadata": {},
     "output_type": "execute_result"
    }
   ],
   "source": [
    "\"%10s\" % \"world\""
   ]
  },
  {
   "cell_type": "markdown",
   "metadata": {},
   "source": [
    "예2. 공백 + \"world\" 왼쪽 정렬"
   ]
  },
  {
   "cell_type": "code",
   "execution_count": 53,
   "metadata": {},
   "outputs": [
    {
     "data": {
      "text/plain": [
       "'world '"
      ]
     },
     "execution_count": 53,
     "metadata": {},
     "output_type": "execute_result"
    }
   ],
   "source": [
    "\"%-6s\" % \"world\""
   ]
  },
  {
   "cell_type": "code",
   "execution_count": 54,
   "metadata": {},
   "outputs": [
    {
     "data": {
      "text/plain": [
       "'hi jane.'"
      ]
     },
     "execution_count": 54,
     "metadata": {},
     "output_type": "execute_result"
    }
   ],
   "source": [
    "\"%-3sjane.\" % 'hi'"
   ]
  },
  {
   "cell_type": "markdown",
   "metadata": {},
   "source": [
    "b. 소수점 표현하기"
   ]
  },
  {
   "cell_type": "markdown",
   "metadata": {},
   "source": [
    "예 1. 원하는 자리까지만 표현하기"
   ]
  },
  {
   "cell_type": "code",
   "execution_count": 55,
   "metadata": {},
   "outputs": [
    {
     "data": {
      "text/plain": [
       "'0.7884'"
      ]
     },
     "execution_count": 55,
     "metadata": {},
     "output_type": "execute_result"
    }
   ],
   "source": [
    "\"%0.4f\" % 0.7883943"
   ]
  },
  {
   "cell_type": "markdown",
   "metadata": {},
   "source": [
    "예 2.전체 길이가 10개인 문자열 공간에서 오른쪽으로 정렬"
   ]
  },
  {
   "cell_type": "code",
   "execution_count": 56,
   "metadata": {},
   "outputs": [
    {
     "data": {
      "text/plain": [
       "'    0.7884'"
      ]
     },
     "execution_count": 56,
     "metadata": {},
     "output_type": "execute_result"
    }
   ],
   "source": [
    "\"%10.4f\" % 0.7883943"
   ]
  },
  {
   "cell_type": "markdown",
   "metadata": {},
   "source": [
    "## 5. Format() 함수"
   ]
  },
  {
   "cell_type": "markdown",
   "metadata": {},
   "source": [
    "1. 숫자 대입"
   ]
  },
  {
   "cell_type": "code",
   "execution_count": 57,
   "metadata": {},
   "outputs": [
    {
     "data": {
      "text/plain": [
       "'I went to the gym 3 times'"
      ]
     },
     "execution_count": 57,
     "metadata": {},
     "output_type": "execute_result"
    }
   ],
   "source": [
    "\"I went to the gym {0} times\".format(3)"
   ]
  },
  {
   "cell_type": "markdown",
   "metadata": {},
   "source": [
    "2. 문자열 대입"
   ]
  },
  {
   "cell_type": "code",
   "execution_count": 58,
   "metadata": {},
   "outputs": [
    {
     "data": {
      "text/plain": [
       "'I went to the gym three times'"
      ]
     },
     "execution_count": 58,
     "metadata": {},
     "output_type": "execute_result"
    }
   ],
   "source": [
    "\"I went to the gym {0} times\".format(\"three\")"
   ]
  },
  {
   "cell_type": "markdown",
   "metadata": {},
   "source": [
    "3. 변수 대입"
   ]
  },
  {
   "cell_type": "code",
   "execution_count": 60,
   "metadata": {},
   "outputs": [
    {
     "data": {
      "text/plain": [
       "'I went to the gym 10 times'"
      ]
     },
     "execution_count": 60,
     "metadata": {},
     "output_type": "execute_result"
    }
   ],
   "source": [
    "number = 10\n",
    "\n",
    "\"I went to the gym {0} times\".format(number)"
   ]
  },
  {
   "cell_type": "markdown",
   "metadata": {},
   "source": [
    "4. 2개 이상의 값 넣기"
   ]
  },
  {
   "cell_type": "code",
   "execution_count": 62,
   "metadata": {},
   "outputs": [
    {
     "data": {
      "text/plain": [
       "'I went to the gym 3 times with Shawn Mendes last week'"
      ]
     },
     "execution_count": 62,
     "metadata": {},
     "output_type": "execute_result"
    }
   ],
   "source": [
    "number = 3\n",
    "friend = \"Shawn Mendes\"\n",
    "\n",
    "\"I went to the gym {0} times with {1} last week\".format(number,friend) "
   ]
  },
  {
   "cell_type": "markdown",
   "metadata": {},
   "source": [
    "5.이름으로 넣기"
   ]
  },
  {
   "cell_type": "code",
   "execution_count": 61,
   "metadata": {},
   "outputs": [
    {
     "data": {
      "text/plain": [
       "'I went to the gym 10 times with Shawn Mendes last week'"
      ]
     },
     "execution_count": 61,
     "metadata": {},
     "output_type": "execute_result"
    }
   ],
   "source": [
    "\"I went to the gym {number} times with {friend} last week\".format(number=10,friend=\"Shawn Mendes\")\n",
    "#이때 각 변수에 꼭 매칭하여 지정해줘야한다. "
   ]
  },
  {
   "cell_type": "markdown",
   "metadata": {},
   "source": [
    "## 6.  문자열 관련 내장함수"
   ]
  },
  {
   "cell_type": "markdown",
   "metadata": {},
   "source": [
    "#### a. count(a)\n",
    "\n",
    "문자열 중 문자 a(예시)의 개수를 반환한다. "
   ]
  },
  {
   "cell_type": "code",
   "execution_count": 63,
   "metadata": {},
   "outputs": [
    {
     "data": {
      "text/plain": [
       "3"
      ]
     },
     "execution_count": 63,
     "metadata": {},
     "output_type": "execute_result"
    }
   ],
   "source": [
    "a = \"missisipi\"\n",
    "a.count('s')"
   ]
  },
  {
   "cell_type": "markdown",
   "metadata": {},
   "source": [
    "#### b. find(a)\n",
    "\n",
    "문자열 중 a가 처음으로 나오는 위치를 알려준다. 찾는 문자열이 없을 경우 -1을 반환한다. 순서와 위치는 인덱싱 규칙을 따르므로 0부터 시작한다. "
   ]
  },
  {
   "cell_type": "code",
   "execution_count": 64,
   "metadata": {},
   "outputs": [],
   "source": [
    "a = \"python\""
   ]
  },
  {
   "cell_type": "code",
   "execution_count": 65,
   "metadata": {},
   "outputs": [
    {
     "data": {
      "text/plain": [
       "0"
      ]
     },
     "execution_count": 65,
     "metadata": {},
     "output_type": "execute_result"
    }
   ],
   "source": [
    "a.find('p')"
   ]
  },
  {
   "cell_type": "code",
   "execution_count": 66,
   "metadata": {},
   "outputs": [
    {
     "data": {
      "text/plain": [
       "-1"
      ]
     },
     "execution_count": 66,
     "metadata": {},
     "output_type": "execute_result"
    }
   ],
   "source": [
    "a.find('b')"
   ]
  },
  {
   "cell_type": "markdown",
   "metadata": {},
   "source": [
    "#### c. index(a)\n",
    "\n",
    "find()와 마찬가지로 문자a가 처음 나온 위치를 반환한다.\n",
    "찾는 문자나 문자열이 존재하지 않는다면 오류를 반환한다.(이 점이 find()함수와의 차이점)"
   ]
  },
  {
   "cell_type": "code",
   "execution_count": 67,
   "metadata": {},
   "outputs": [
    {
     "data": {
      "text/plain": [
       "2"
      ]
     },
     "execution_count": 67,
     "metadata": {},
     "output_type": "execute_result"
    }
   ],
   "source": [
    "a.index('t')"
   ]
  },
  {
   "cell_type": "code",
   "execution_count": 68,
   "metadata": {},
   "outputs": [
    {
     "ename": "ValueError",
     "evalue": "substring not found",
     "output_type": "error",
     "traceback": [
      "\u001b[0;31m------------------------------------------------\u001b[0m",
      "\u001b[0;31mValueError\u001b[0m     Traceback (most recent call last)",
      "\u001b[0;32m<ipython-input-68-5b33718c91e6>\u001b[0m in \u001b[0;36m<module>\u001b[0;34m()\u001b[0m\n\u001b[0;32m----> 1\u001b[0;31m \u001b[0ma\u001b[0m\u001b[0;34m.\u001b[0m\u001b[0mindex\u001b[0m\u001b[0;34m(\u001b[0m\u001b[0mb\u001b[0m\u001b[0;34m)\u001b[0m\u001b[0;34m\u001b[0m\u001b[0;34m\u001b[0m\u001b[0m\n\u001b[0m",
      "\u001b[0;31mValueError\u001b[0m: substring not found"
     ]
    }
   ],
   "source": [
    "a.index(b)"
   ]
  },
  {
   "cell_type": "markdown",
   "metadata": {},
   "source": [
    "#### d. join()\n",
    "문자열 사이에 문자를 삽입할 때 쓰는 함수이다. "
   ]
  },
  {
   "cell_type": "code",
   "execution_count": 70,
   "metadata": {},
   "outputs": [
    {
     "data": {
      "text/plain": [
       "'p y t h o n'"
      ]
     },
     "execution_count": 70,
     "metadata": {},
     "output_type": "execute_result"
    }
   ],
   "source": [
    "\" \".join('python')"
   ]
  },
  {
   "cell_type": "markdown",
   "metadata": {},
   "source": [
    "이후 단원에서 다룰 내용이긴 하나, 리스트에도 적용할 수 있음"
   ]
  },
  {
   "cell_type": "code",
   "execution_count": 71,
   "metadata": {},
   "outputs": [
    {
     "data": {
      "text/plain": [
       "'a,b,c,d'"
      ]
     },
     "execution_count": 71,
     "metadata": {},
     "output_type": "execute_result"
    }
   ],
   "source": [
    "\",\".join(['a','b','c','d'])"
   ]
  },
  {
   "cell_type": "markdown",
   "metadata": {},
   "source": [
    "#### e. upper()"
   ]
  },
  {
   "cell_type": "code",
   "execution_count": 72,
   "metadata": {},
   "outputs": [
    {
     "data": {
      "text/plain": [
       "'HELLO'"
      ]
     },
     "execution_count": 72,
     "metadata": {},
     "output_type": "execute_result"
    }
   ],
   "source": [
    "x = \"hello\"\n",
    "x.upper()"
   ]
  },
  {
   "cell_type": "markdown",
   "metadata": {},
   "source": [
    "#### f. replace()\n"
   ]
  },
  {
   "cell_type": "code",
   "execution_count": 73,
   "metadata": {},
   "outputs": [
    {
     "data": {
      "text/plain": [
       "'Life is too long'"
      ]
     },
     "execution_count": 73,
     "metadata": {},
     "output_type": "execute_result"
    }
   ],
   "source": [
    "x = \"Life is too short\"\n",
    "x.replace(\"short\", \"long\")"
   ]
  },
  {
   "cell_type": "markdown",
   "metadata": {},
   "source": [
    "#### g. split()"
   ]
  },
  {
   "cell_type": "code",
   "execution_count": 74,
   "metadata": {},
   "outputs": [
    {
     "data": {
      "text/plain": [
       "['Life', 'is', 'too', 'short']"
      ]
     },
     "execution_count": 74,
     "metadata": {},
     "output_type": "execute_result"
    }
   ],
   "source": [
    "x.split()"
   ]
  },
  {
   "cell_type": "code",
   "execution_count": 75,
   "metadata": {
    "scrolled": true
   },
   "outputs": [
    {
     "data": {
      "text/plain": [
       "['1', '2', '3', '4']"
      ]
     },
     "execution_count": 75,
     "metadata": {},
     "output_type": "execute_result"
    }
   ],
   "source": [
    "y = \"1:2:3:4\"\n",
    "y.split(\":\") #List는 다음장에서"
   ]
  },
  {
   "cell_type": "markdown",
   "metadata": {},
   "source": [
    "## 실습"
   ]
  },
  {
   "cell_type": "markdown",
   "metadata": {},
   "source": [
    "실습 1. \n",
    "\n",
    "실습에 쓸 파일의 이름을 다음과 같이 concatenate해버렸다. 슬라이싱을 이용하여 날짜, 진도(Week3), 파일유형(Note)으로 구분하고 새 변수에 지정해보세요. (슬라이싱한 것도 각각 변수에 정의하여 나누어보세요)\n",
    "\n",
    "a = \"20190221Week2Note\""
   ]
  },
  {
   "cell_type": "code",
   "execution_count": null,
   "metadata": {},
   "outputs": [],
   "source": [
    "#실습 1. \n"
   ]
  },
  {
   "cell_type": "markdown",
   "metadata": {},
   "source": [
    "실습 2.\n",
    "\n",
    "<img src = \"data:image/png;base64,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\">\n",
    "\n",
    "2-1. 무민의 주민등록번호는 790708-1849231이다. 무민의 주민번호를 연월일(YYMMDD) 부분과 뒤 나머지 부분으로 나누어 출력해보세요\n",
    "\n",
    "2-2. 무민의 주민등록번호에서 성별을 나타내는 숫자의 인덱스를 출력해보세요."
   ]
  },
  {
   "cell_type": "code",
   "execution_count": null,
   "metadata": {},
   "outputs": [],
   "source": [
    "#실습 2-1\n"
   ]
  },
  {
   "cell_type": "code",
   "execution_count": null,
   "metadata": {},
   "outputs": [],
   "source": [
    "#실습 2-2\n"
   ]
  },
  {
   "cell_type": "markdown",
   "metadata": {},
   "source": [
    "실습3. \n",
    "\n",
    "아래 {}를 format함수 안에 지정된 인덱스 항목 및 변수를 참고하여 고쳐보세요"
   ]
  },
  {
   "cell_type": "code",
   "execution_count": null,
   "metadata": {},
   "outputs": [],
   "source": [
    "\"I went to the gym {a} times with {b} last week\".format(3, friend = \"Tom\")"
   ]
  },
  {
   "cell_type": "markdown",
   "metadata": {},
   "source": [
    "실습 4. \n",
    "\n",
    "주어진 문자열에 대해 필요한 함수를 써보세요. \n",
    "\n",
    "4-1. \"A:Journal:of:Experimental:Psychology\"를 \"A Journal of Experimental Psychology\"로 바꾸세요.\n",
    "\n",
    "4-2. 다음은 논문의 한 구절입니다. 여기서 \"T1\"이란 단어와 \"T2\"란 단어가 얼마나 자주나오는지 찾아보세요. 그런 다음, \"T1\"을 \"Target1\"으로, \"T2\"를 \"Target2\"로 바꾼 다음 다시 출력해보세요. 그리고 잘 바뀌었는지 확인해보세요. \n",
    "\n",
    "\"\"\"\n",
    "\n",
    "A recent article in the Psychonomic Society’s journal Attention, Perception, & Psychophysics explored the mechanisms underlying this spreading of sparing to positions beyond lag 1. Researchers Manuel Petrucci and Anna Pecchinenda departed from the observation in the literature that performance on T1 is better when it is an emotional stimulus—such as an emotional word or face—than when it is neutral. An emotional T1 also magnifies the attentional blink by further reducing detection performance on T2. Conversely, if T2 is itself an emotional stimulus, the attentional blink is reduced. Both of these findings are readily explained within a “limited-resource” account on which an emotional word attracts additional attention that is then unavailable for processing elsewhere. On the resource account, processing of a negatively-valenced T1 should consume additional attention that boosts T1 performance but to the detriment of both T2 and T3. By contrast, if resource-limitations are not the driving factor underlying the attentional blink, then the fact that all three targets are identified by the same color might enable them to be subsumed within the same attentional episode, thus sparing them from the attentional blink. Indeed, performance on T2 and T3 might even be enhanced on this account if T1 is an emotional word because it leads to particularly vigorous processing of the attentional episode. The results confirmed that the negatively-valenced T1 was detected with significantly greater accuracy than the neutral T1, although the difference was slight (88.3% vs. 86.5%). This confirms that the valence manipulation was successful and it is what would be expected under either account. The more intriguing outcome is shown in the next figure which plots performance on T3 conditional on correct report of T1 and T2.\n",
    "\n",
    "\"\"\""
   ]
  },
  {
   "cell_type": "code",
   "execution_count": null,
   "metadata": {},
   "outputs": [],
   "source": [
    "#실습 4-1\n",
    "\n"
   ]
  },
  {
   "cell_type": "code",
   "execution_count": 3,
   "metadata": {},
   "outputs": [],
   "source": [
    "#실습 4-2\n",
    "\n"
   ]
  }
 ],
 "metadata": {
  "kernelspec": {
   "display_name": "Python 3",
   "language": "python",
   "name": "python3"
  },
  "language_info": {
   "codemirror_mode": {
    "name": "ipython",
    "version": 3
   },
   "file_extension": ".py",
   "mimetype": "text/x-python",
   "name": "python",
   "nbconvert_exporter": "python",
   "pygments_lexer": "ipython3",
   "version": "3.6.8"
  }
 },
 "nbformat": 4,
 "nbformat_minor": 2
}
